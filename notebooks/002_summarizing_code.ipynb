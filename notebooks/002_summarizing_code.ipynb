{
 "cells": [
  {
   "cell_type": "markdown",
   "id": "0a21f9d4",
   "metadata": {},
   "source": [
    "# Summarizing the Code\n",
    "\n",
    "Let's starting digging into the public repositories. This will just be a surface level look to see how much code there really is."
   ]
  },
  {
   "cell_type": "code",
   "execution_count": 1,
   "id": "47d0cafb",
   "metadata": {
    "ExecuteTime": {
     "end_time": "2022-03-05T23:10:04.183530Z",
     "start_time": "2022-03-05T23:10:04.154424Z"
    }
   },
   "outputs": [],
   "source": [
    "import os\n",
    "import glob\n",
    "import json\n",
    "from tqdm.auto import tqdm"
   ]
  },
  {
   "cell_type": "markdown",
   "id": "e3646039",
   "metadata": {},
   "source": [
    "## Load Repositories"
   ]
  },
  {
   "cell_type": "markdown",
   "id": "6c129226",
   "metadata": {},
   "source": [
    "Load the repository directory."
   ]
  },
  {
   "cell_type": "code",
   "execution_count": 2,
   "id": "d8b34f6d",
   "metadata": {
    "ExecuteTime": {
     "end_time": "2022-03-05T23:10:04.594287Z",
     "start_time": "2022-03-05T23:10:04.582638Z"
    }
   },
   "outputs": [],
   "source": [
    "directory_path = os.path.join(\"..\", \"data\", \"directory.json\")\n",
    "\n",
    "with open(directory_path) as src:\n",
    "    directory = json.load(src)\n",
    "\n",
    "repos = list(directory.keys())"
   ]
  },
  {
   "cell_type": "markdown",
   "id": "06c760d7",
   "metadata": {},
   "source": [
    "Remember, we have about 11,000 public repositories."
   ]
  },
  {
   "cell_type": "code",
   "execution_count": 3,
   "id": "0f42063d",
   "metadata": {
    "ExecuteTime": {
     "end_time": "2022-03-05T23:10:04.904592Z",
     "start_time": "2022-03-05T23:10:04.898683Z"
    }
   },
   "outputs": [
    {
     "data": {
      "text/plain": [
       "11175"
      ]
     },
     "execution_count": 3,
     "metadata": {},
     "output_type": "execute_result"
    }
   ],
   "source": [
    "len(repos)"
   ]
  },
  {
   "cell_type": "markdown",
   "id": "d6cf09ff",
   "metadata": {},
   "source": [
    "Build paths to each repository."
   ]
  },
  {
   "cell_type": "code",
   "execution_count": 4,
   "id": "d050b115",
   "metadata": {
    "ExecuteTime": {
     "end_time": "2022-03-05T23:10:05.435329Z",
     "start_time": "2022-03-05T23:10:05.426409Z"
    }
   },
   "outputs": [],
   "source": [
    "repo_dir = os.path.join(\"..\", \"data\", \"repos\")\n",
    "repo_paths = [os.path.join(repo_dir, repo) for repo in repos]"
   ]
  },
  {
   "cell_type": "markdown",
   "id": "87a2e1db",
   "metadata": {},
   "source": [
    "### Filter Invalid Repos"
   ]
  },
  {
   "cell_type": "markdown",
   "id": "3af3c946",
   "metadata": {},
   "source": [
    "Some repositories may have been skipped due to invalid paths. Let's see how many of the repos in the directory weren't cloned."
   ]
  },
  {
   "cell_type": "code",
   "execution_count": 5,
   "id": "6e11ad03",
   "metadata": {
    "ExecuteTime": {
     "end_time": "2022-03-05T23:11:07.918177Z",
     "start_time": "2022-03-05T23:10:07.383092Z"
    }
   },
   "outputs": [
    {
     "data": {
      "text/plain": [
       "3"
      ]
     },
     "execution_count": 5,
     "metadata": {},
     "output_type": "execute_result"
    }
   ],
   "source": [
    "missing_repos = [repo for repo in repo_paths if not os.path.exists(repo)]\n",
    "len(missing_repos)"
   ]
  },
  {
   "cell_type": "markdown",
   "id": "9051e143",
   "metadata": {},
   "source": [
    "Other repositories may have failed to clone due to bad filenames within the repository or connection issues. There's not much we can do if a repository partially failed to clone and is missing one or two files, but let's at least see how many failed completely and have *no* files."
   ]
  },
  {
   "cell_type": "code",
   "execution_count": 6,
   "id": "0100cebd",
   "metadata": {
    "ExecuteTime": {
     "end_time": "2022-03-05T23:14:25.632569Z",
     "start_time": "2022-03-05T23:11:11.326419Z"
    }
   },
   "outputs": [
    {
     "data": {
      "text/plain": [
       "41"
      ]
     },
     "execution_count": 6,
     "metadata": {},
     "output_type": "execute_result"
    }
   ],
   "source": [
    "empty_repos = [repo for repo in repo_paths if os.path.exists(repo) and os.listdir(repo) == []]\n",
    "len(empty_repos)"
   ]
  },
  {
   "cell_type": "markdown",
   "id": "80125c0c",
   "metadata": {},
   "source": [
    "So out of our original ~11,000 repositories, only about 0.4% are missing. Not bad. Let's exclude those from future analysis."
   ]
  },
  {
   "cell_type": "code",
   "execution_count": 7,
   "id": "0d57875c",
   "metadata": {
    "ExecuteTime": {
     "end_time": "2022-03-05T23:14:25.639751Z",
     "start_time": "2022-03-05T23:14:25.633801Z"
    }
   },
   "outputs": [
    {
     "data": {
      "text/plain": [
       "11131"
      ]
     },
     "execution_count": 7,
     "metadata": {},
     "output_type": "execute_result"
    }
   ],
   "source": [
    "invalid_repos = missing_repos + empty_repos\n",
    "\n",
    "valid_repos = [repo for repo in repo_paths if repo not in invalid_repos]\n",
    "len(valid_repos)"
   ]
  },
  {
   "cell_type": "markdown",
   "id": "55e06951",
   "metadata": {},
   "source": [
    "## Locating Code"
   ]
  },
  {
   "cell_type": "markdown",
   "id": "c3055a28",
   "metadata": {},
   "source": [
    "GEE is written in Javascript, but source files created in the Code Editor do not have a `.js` extension, which will make them harder to find. We'll write a function to recursively look through each repository directory and pull out anything that looks like source code. At the same time, we'll add that `.js` extension to make it easier to find and analyze the code in the future."
   ]
  },
  {
   "cell_type": "code",
   "execution_count": 8,
   "id": "c1b3d1ce",
   "metadata": {
    "ExecuteTime": {
     "end_time": "2022-03-05T23:14:47.932839Z",
     "start_time": "2022-03-05T23:14:47.929837Z"
    }
   },
   "outputs": [],
   "source": [
    "def get_source_files(directory):\n",
    "    \"\"\"Find all the files that are probably Earth Engine source code in a given directory.\n",
    "    Files should have no extension or .js extension, not be included in a hidden directory\n",
    "    like .git, and not be in a list of commonly excluded files.\n",
    "    \n",
    "    This function also renames all non-js source files to .js to\n",
    "    allow code analysis later on.\n",
    "    \"\"\"\n",
    "    # Common non-source files that might be included in a repository and don't have a file extension.\n",
    "    exclude_files = [\"LICENSE\"]\n",
    "                     \n",
    "    # List all files and folders recursively, excluding hidden stuff (e.g. .git)\n",
    "    everything = glob.glob(os.path.join(directory, \"**\", \"*\"), recursive=True)\n",
    "    \n",
    "    source_files = []\n",
    "    for file in everything:\n",
    "        # Exclude subdirectories\n",
    "        if not os.path.isfile(file):\n",
    "            continue\n",
    "        # Exclude specific files\n",
    "        if os.path.basename(file) in exclude_files:\n",
    "            continue\n",
    "        # Exclude any filetypes other than JS\n",
    "        if \".\" in file and not file.endswith(\".js\"):\n",
    "            continue\n",
    "        # Add .js extension to all source files for later analysis\n",
    "        if not file.endswith(\".js\"):\n",
    "            os.rename(file, file + \".js\")\n",
    "            file = file + \".js\"\n",
    "        \n",
    "        source_files.append(file)\n",
    "        \n",
    "    return source_files"
   ]
  },
  {
   "cell_type": "markdown",
   "id": "686f12b7",
   "metadata": {},
   "source": [
    "Find and add `.js` extension to all source code files. This can't be undone, so back up your cloned repos if you're concerned about changing filenames."
   ]
  },
  {
   "cell_type": "code",
   "execution_count": 9,
   "id": "d3745346",
   "metadata": {
    "ExecuteTime": {
     "end_time": "2022-03-05T23:26:34.956443Z",
     "start_time": "2022-03-05T23:14:48.845730Z"
    }
   },
   "outputs": [],
   "source": [
    "source_files = []\n",
    "\n",
    "for repo in valid_repos:\n",
    "    source_files += get_source_files(repo)"
   ]
  },
  {
   "cell_type": "markdown",
   "id": "7595e19c",
   "metadata": {},
   "source": [
    "## Code Stats"
   ]
  },
  {
   "cell_type": "markdown",
   "id": "b008e8bf",
   "metadata": {},
   "source": [
    "So, how many source code files do we have?"
   ]
  },
  {
   "cell_type": "code",
   "execution_count": 10,
   "id": "ca19ddcd",
   "metadata": {
    "ExecuteTime": {
     "end_time": "2022-03-05T23:32:24.897051Z",
     "start_time": "2022-03-05T23:32:24.887344Z"
    }
   },
   "outputs": [
    {
     "data": {
      "text/plain": [
       "'There are 213,393 source code files!'"
      ]
     },
     "execution_count": 10,
     "metadata": {},
     "output_type": "execute_result"
    }
   ],
   "source": [
    "f\"There are {len(source_files):,} source code files!\""
   ]
  },
  {
   "cell_type": "markdown",
   "id": "4635c041",
   "metadata": {},
   "source": [
    "How much storage space does this source code take up? We'll use `os.path.getsize` to return the size in bytes of each source file."
   ]
  },
  {
   "cell_type": "code",
   "execution_count": 11,
   "id": "754449af",
   "metadata": {
    "ExecuteTime": {
     "end_time": "2022-03-05T23:32:43.104534Z",
     "start_time": "2022-03-05T23:32:29.138204Z"
    }
   },
   "outputs": [],
   "source": [
    "source_sizes = {}\n",
    "\n",
    "for file in source_files:\n",
    "    source_sizes[file] = os.path.getsize(file)"
   ]
  },
  {
   "cell_type": "markdown",
   "id": "9f111bba",
   "metadata": {},
   "source": [
    "Get the total byes and convert to gigabytes."
   ]
  },
  {
   "cell_type": "code",
   "execution_count": 12,
   "id": "f608f3e3",
   "metadata": {
    "ExecuteTime": {
     "end_time": "2022-03-05T23:32:43.109819Z",
     "start_time": "2022-03-05T23:32:43.105426Z"
    }
   },
   "outputs": [
    {
     "data": {
      "text/plain": [
       "3.756135441"
      ]
     },
     "execution_count": 12,
     "metadata": {},
     "output_type": "execute_result"
    }
   ],
   "source": [
    "sum(source_sizes.values()) / 1_000_000_000"
   ]
  },
  {
   "cell_type": "markdown",
   "id": "b6fbc700",
   "metadata": {},
   "source": [
    "Almost 4 gigabytes of source code!"
   ]
  },
  {
   "cell_type": "markdown",
   "id": "3ab11a3a",
   "metadata": {},
   "source": [
    "### Lines of Code\n",
    "\n",
    "One way to analyze source code is to count lines of code (LOC). This excludes whitespace and documentation to give a good idea of how much executable code actually exists within files. We'll use the [pygount](https://github.com/roskakori/pygount) package to run this analysis."
   ]
  },
  {
   "cell_type": "code",
   "execution_count": 13,
   "id": "a9819a2e",
   "metadata": {
    "ExecuteTime": {
     "end_time": "2022-03-05T23:32:53.778153Z",
     "start_time": "2022-03-05T23:32:53.720276Z"
    }
   },
   "outputs": [],
   "source": [
    "from pygount import SourceAnalysis"
   ]
  },
  {
   "cell_type": "markdown",
   "id": "b8b92d70",
   "metadata": {},
   "source": [
    "Count the lines of code and documentation in all source files. This will take some time."
   ]
  },
  {
   "cell_type": "code",
   "execution_count": null,
   "id": "c027d9b9",
   "metadata": {
    "scrolled": true
   },
   "outputs": [],
   "source": [
    "input(\"Are you sure you want to run?\")\n",
    "\n",
    "lines_of_code = 0\n",
    "lines_of_doc = 0\n",
    "\n",
    "for file in tqdm(source_files, desc=\"Analyzing\"):\n",
    "    analysis = SourceAnalysis.from_file(source_path=file, encoding=\"utf-8\", group=\"ee\")\n",
    "    \n",
    "    lines_of_code += analysis.code_count\n",
    "    lines_of_doc += analysis.documentation_count"
   ]
  },
  {
   "cell_type": "code",
   "execution_count": null,
   "id": "776cb99f",
   "metadata": {},
   "outputs": [],
   "source": [
    "print(lines_of_code)\n",
    "print(lines_of_doc)"
   ]
  }
 ],
 "metadata": {
  "kernelspec": {
   "display_name": "Python [conda env:eestats]",
   "language": "python",
   "name": "conda-env-eestats-py"
  },
  "language_info": {
   "codemirror_mode": {
    "name": "ipython",
    "version": 3
   },
   "file_extension": ".py",
   "mimetype": "text/x-python",
   "name": "python",
   "nbconvert_exporter": "python",
   "pygments_lexer": "ipython3",
   "version": "3.10.2"
  },
  "toc": {
   "base_numbering": 1,
   "nav_menu": {},
   "number_sections": true,
   "sideBar": true,
   "skip_h1_title": false,
   "title_cell": "Table of Contents",
   "title_sidebar": "Contents",
   "toc_cell": false,
   "toc_position": {},
   "toc_section_display": true,
   "toc_window_display": false
  }
 },
 "nbformat": 4,
 "nbformat_minor": 5
}
