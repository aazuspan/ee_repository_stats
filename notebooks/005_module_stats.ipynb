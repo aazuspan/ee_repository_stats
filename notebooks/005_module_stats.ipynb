{
 "cells": [
  {
   "cell_type": "markdown",
   "id": "03010937",
   "metadata": {},
   "source": [
    "# Module Stats\n",
    "\n",
    "Now let's see which open source modules get imported most frequently."
   ]
  },
  {
   "cell_type": "code",
   "execution_count": 13,
   "id": "aba7839a",
   "metadata": {
    "ExecuteTime": {
     "end_time": "2022-03-05T21:13:03.999440Z",
     "start_time": "2022-03-05T21:13:03.933334Z"
    }
   },
   "outputs": [],
   "source": [
    "import os\n",
    "import pandas as pd\n",
    "import plotly.express as px"
   ]
  },
  {
   "cell_type": "markdown",
   "id": "422fda66",
   "metadata": {},
   "source": [
    "## Loading Module Data"
   ]
  },
  {
   "cell_type": "code",
   "execution_count": 110,
   "id": "7358e15c",
   "metadata": {
    "ExecuteTime": {
     "end_time": "2022-03-05T21:43:45.448883Z",
     "start_time": "2022-03-05T21:43:45.443540Z"
    }
   },
   "outputs": [],
   "source": [
    "module_df = pd.read_csv(os.path.join(\"..\", \"data\", \"modules.csv\")).sort_values(by=\"imports\", ascending=False)"
   ]
  },
  {
   "cell_type": "code",
   "execution_count": 111,
   "id": "7bdbbaf8",
   "metadata": {
    "ExecuteTime": {
     "end_time": "2022-03-05T21:43:45.653212Z",
     "start_time": "2022-03-05T21:43:45.644177Z"
    }
   },
   "outputs": [
    {
     "data": {
      "text/html": [
       "<div>\n",
       "<style scoped>\n",
       "    .dataframe tbody tr th:only-of-type {\n",
       "        vertical-align: middle;\n",
       "    }\n",
       "\n",
       "    .dataframe tbody tr th {\n",
       "        vertical-align: top;\n",
       "    }\n",
       "\n",
       "    .dataframe thead th {\n",
       "        text-align: right;\n",
       "    }\n",
       "</style>\n",
       "<table border=\"1\" class=\"dataframe\">\n",
       "  <thead>\n",
       "    <tr style=\"text-align: right;\">\n",
       "      <th></th>\n",
       "      <th>module</th>\n",
       "      <th>imports</th>\n",
       "    </tr>\n",
       "  </thead>\n",
       "  <tbody>\n",
       "    <tr>\n",
       "      <th>4</th>\n",
       "      <td>users/gena/packages:palettes</td>\n",
       "      <td>3587</td>\n",
       "    </tr>\n",
       "    <tr>\n",
       "      <th>147</th>\n",
       "      <td>users/elacerda/geet:geet</td>\n",
       "      <td>2635</td>\n",
       "    </tr>\n",
       "    <tr>\n",
       "      <th>32</th>\n",
       "      <td>users/fitoprincipe/geetools:batch</td>\n",
       "      <td>2036</td>\n",
       "    </tr>\n",
       "    <tr>\n",
       "      <th>20</th>\n",
       "      <td>users/mapbiomas/modules:Palettes.js</td>\n",
       "      <td>1937</td>\n",
       "    </tr>\n",
       "    <tr>\n",
       "      <th>13</th>\n",
       "      <td>users/gena/packages:text</td>\n",
       "      <td>1165</td>\n",
       "    </tr>\n",
       "    <tr>\n",
       "      <th>71</th>\n",
       "      <td>users/emaprlab/public:Modules/LandTrendr.js</td>\n",
       "      <td>943</td>\n",
       "    </tr>\n",
       "    <tr>\n",
       "      <th>14</th>\n",
       "      <td>users/gena/packages:animation</td>\n",
       "      <td>806</td>\n",
       "    </tr>\n",
       "    <tr>\n",
       "      <th>81</th>\n",
       "      <td>users/gena/packages:style</td>\n",
       "      <td>777</td>\n",
       "    </tr>\n",
       "    <tr>\n",
       "      <th>92</th>\n",
       "      <td>users/fitoprincipe/geetools:cloud_masks</td>\n",
       "      <td>665</td>\n",
       "    </tr>\n",
       "    <tr>\n",
       "      <th>16</th>\n",
       "      <td>users/gena/packages:utils</td>\n",
       "      <td>574</td>\n",
       "    </tr>\n",
       "  </tbody>\n",
       "</table>\n",
       "</div>"
      ],
      "text/plain": [
       "                                          module  imports\n",
       "4                   users/gena/packages:palettes     3587\n",
       "147                     users/elacerda/geet:geet     2635\n",
       "32             users/fitoprincipe/geetools:batch     2036\n",
       "20           users/mapbiomas/modules:Palettes.js     1937\n",
       "13                      users/gena/packages:text     1165\n",
       "71   users/emaprlab/public:Modules/LandTrendr.js      943\n",
       "14                 users/gena/packages:animation      806\n",
       "81                     users/gena/packages:style      777\n",
       "92       users/fitoprincipe/geetools:cloud_masks      665\n",
       "16                     users/gena/packages:utils      574"
      ]
     },
     "execution_count": 111,
     "metadata": {},
     "output_type": "execute_result"
    }
   ],
   "source": [
    "module_df[:10]"
   ]
  },
  {
   "cell_type": "code",
   "execution_count": 112,
   "id": "b9d52698",
   "metadata": {
    "ExecuteTime": {
     "end_time": "2022-03-05T21:43:45.880605Z",
     "start_time": "2022-03-05T21:43:45.872863Z"
    }
   },
   "outputs": [],
   "source": [
    "def parse_user(module_name):\n",
    "    try:\n",
    "        return module_name.split(\"/\")[1]\n",
    "    except IndexError:\n",
    "        return None\n",
    "    \n",
    "def parse_module_name(module_name):\n",
    "    try:\n",
    "        return module_name.split(\":\")[-1]\n",
    "    except IndexError:\n",
    "        return None\n",
    "\n",
    "module_df[\"user\"] = module_df.module.apply(parse_user)\n",
    "module_df[\"module_name\"] = module_df.module.apply(parse_module_name)"
   ]
  },
  {
   "cell_type": "markdown",
   "id": "972732cc",
   "metadata": {},
   "source": [
    "## Modules by User"
   ]
  },
  {
   "cell_type": "markdown",
   "id": "5fb83949",
   "metadata": {},
   "source": [
    "Let's get the top 5 module creators by total imports."
   ]
  },
  {
   "cell_type": "code",
   "execution_count": 113,
   "id": "4cb11b90",
   "metadata": {
    "ExecuteTime": {
     "end_time": "2022-03-05T21:43:47.614062Z",
     "start_time": "2022-03-05T21:43:47.606169Z"
    }
   },
   "outputs": [],
   "source": [
    "top_users = module_df.groupby(\"user\").sum().sort_values(by=\"imports\", ascending=False).reset_index().user[:5]"
   ]
  },
  {
   "cell_type": "code",
   "execution_count": 150,
   "id": "53a373b3",
   "metadata": {
    "ExecuteTime": {
     "end_time": "2022-03-05T21:52:14.611448Z",
     "start_time": "2022-03-05T21:52:14.606893Z"
    }
   },
   "outputs": [],
   "source": [
    "module_df = module_df.sort_values(by=[\"imports\"], ascending=False)"
   ]
  },
  {
   "cell_type": "code",
   "execution_count": 154,
   "id": "07971fb6",
   "metadata": {
    "ExecuteTime": {
     "end_time": "2022-03-05T21:52:34.105500Z",
     "start_time": "2022-03-05T21:52:33.842627Z"
    }
   },
   "outputs": [
    {
     "data": {
      "application/vnd.plotly.v1+json": {
       "config": {
        "plotlyServerURL": "https://plot.ly"
       },
       "data": [
        {
         "alignmentgroup": "True",
         "hovertemplate": "module_name=%{text}<br>Contributor=%{x}<br>Total Imports=%{y}<extra></extra>",
         "legendgroup": "palettes",
         "marker": {
          "color": "rgb(127, 60, 141)",
          "pattern": {
           "shape": ""
          }
         },
         "name": "palettes",
         "offsetgroup": "palettes",
         "orientation": "v",
         "showlegend": false,
         "text": [
          "palettes"
         ],
         "textposition": "inside",
         "type": "bar",
         "x": [
          "gena"
         ],
         "xaxis": "x",
         "y": [
          3587
         ],
         "yaxis": "y"
        },
        {
         "alignmentgroup": "True",
         "hovertemplate": "module_name=%{text}<br>Contributor=%{x}<br>Total Imports=%{y}<extra></extra>",
         "legendgroup": "geet",
         "marker": {
          "color": "rgb(17, 165, 121)",
          "pattern": {
           "shape": ""
          }
         },
         "name": "geet",
         "offsetgroup": "geet",
         "orientation": "v",
         "showlegend": false,
         "text": [
          "geet"
         ],
         "textposition": "inside",
         "type": "bar",
         "x": [
          "elacerda"
         ],
         "xaxis": "x",
         "y": [
          2635
         ],
         "yaxis": "y"
        },
        {
         "alignmentgroup": "True",
         "hovertemplate": "module_name=%{text}<br>Contributor=%{x}<br>Total Imports=%{y}<extra></extra>",
         "legendgroup": "batch",
         "marker": {
          "color": "rgb(57, 105, 172)",
          "pattern": {
           "shape": ""
          }
         },
         "name": "batch",
         "offsetgroup": "batch",
         "orientation": "v",
         "showlegend": false,
         "text": [
          "batch",
          "batch",
          "batch"
         ],
         "textposition": "inside",
         "type": "bar",
         "x": [
          "fitoprincipe",
          "fitoprincipe",
          "fitoprincipe"
         ],
         "xaxis": "x",
         "y": [
          2036,
          1,
          1
         ],
         "yaxis": "y"
        },
        {
         "alignmentgroup": "True",
         "hovertemplate": "module_name=%{text}<br>Contributor=%{x}<br>Total Imports=%{y}<extra></extra>",
         "legendgroup": "Palettes.js",
         "marker": {
          "color": "rgb(242, 183, 1)",
          "pattern": {
           "shape": ""
          }
         },
         "name": "Palettes.js",
         "offsetgroup": "Palettes.js",
         "orientation": "v",
         "showlegend": false,
         "text": [
          "Palettes.js"
         ],
         "textposition": "inside",
         "type": "bar",
         "x": [
          "mapbiomas"
         ],
         "xaxis": "x",
         "y": [
          1937
         ],
         "yaxis": "y"
        },
        {
         "alignmentgroup": "True",
         "hovertemplate": "module_name=%{text}<br>Contributor=%{x}<br>Total Imports=%{y}<extra></extra>",
         "legendgroup": "text",
         "marker": {
          "color": "rgb(231, 63, 116)",
          "pattern": {
           "shape": ""
          }
         },
         "name": "text",
         "offsetgroup": "text",
         "orientation": "v",
         "showlegend": false,
         "text": [
          "text"
         ],
         "textposition": "inside",
         "type": "bar",
         "x": [
          "gena"
         ],
         "xaxis": "x",
         "y": [
          1165
         ],
         "yaxis": "y"
        },
        {
         "alignmentgroup": "True",
         "hovertemplate": "module_name=%{text}<br>Contributor=%{x}<br>Total Imports=%{y}<extra></extra>",
         "legendgroup": "animation",
         "marker": {
          "color": "rgb(128, 186, 90)",
          "pattern": {
           "shape": ""
          }
         },
         "name": "animation",
         "offsetgroup": "animation",
         "orientation": "v",
         "showlegend": false,
         "text": [
          "animation",
          "animation"
         ],
         "textposition": "inside",
         "type": "bar",
         "x": [
          "gena",
          "gena"
         ],
         "xaxis": "x",
         "y": [
          806,
          4
         ],
         "yaxis": "y"
        },
        {
         "alignmentgroup": "True",
         "hovertemplate": "module_name=%{text}<br>Contributor=%{x}<br>Total Imports=%{y}<extra></extra>",
         "legendgroup": "style",
         "marker": {
          "color": "rgb(230, 131, 16)",
          "pattern": {
           "shape": ""
          }
         },
         "name": "style",
         "offsetgroup": "style",
         "orientation": "v",
         "showlegend": false,
         "text": [
          "style"
         ],
         "textposition": "inside",
         "type": "bar",
         "x": [
          "gena"
         ],
         "xaxis": "x",
         "y": [
          777
         ],
         "yaxis": "y"
        },
        {
         "alignmentgroup": "True",
         "hovertemplate": "module_name=%{text}<br>Contributor=%{x}<br>Total Imports=%{y}<extra></extra>",
         "legendgroup": "cloud_masks",
         "marker": {
          "color": "rgb(0, 134, 149)",
          "pattern": {
           "shape": ""
          }
         },
         "name": "cloud_masks",
         "offsetgroup": "cloud_masks",
         "orientation": "v",
         "showlegend": false,
         "text": [
          "cloud_masks"
         ],
         "textposition": "inside",
         "type": "bar",
         "x": [
          "fitoprincipe"
         ],
         "xaxis": "x",
         "y": [
          665
         ],
         "yaxis": "y"
        },
        {
         "alignmentgroup": "True",
         "hovertemplate": "module_name=%{text}<br>Contributor=%{x}<br>Total Imports=%{y}<extra></extra>",
         "legendgroup": "utils",
         "marker": {
          "color": "rgb(207, 28, 144)",
          "pattern": {
           "shape": ""
          }
         },
         "name": "utils",
         "offsetgroup": "utils",
         "orientation": "v",
         "showlegend": false,
         "text": [
          "utils"
         ],
         "textposition": "inside",
         "type": "bar",
         "x": [
          "gena"
         ],
         "xaxis": "x",
         "y": [
          574
         ],
         "yaxis": "y"
        },
        {
         "alignmentgroup": "True",
         "hovertemplate": "module_name=%{text}<br>Contributor=%{x}<br>Total Imports=%{y}<extra></extra>",
         "legendgroup": "Math/pkg_smooth.js",
         "marker": {
          "color": "rgb(249, 123, 114)",
          "pattern": {
           "shape": ""
          }
         },
         "name": "Math/pkg_smooth.js",
         "offsetgroup": "Math/pkg_smooth.js",
         "orientation": "v",
         "showlegend": false,
         "text": [
          "Math/pkg_smooth.js"
         ],
         "textposition": "inside",
         "type": "bar",
         "x": [
          "kongdd"
         ],
         "xaxis": "x",
         "y": [
          517
         ],
         "yaxis": "y"
        },
        {
         "alignmentgroup": "True",
         "hovertemplate": "module_name=%{text}<br>Contributor=%{x}<br>Total Imports=%{y}<extra></extra>",
         "legendgroup": "colorbrewer",
         "marker": {
          "color": "rgb(165, 170, 153)",
          "pattern": {
           "shape": ""
          }
         },
         "name": "colorbrewer",
         "offsetgroup": "colorbrewer",
         "orientation": "v",
         "showlegend": false,
         "text": [
          "colorbrewer"
         ],
         "textposition": "inside",
         "type": "bar",
         "x": [
          "gena"
         ],
         "xaxis": "x",
         "y": [
          496
         ],
         "yaxis": "y"
        },
        {
         "alignmentgroup": "True",
         "hovertemplate": "module_name=%{text}<br>Contributor=%{x}<br>Total Imports=%{y}<extra></extra>",
         "legendgroup": "pkg_vis.js",
         "marker": {
          "color": "rgb(127, 60, 141)",
          "pattern": {
           "shape": ""
          }
         },
         "name": "pkg_vis.js",
         "offsetgroup": "pkg_vis.js",
         "orientation": "v",
         "showlegend": false,
         "text": [
          "pkg_vis.js",
          "pkg_vis.js"
         ],
         "textposition": "inside",
         "type": "bar",
         "x": [
          "kongdd",
          "kongdd"
         ],
         "xaxis": "x",
         "y": [
          458,
          23
         ],
         "yaxis": "y"
        },
        {
         "alignmentgroup": "True",
         "hovertemplate": "module_name=%{text}<br>Contributor=%{x}<br>Total Imports=%{y}<extra></extra>",
         "legendgroup": "assets",
         "marker": {
          "color": "rgb(17, 165, 121)",
          "pattern": {
           "shape": ""
          }
         },
         "name": "assets",
         "offsetgroup": "assets",
         "orientation": "v",
         "showlegend": false,
         "text": [
          "assets"
         ],
         "textposition": "inside",
         "type": "bar",
         "x": [
          "gena"
         ],
         "xaxis": "x",
         "y": [
          326
         ],
         "yaxis": "y"
        },
        {
         "alignmentgroup": "True",
         "hovertemplate": "module_name=%{text}<br>Contributor=%{x}<br>Total Imports=%{y}<extra></extra>",
         "legendgroup": "tools",
         "marker": {
          "color": "rgb(57, 105, 172)",
          "pattern": {
           "shape": ""
          }
         },
         "name": "tools",
         "offsetgroup": "tools",
         "orientation": "v",
         "showlegend": false,
         "text": [
          "tools"
         ],
         "textposition": "inside",
         "type": "bar",
         "x": [
          "fitoprincipe"
         ],
         "xaxis": "x",
         "y": [
          283
         ],
         "yaxis": "y"
        },
        {
         "alignmentgroup": "True",
         "hovertemplate": "module_name=%{text}<br>Contributor=%{x}<br>Total Imports=%{y}<extra></extra>",
         "legendgroup": "pkg_main.js",
         "marker": {
          "color": "rgb(242, 183, 1)",
          "pattern": {
           "shape": ""
          }
         },
         "name": "pkg_main.js",
         "offsetgroup": "pkg_main.js",
         "orientation": "v",
         "showlegend": false,
         "text": [
          "pkg_main.js",
          "pkg_main.js"
         ],
         "textposition": "inside",
         "type": "bar",
         "x": [
          "kongdd",
          "kongdd"
         ],
         "xaxis": "x",
         "y": [
          238,
          14
         ],
         "yaxis": "y"
        },
        {
         "alignmentgroup": "True",
         "hovertemplate": "module_name=%{text}<br>Contributor=%{x}<br>Total Imports=%{y}<extra></extra>",
         "legendgroup": "Math/pkg_whit.js",
         "marker": {
          "color": "rgb(231, 63, 116)",
          "pattern": {
           "shape": ""
          }
         },
         "name": "Math/pkg_whit.js",
         "offsetgroup": "Math/pkg_whit.js",
         "orientation": "v",
         "showlegend": false,
         "text": [
          "Math/pkg_whit.js"
         ],
         "textposition": "inside",
         "type": "bar",
         "x": [
          "kongdd"
         ],
         "xaxis": "x",
         "y": [
          200
         ],
         "yaxis": "y"
        },
        {
         "alignmentgroup": "True",
         "hovertemplate": "module_name=%{text}<br>Contributor=%{x}<br>Total Imports=%{y}<extra></extra>",
         "legendgroup": "Math/pkg_trend.js",
         "marker": {
          "color": "rgb(128, 186, 90)",
          "pattern": {
           "shape": ""
          }
         },
         "name": "Math/pkg_trend.js",
         "offsetgroup": "Math/pkg_trend.js",
         "orientation": "v",
         "showlegend": false,
         "text": [
          "Math/pkg_trend.js"
         ],
         "textposition": "inside",
         "type": "bar",
         "x": [
          "kongdd"
         ],
         "xaxis": "x",
         "y": [
          180
         ],
         "yaxis": "y"
        },
        {
         "alignmentgroup": "True",
         "hovertemplate": "module_name=%{text}<br>Contributor=%{x}<br>Total Imports=%{y}<extra></extra>",
         "legendgroup": "pkg_export.js",
         "marker": {
          "color": "rgb(230, 131, 16)",
          "pattern": {
           "shape": ""
          }
         },
         "name": "pkg_export.js",
         "offsetgroup": "pkg_export.js",
         "orientation": "v",
         "showlegend": false,
         "text": [
          "pkg_export.js",
          "pkg_export.js"
         ],
         "textposition": "inside",
         "type": "bar",
         "x": [
          "kongdd",
          "kongdd"
         ],
         "xaxis": "x",
         "y": [
          114,
          12
         ],
         "yaxis": "y"
        },
        {
         "alignmentgroup": "True",
         "hovertemplate": "module_name=%{text}<br>Contributor=%{x}<br>Total Imports=%{y}<extra></extra>",
         "legendgroup": "pkg_join.js",
         "marker": {
          "color": "rgb(0, 134, 149)",
          "pattern": {
           "shape": ""
          }
         },
         "name": "pkg_join.js",
         "offsetgroup": "pkg_join.js",
         "orientation": "v",
         "showlegend": false,
         "text": [
          "pkg_join.js",
          "pkg_join.js"
         ],
         "textposition": "inside",
         "type": "bar",
         "x": [
          "kongdd",
          "kongdd"
         ],
         "xaxis": "x",
         "y": [
          92,
          3
         ],
         "yaxis": "y"
        },
        {
         "alignmentgroup": "True",
         "hovertemplate": "module_name=%{text}<br>Contributor=%{x}<br>Total Imports=%{y}<extra></extra>",
         "legendgroup": "geometry",
         "marker": {
          "color": "rgb(207, 28, 144)",
          "pattern": {
           "shape": ""
          }
         },
         "name": "geometry",
         "offsetgroup": "geometry",
         "orientation": "v",
         "showlegend": false,
         "text": [
          "geometry"
         ],
         "textposition": "inside",
         "type": "bar",
         "x": [
          "gena"
         ],
         "xaxis": "x",
         "y": [
          78
         ],
         "yaxis": "y"
        },
        {
         "alignmentgroup": "True",
         "hovertemplate": "module_name=%{text}<br>Contributor=%{x}<br>Total Imports=%{y}<extra></extra>",
         "legendgroup": "helpers_js",
         "marker": {
          "color": "rgb(249, 123, 114)",
          "pattern": {
           "shape": ""
          }
         },
         "name": "helpers_js",
         "offsetgroup": "helpers_js",
         "orientation": "v",
         "showlegend": false,
         "text": [
          "helpers_js"
         ],
         "textposition": "inside",
         "type": "bar",
         "x": [
          "fitoprincipe"
         ],
         "xaxis": "x",
         "y": [
          69
         ],
         "yaxis": "y"
        },
        {
         "alignmentgroup": "True",
         "hovertemplate": "module_name=%{text}<br>Contributor=%{x}<br>Total Imports=%{y}<extra></extra>",
         "legendgroup": "Logos.js",
         "marker": {
          "color": "rgb(165, 170, 153)",
          "pattern": {
           "shape": ""
          }
         },
         "name": "Logos.js",
         "offsetgroup": "Logos.js",
         "orientation": "v",
         "showlegend": false,
         "text": [
          "Logos.js"
         ],
         "textposition": "inside",
         "type": "bar",
         "x": [
          "mapbiomas"
         ],
         "xaxis": "x",
         "y": [
          61
         ],
         "yaxis": "y"
        },
        {
         "alignmentgroup": "True",
         "hovertemplate": "module_name=%{text}<br>Contributor=%{x}<br>Total Imports=%{y}<extra></extra>",
         "legendgroup": "thresholding",
         "marker": {
          "color": "rgb(127, 60, 141)",
          "pattern": {
           "shape": ""
          }
         },
         "name": "thresholding",
         "offsetgroup": "thresholding",
         "orientation": "v",
         "showlegend": false,
         "text": [
          "thresholding"
         ],
         "textposition": "inside",
         "type": "bar",
         "x": [
          "gena"
         ],
         "xaxis": "x",
         "y": [
          60
         ],
         "yaxis": "y"
        },
        {
         "alignmentgroup": "True",
         "hovertemplate": "module_name=%{text}<br>Contributor=%{x}<br>Total Imports=%{y}<extra></extra>",
         "legendgroup": "hydro",
         "marker": {
          "color": "rgb(17, 165, 121)",
          "pattern": {
           "shape": ""
          }
         },
         "name": "hydro",
         "offsetgroup": "hydro",
         "orientation": "v",
         "showlegend": false,
         "text": [
          "hydro"
         ],
         "textposition": "inside",
         "type": "bar",
         "x": [
          "gena"
         ],
         "xaxis": "x",
         "y": [
          59
         ],
         "yaxis": "y"
        },
        {
         "alignmentgroup": "True",
         "hovertemplate": "module_name=%{text}<br>Contributor=%{x}<br>Total Imports=%{y}<extra></extra>",
         "legendgroup": "grid",
         "marker": {
          "color": "rgb(57, 105, 172)",
          "pattern": {
           "shape": ""
          }
         },
         "name": "grid",
         "offsetgroup": "grid",
         "orientation": "v",
         "showlegend": false,
         "text": [
          "grid"
         ],
         "textposition": "inside",
         "type": "bar",
         "x": [
          "gena"
         ],
         "xaxis": "x",
         "y": [
          50
         ],
         "yaxis": "y"
        },
        {
         "alignmentgroup": "True",
         "hovertemplate": "module_name=%{text}<br>Contributor=%{x}<br>Total Imports=%{y}<extra></extra>",
         "legendgroup": "data/flux_points.js",
         "marker": {
          "color": "rgb(242, 183, 1)",
          "pattern": {
           "shape": ""
          }
         },
         "name": "data/flux_points.js",
         "offsetgroup": "data/flux_points.js",
         "orientation": "v",
         "showlegend": false,
         "text": [
          "data/flux_points.js"
         ],
         "textposition": "inside",
         "type": "bar",
         "x": [
          "kongdd"
         ],
         "xaxis": "x",
         "y": [
          43
         ],
         "yaxis": "y"
        },
        {
         "alignmentgroup": "True",
         "hovertemplate": "module_name=%{text}<br>Contributor=%{x}<br>Total Imports=%{y}<extra></extra>",
         "legendgroup": "cloud-utils",
         "marker": {
          "color": "rgb(231, 63, 116)",
          "pattern": {
           "shape": ""
          }
         },
         "name": "cloud-utils",
         "offsetgroup": "cloud-utils",
         "orientation": "v",
         "showlegend": false,
         "text": [
          "cloud-utils"
         ],
         "textposition": "inside",
         "type": "bar",
         "x": [
          "gena"
         ],
         "xaxis": "x",
         "y": [
          37
         ],
         "yaxis": "y"
        },
        {
         "alignmentgroup": "True",
         "hovertemplate": "module_name=%{text}<br>Contributor=%{x}<br>Total Imports=%{y}<extra></extra>",
         "legendgroup": "satellite",
         "marker": {
          "color": "rgb(128, 186, 90)",
          "pattern": {
           "shape": ""
          }
         },
         "name": "satellite",
         "offsetgroup": "satellite",
         "orientation": "v",
         "showlegend": false,
         "text": [
          "satellite"
         ],
         "textposition": "inside",
         "type": "bar",
         "x": [
          "fitoprincipe"
         ],
         "xaxis": "x",
         "y": [
          36
         ],
         "yaxis": "y"
        },
        {
         "alignmentgroup": "True",
         "hovertemplate": "module_name=%{text}<br>Contributor=%{x}<br>Total Imports=%{y}<extra></extra>",
         "legendgroup": "charting",
         "marker": {
          "color": "rgb(230, 131, 16)",
          "pattern": {
           "shape": ""
          }
         },
         "name": "charting",
         "offsetgroup": "charting",
         "orientation": "v",
         "showlegend": false,
         "text": [
          "charting"
         ],
         "textposition": "inside",
         "type": "bar",
         "x": [
          "gena"
         ],
         "xaxis": "x",
         "y": [
          33
         ],
         "yaxis": "y"
        },
        {
         "alignmentgroup": "True",
         "hovertemplate": "module_name=%{text}<br>Contributor=%{x}<br>Total Imports=%{y}<extra></extra>",
         "legendgroup": "debug.js",
         "marker": {
          "color": "rgb(0, 134, 149)",
          "pattern": {
           "shape": ""
          }
         },
         "name": "debug.js",
         "offsetgroup": "debug.js",
         "orientation": "v",
         "showlegend": false,
         "text": [
          "debug.js"
         ],
         "textposition": "inside",
         "type": "bar",
         "x": [
          "kongdd"
         ],
         "xaxis": "x",
         "y": [
          31
         ],
         "yaxis": "y"
        },
        {
         "alignmentgroup": "True",
         "hovertemplate": "module_name=%{text}<br>Contributor=%{x}<br>Total Imports=%{y}<extra></extra>",
         "legendgroup": "decision_tree",
         "marker": {
          "color": "rgb(207, 28, 144)",
          "pattern": {
           "shape": ""
          }
         },
         "name": "decision_tree",
         "offsetgroup": "decision_tree",
         "orientation": "v",
         "showlegend": false,
         "text": [
          "decision_tree"
         ],
         "textposition": "inside",
         "type": "bar",
         "x": [
          "fitoprincipe"
         ],
         "xaxis": "x",
         "y": [
          30
         ],
         "yaxis": "y"
        },
        {
         "alignmentgroup": "True",
         "hovertemplate": "module_name=%{text}<br>Contributor=%{x}<br>Total Imports=%{y}<extra></extra>",
         "legendgroup": "geet.js",
         "marker": {
          "color": "rgb(249, 123, 114)",
          "pattern": {
           "shape": ""
          }
         },
         "name": "geet.js",
         "offsetgroup": "geet.js",
         "orientation": "v",
         "showlegend": false,
         "text": [
          "geet.js"
         ],
         "textposition": "inside",
         "type": "bar",
         "x": [
          "elacerda"
         ],
         "xaxis": "x",
         "y": [
          24
         ],
         "yaxis": "y"
        },
        {
         "alignmentgroup": "True",
         "hovertemplate": "module_name=%{text}<br>Contributor=%{x}<br>Total Imports=%{y}<extra></extra>",
         "legendgroup": "gl",
         "marker": {
          "color": "rgb(165, 170, 153)",
          "pattern": {
           "shape": ""
          }
         },
         "name": "gl",
         "offsetgroup": "gl",
         "orientation": "v",
         "showlegend": false,
         "text": [
          "gl"
         ],
         "textposition": "inside",
         "type": "bar",
         "x": [
          "gena"
         ],
         "xaxis": "x",
         "y": [
          21
         ],
         "yaxis": "y"
        },
        {
         "alignmentgroup": "True",
         "hovertemplate": "module_name=%{text}<br>Contributor=%{x}<br>Total Imports=%{y}<extra></extra>",
         "legendgroup": "ui",
         "marker": {
          "color": "rgb(127, 60, 141)",
          "pattern": {
           "shape": ""
          }
         },
         "name": "ui",
         "offsetgroup": "ui",
         "orientation": "v",
         "showlegend": false,
         "text": [
          "ui"
         ],
         "textposition": "inside",
         "type": "bar",
         "x": [
          "gena"
         ],
         "xaxis": "x",
         "y": [
          19
         ],
         "yaxis": "y"
        },
        {
         "alignmentgroup": "True",
         "hovertemplate": "module_name=%{text}<br>Contributor=%{x}<br>Total Imports=%{y}<extra></extra>",
         "legendgroup": "earth",
         "marker": {
          "color": "rgb(17, 165, 121)",
          "pattern": {
           "shape": ""
          }
         },
         "name": "earth",
         "offsetgroup": "earth",
         "orientation": "v",
         "showlegend": false,
         "text": [
          "earth"
         ],
         "textposition": "inside",
         "type": "bar",
         "x": [
          "gena"
         ],
         "xaxis": "x",
         "y": [
          18
         ],
         "yaxis": "y"
        },
        {
         "alignmentgroup": "True",
         "hovertemplate": "module_name=%{text}<br>Contributor=%{x}<br>Total Imports=%{y}<extra></extra>",
         "legendgroup": "list_algorithms",
         "marker": {
          "color": "rgb(57, 105, 172)",
          "pattern": {
           "shape": ""
          }
         },
         "name": "list_algorithms",
         "offsetgroup": "list_algorithms",
         "orientation": "v",
         "showlegend": false,
         "text": [
          "list_algorithms"
         ],
         "textposition": "inside",
         "type": "bar",
         "x": [
          "fitoprincipe"
         ],
         "xaxis": "x",
         "y": [
          18
         ],
         "yaxis": "y"
        },
        {
         "alignmentgroup": "True",
         "hovertemplate": "module_name=%{text}<br>Contributor=%{x}<br>Total Imports=%{y}<extra></extra>",
         "legendgroup": "modules/BandNames.js",
         "marker": {
          "color": "rgb(242, 183, 1)",
          "pattern": {
           "shape": ""
          }
         },
         "name": "modules/BandNames.js",
         "offsetgroup": "modules/BandNames.js",
         "orientation": "v",
         "showlegend": false,
         "text": [
          "modules/BandNames.js"
         ],
         "textposition": "inside",
         "type": "bar",
         "x": [
          "mapbiomas"
         ],
         "xaxis": "x",
         "y": [
          14
         ],
         "yaxis": "y"
        },
        {
         "alignmentgroup": "True",
         "hovertemplate": "module_name=%{text}<br>Contributor=%{x}<br>Total Imports=%{y}<extra></extra>",
         "legendgroup": "image-view",
         "marker": {
          "color": "rgb(231, 63, 116)",
          "pattern": {
           "shape": ""
          }
         },
         "name": "image-view",
         "offsetgroup": "image-view",
         "orientation": "v",
         "showlegend": false,
         "text": [
          "image-view"
         ],
         "textposition": "inside",
         "type": "bar",
         "x": [
          "gena"
         ],
         "xaxis": "x",
         "y": [
          13
         ],
         "yaxis": "y"
        },
        {
         "alignmentgroup": "True",
         "hovertemplate": "module_name=%{text}<br>Contributor=%{x}<br>Total Imports=%{y}<extra></extra>",
         "legendgroup": "smooth_whit.js",
         "marker": {
          "color": "rgb(128, 186, 90)",
          "pattern": {
           "shape": ""
          }
         },
         "name": "smooth_whit.js",
         "offsetgroup": "smooth_whit.js",
         "orientation": "v",
         "showlegend": false,
         "text": [
          "smooth_whit.js"
         ],
         "textposition": "inside",
         "type": "bar",
         "x": [
          "kongdd"
         ],
         "xaxis": "x",
         "y": [
          13
         ],
         "yaxis": "y"
        },
        {
         "alignmentgroup": "True",
         "hovertemplate": "module_name=%{text}<br>Contributor=%{x}<br>Total Imports=%{y}<extra></extra>",
         "legendgroup": "gallery",
         "marker": {
          "color": "rgb(230, 131, 16)",
          "pattern": {
           "shape": ""
          }
         },
         "name": "gallery",
         "offsetgroup": "gallery",
         "orientation": "v",
         "showlegend": false,
         "text": [
          "gallery"
         ],
         "textposition": "inside",
         "type": "bar",
         "x": [
          "gena"
         ],
         "xaxis": "x",
         "y": [
          13
         ],
         "yaxis": "y"
        },
        {
         "alignmentgroup": "True",
         "hovertemplate": "module_name=%{text}<br>Contributor=%{x}<br>Total Imports=%{y}<extra></extra>",
         "legendgroup": "Figure/dat02_MOD13A1_smoothed.js",
         "marker": {
          "color": "rgb(0, 134, 149)",
          "pattern": {
           "shape": ""
          }
         },
         "name": "Figure/dat02_MOD13A1_smoothed.js",
         "offsetgroup": "Figure/dat02_MOD13A1_smoothed.js",
         "orientation": "v",
         "showlegend": false,
         "text": [
          "Figure/dat02_MOD13A1_smoothed.js"
         ],
         "textposition": "inside",
         "type": "bar",
         "x": [
          "kongdd"
         ],
         "xaxis": "x",
         "y": [
          12
         ],
         "yaxis": "y"
        },
        {
         "alignmentgroup": "True",
         "hovertemplate": "module_name=%{text}<br>Contributor=%{x}<br>Total Imports=%{y}<extra></extra>",
         "legendgroup": "data/ImgCol_MODIS_LAI.js",
         "marker": {
          "color": "rgb(207, 28, 144)",
          "pattern": {
           "shape": ""
          }
         },
         "name": "data/ImgCol_MODIS_LAI.js",
         "offsetgroup": "data/ImgCol_MODIS_LAI.js",
         "orientation": "v",
         "showlegend": false,
         "text": [
          "data/ImgCol_MODIS_LAI.js"
         ],
         "textposition": "inside",
         "type": "bar",
         "x": [
          "kongdd"
         ],
         "xaxis": "x",
         "y": [
          12
         ],
         "yaxis": "y"
        },
        {
         "alignmentgroup": "True",
         "hovertemplate": "module_name=%{text}<br>Contributor=%{x}<br>Total Imports=%{y}<extra></extra>",
         "legendgroup": "main/smooth_whit.js",
         "marker": {
          "color": "rgb(249, 123, 114)",
          "pattern": {
           "shape": ""
          }
         },
         "name": "main/smooth_whit.js",
         "offsetgroup": "main/smooth_whit.js",
         "orientation": "v",
         "showlegend": false,
         "text": [
          "main/smooth_whit.js"
         ],
         "textposition": "inside",
         "type": "bar",
         "x": [
          "kongdd"
         ],
         "xaxis": "x",
         "y": [
          12
         ],
         "yaxis": "y"
        },
        {
         "alignmentgroup": "True",
         "hovertemplate": "module_name=%{text}<br>Contributor=%{x}<br>Total Imports=%{y}<extra></extra>",
         "legendgroup": "pkg_buffer.js",
         "marker": {
          "color": "rgb(165, 170, 153)",
          "pattern": {
           "shape": ""
          }
         },
         "name": "pkg_buffer.js",
         "offsetgroup": "pkg_buffer.js",
         "orientation": "v",
         "showlegend": false,
         "text": [
          "pkg_buffer.js"
         ],
         "textposition": "inside",
         "type": "bar",
         "x": [
          "kongdd"
         ],
         "xaxis": "x",
         "y": [
          11
         ],
         "yaxis": "y"
        },
        {
         "alignmentgroup": "True",
         "hovertemplate": "module_name=%{text}<br>Contributor=%{x}<br>Total Imports=%{y}<extra></extra>",
         "legendgroup": "modules/Miscellaneous.js",
         "marker": {
          "color": "rgb(127, 60, 141)",
          "pattern": {
           "shape": ""
          }
         },
         "name": "modules/Miscellaneous.js",
         "offsetgroup": "modules/Miscellaneous.js",
         "orientation": "v",
         "showlegend": false,
         "text": [
          "modules/Miscellaneous.js"
         ],
         "textposition": "inside",
         "type": "bar",
         "x": [
          "mapbiomas"
         ],
         "xaxis": "x",
         "y": [
          11
         ],
         "yaxis": "y"
        },
        {
         "alignmentgroup": "True",
         "hovertemplate": "module_name=%{text}<br>Contributor=%{x}<br>Total Imports=%{y}<extra></extra>",
         "legendgroup": "modules/SmaAndNdfi.js",
         "marker": {
          "color": "rgb(17, 165, 121)",
          "pattern": {
           "shape": ""
          }
         },
         "name": "modules/SmaAndNdfi.js",
         "offsetgroup": "modules/SmaAndNdfi.js",
         "orientation": "v",
         "showlegend": false,
         "text": [
          "modules/SmaAndNdfi.js"
         ],
         "textposition": "inside",
         "type": "bar",
         "x": [
          "mapbiomas"
         ],
         "xaxis": "x",
         "y": [
          11
         ],
         "yaxis": "y"
        },
        {
         "alignmentgroup": "True",
         "hovertemplate": "module_name=%{text}<br>Contributor=%{x}<br>Total Imports=%{y}<extra></extra>",
         "legendgroup": "modules/SpectralIndexes.js",
         "marker": {
          "color": "rgb(57, 105, 172)",
          "pattern": {
           "shape": ""
          }
         },
         "name": "modules/SpectralIndexes.js",
         "offsetgroup": "modules/SpectralIndexes.js",
         "orientation": "v",
         "showlegend": false,
         "text": [
          "modules/SpectralIndexes.js"
         ],
         "textposition": "inside",
         "type": "bar",
         "x": [
          "mapbiomas"
         ],
         "xaxis": "x",
         "y": [
          11
         ],
         "yaxis": "y"
        },
        {
         "alignmentgroup": "True",
         "hovertemplate": "module_name=%{text}<br>Contributor=%{x}<br>Total Imports=%{y}<extra></extra>",
         "legendgroup": "pkgs.js",
         "marker": {
          "color": "rgb(242, 183, 1)",
          "pattern": {
           "shape": ""
          }
         },
         "name": "pkgs.js",
         "offsetgroup": "pkgs.js",
         "orientation": "v",
         "showlegend": false,
         "text": [
          "pkgs.js",
          "pkgs.js"
         ],
         "textposition": "inside",
         "type": "bar",
         "x": [
          "kongdd",
          "kongdd"
         ],
         "xaxis": "x",
         "y": [
          10,
          1
         ],
         "yaxis": "y"
        },
        {
         "alignmentgroup": "True",
         "hovertemplate": "module_name=%{text}<br>Contributor=%{x}<br>Total Imports=%{y}<extra></extra>",
         "legendgroup": "composite",
         "marker": {
          "color": "rgb(231, 63, 116)",
          "pattern": {
           "shape": ""
          }
         },
         "name": "composite",
         "offsetgroup": "composite",
         "orientation": "v",
         "showlegend": false,
         "text": [
          "composite"
         ],
         "textposition": "inside",
         "type": "bar",
         "x": [
          "fitoprincipe"
         ],
         "xaxis": "x",
         "y": [
          10
         ],
         "yaxis": "y"
        },
        {
         "alignmentgroup": "True",
         "hovertemplate": "module_name=%{text}<br>Contributor=%{x}<br>Total Imports=%{y}<extra></extra>",
         "legendgroup": "scores",
         "marker": {
          "color": "rgb(128, 186, 90)",
          "pattern": {
           "shape": ""
          }
         },
         "name": "scores",
         "offsetgroup": "scores",
         "orientation": "v",
         "showlegend": false,
         "text": [
          "scores"
         ],
         "textposition": "inside",
         "type": "bar",
         "x": [
          "fitoprincipe"
         ],
         "xaxis": "x",
         "y": [
          10
         ],
         "yaxis": "y"
        },
        {
         "alignmentgroup": "True",
         "hovertemplate": "module_name=%{text}<br>Contributor=%{x}<br>Total Imports=%{y}<extra></extra>",
         "legendgroup": "modules/Collection.js",
         "marker": {
          "color": "rgb(230, 131, 16)",
          "pattern": {
           "shape": ""
          }
         },
         "name": "modules/Collection.js",
         "offsetgroup": "modules/Collection.js",
         "orientation": "v",
         "showlegend": false,
         "text": [
          "modules/Collection.js"
         ],
         "textposition": "inside",
         "type": "bar",
         "x": [
          "mapbiomas"
         ],
         "xaxis": "x",
         "y": [
          9
         ],
         "yaxis": "y"
        },
        {
         "alignmentgroup": "True",
         "hovertemplate": "module_name=%{text}<br>Contributor=%{x}<br>Total Imports=%{y}<extra></extra>",
         "legendgroup": "_tools/image",
         "marker": {
          "color": "rgb(0, 134, 149)",
          "pattern": {
           "shape": ""
          }
         },
         "name": "_tools/image",
         "offsetgroup": "_tools/image",
         "orientation": "v",
         "showlegend": false,
         "text": [
          "_tools/image"
         ],
         "textposition": "inside",
         "type": "bar",
         "x": [
          "fitoprincipe"
         ],
         "xaxis": "x",
         "y": [
          8
         ],
         "yaxis": "y"
        },
        {
         "alignmentgroup": "True",
         "hovertemplate": "module_name=%{text}<br>Contributor=%{x}<br>Total Imports=%{y}<extra></extra>",
         "legendgroup": "pkg_export2.js",
         "marker": {
          "color": "rgb(207, 28, 144)",
          "pattern": {
           "shape": ""
          }
         },
         "name": "pkg_export2.js",
         "offsetgroup": "pkg_export2.js",
         "orientation": "v",
         "showlegend": false,
         "text": [
          "pkg_export2.js"
         ],
         "textposition": "inside",
         "type": "bar",
         "x": [
          "kongdd"
         ],
         "xaxis": "x",
         "y": [
          8
         ],
         "yaxis": "y"
        },
        {
         "alignmentgroup": "True",
         "hovertemplate": "module_name=%{text}<br>Contributor=%{x}<br>Total Imports=%{y}<extra></extra>",
         "legendgroup": "bathymetry.js",
         "marker": {
          "color": "rgb(249, 123, 114)",
          "pattern": {
           "shape": ""
          }
         },
         "name": "bathymetry.js",
         "offsetgroup": "bathymetry.js",
         "orientation": "v",
         "showlegend": false,
         "text": [
          "bathymetry.js"
         ],
         "textposition": "inside",
         "type": "bar",
         "x": [
          "gena"
         ],
         "xaxis": "x",
         "y": [
          8
         ],
         "yaxis": "y"
        },
        {
         "alignmentgroup": "True",
         "hovertemplate": "module_name=%{text}<br>Contributor=%{x}<br>Total Imports=%{y}<extra></extra>",
         "legendgroup": "modules/CloudAndShadowMasking.js",
         "marker": {
          "color": "rgb(165, 170, 153)",
          "pattern": {
           "shape": ""
          }
         },
         "name": "modules/CloudAndShadowMasking.js",
         "offsetgroup": "modules/CloudAndShadowMasking.js",
         "orientation": "v",
         "showlegend": false,
         "text": [
          "modules/CloudAndShadowMasking.js"
         ],
         "textposition": "inside",
         "type": "bar",
         "x": [
          "mapbiomas"
         ],
         "xaxis": "x",
         "y": [
          8
         ],
         "yaxis": "y"
        },
        {
         "alignmentgroup": "True",
         "hovertemplate": "module_name=%{text}<br>Contributor=%{x}<br>Total Imports=%{y}<extra></extra>",
         "legendgroup": "src/mosaic_LAI.js",
         "marker": {
          "color": "rgb(127, 60, 141)",
          "pattern": {
           "shape": ""
          }
         },
         "name": "src/mosaic_LAI.js",
         "offsetgroup": "src/mosaic_LAI.js",
         "orientation": "v",
         "showlegend": false,
         "text": [
          "src/mosaic_LAI.js"
         ],
         "textposition": "inside",
         "type": "bar",
         "x": [
          "kongdd"
         ],
         "xaxis": "x",
         "y": [
          8
         ],
         "yaxis": "y"
        },
        {
         "alignmentgroup": "True",
         "hovertemplate": "module_name=%{text}<br>Contributor=%{x}<br>Total Imports=%{y}<extra></extra>",
         "legendgroup": "main/released/smooth_tools.js",
         "marker": {
          "color": "rgb(17, 165, 121)",
          "pattern": {
           "shape": ""
          }
         },
         "name": "main/released/smooth_tools.js",
         "offsetgroup": "main/released/smooth_tools.js",
         "orientation": "v",
         "showlegend": false,
         "text": [
          "main/released/smooth_tools.js"
         ],
         "textposition": "inside",
         "type": "bar",
         "x": [
          "kongdd"
         ],
         "xaxis": "x",
         "y": [
          8
         ],
         "yaxis": "y"
        },
        {
         "alignmentgroup": "True",
         "hovertemplate": "module_name=%{text}<br>Contributor=%{x}<br>Total Imports=%{y}<extra></extra>",
         "legendgroup": "tiler",
         "marker": {
          "color": "rgb(57, 105, 172)",
          "pattern": {
           "shape": ""
          }
         },
         "name": "tiler",
         "offsetgroup": "tiler",
         "orientation": "v",
         "showlegend": false,
         "text": [
          "tiler"
         ],
         "textposition": "inside",
         "type": "bar",
         "x": [
          "gena"
         ],
         "xaxis": "x",
         "y": [
          7
         ],
         "yaxis": "y"
        },
        {
         "alignmentgroup": "True",
         "hovertemplate": "module_name=%{text}<br>Contributor=%{x}<br>Total Imports=%{y}<extra></extra>",
         "legendgroup": "_tools/collection",
         "marker": {
          "color": "rgb(242, 183, 1)",
          "pattern": {
           "shape": ""
          }
         },
         "name": "_tools/collection",
         "offsetgroup": "_tools/collection",
         "orientation": "v",
         "showlegend": false,
         "text": [
          "_tools/collection"
         ],
         "textposition": "inside",
         "type": "bar",
         "x": [
          "fitoprincipe"
         ],
         "xaxis": "x",
         "y": [
          7
         ],
         "yaxis": "y"
        },
        {
         "alignmentgroup": "True",
         "hovertemplate": "module_name=%{text}<br>Contributor=%{x}<br>Total Imports=%{y}<extra></extra>",
         "legendgroup": "Math/LinearRegression.js",
         "marker": {
          "color": "rgb(231, 63, 116)",
          "pattern": {
           "shape": ""
          }
         },
         "name": "Math/LinearRegression.js",
         "offsetgroup": "Math/LinearRegression.js",
         "orientation": "v",
         "showlegend": false,
         "text": [
          "Math/LinearRegression.js"
         ],
         "textposition": "inside",
         "type": "bar",
         "x": [
          "kongdd"
         ],
         "xaxis": "x",
         "y": [
          6
         ],
         "yaxis": "y"
        },
        {
         "alignmentgroup": "True",
         "hovertemplate": "module_name=%{text}<br>Contributor=%{x}<br>Total Imports=%{y}<extra></extra>",
         "legendgroup": "pkg_movmean.js",
         "marker": {
          "color": "rgb(128, 186, 90)",
          "pattern": {
           "shape": ""
          }
         },
         "name": "pkg_movmean.js",
         "offsetgroup": "pkg_movmean.js",
         "orientation": "v",
         "showlegend": false,
         "text": [
          "pkg_movmean.js"
         ],
         "textposition": "inside",
         "type": "bar",
         "x": [
          "kongdd"
         ],
         "xaxis": "x",
         "y": [
          6
         ],
         "yaxis": "y"
        },
        {
         "alignmentgroup": "True",
         "hovertemplate": "module_name=%{text}<br>Contributor=%{x}<br>Total Imports=%{y}<extra></extra>",
         "legendgroup": "modules/Mosaic.js",
         "marker": {
          "color": "rgb(230, 131, 16)",
          "pattern": {
           "shape": ""
          }
         },
         "name": "modules/Mosaic.js",
         "offsetgroup": "modules/Mosaic.js",
         "orientation": "v",
         "showlegend": false,
         "text": [
          "modules/Mosaic.js"
         ],
         "textposition": "inside",
         "type": "bar",
         "x": [
          "mapbiomas"
         ],
         "xaxis": "x",
         "y": [
          6
         ],
         "yaxis": "y"
        },
        {
         "alignmentgroup": "True",
         "hovertemplate": "module_name=%{text}<br>Contributor=%{x}<br>Total Imports=%{y}<extra></extra>",
         "legendgroup": "_tools/imagecollection",
         "marker": {
          "color": "rgb(0, 134, 149)",
          "pattern": {
           "shape": ""
          }
         },
         "name": "_tools/imagecollection",
         "offsetgroup": "_tools/imagecollection",
         "orientation": "v",
         "showlegend": false,
         "text": [
          "_tools/imagecollection"
         ],
         "textposition": "inside",
         "type": "bar",
         "x": [
          "fitoprincipe"
         ],
         "xaxis": "x",
         "y": [
          6
         ],
         "yaxis": "y"
        },
        {
         "alignmentgroup": "True",
         "hovertemplate": "module_name=%{text}<br>Contributor=%{x}<br>Total Imports=%{y}<extra></extra>",
         "legendgroup": "water",
         "marker": {
          "color": "rgb(207, 28, 144)",
          "pattern": {
           "shape": ""
          }
         },
         "name": "water",
         "offsetgroup": "water",
         "orientation": "v",
         "showlegend": false,
         "text": [
          "water"
         ],
         "textposition": "inside",
         "type": "bar",
         "x": [
          "gena"
         ],
         "xaxis": "x",
         "y": [
          6
         ],
         "yaxis": "y"
        },
        {
         "alignmentgroup": "True",
         "hovertemplate": "module_name=%{text}<br>Contributor=%{x}<br>Total Imports=%{y}<extra></extra>",
         "legendgroup": "pkg_trend.js",
         "marker": {
          "color": "rgb(249, 123, 114)",
          "pattern": {
           "shape": ""
          }
         },
         "name": "pkg_trend.js",
         "offsetgroup": "pkg_trend.js",
         "orientation": "v",
         "showlegend": false,
         "text": [
          "pkg_trend.js"
         ],
         "textposition": "inside",
         "type": "bar",
         "x": [
          "kongdd"
         ],
         "xaxis": "x",
         "y": [
          6
         ],
         "yaxis": "y"
        },
        {
         "alignmentgroup": "True",
         "hovertemplate": "module_name=%{text}<br>Contributor=%{x}<br>Total Imports=%{y}<extra></extra>",
         "legendgroup": "widgets",
         "marker": {
          "color": "rgb(165, 170, 153)",
          "pattern": {
           "shape": ""
          }
         },
         "name": "widgets",
         "offsetgroup": "widgets",
         "orientation": "v",
         "showlegend": false,
         "text": [
          "widgets"
         ],
         "textposition": "inside",
         "type": "bar",
         "x": [
          "fitoprincipe"
         ],
         "xaxis": "x",
         "y": [
          6
         ],
         "yaxis": "y"
        },
        {
         "alignmentgroup": "True",
         "hovertemplate": "module_name=%{text}<br>Contributor=%{x}<br>Total Imports=%{y}<extra></extra>",
         "legendgroup": "modules/DataType.js",
         "marker": {
          "color": "rgb(127, 60, 141)",
          "pattern": {
           "shape": ""
          }
         },
         "name": "modules/DataType.js",
         "offsetgroup": "modules/DataType.js",
         "orientation": "v",
         "showlegend": false,
         "text": [
          "modules/DataType.js"
         ],
         "textposition": "inside",
         "type": "bar",
         "x": [
          "mapbiomas"
         ],
         "xaxis": "x",
         "y": [
          6
         ],
         "yaxis": "y"
        },
        {
         "alignmentgroup": "True",
         "hovertemplate": "module_name=%{text}<br>Contributor=%{x}<br>Total Imports=%{y}<extra></extra>",
         "legendgroup": "_tools/string",
         "marker": {
          "color": "rgb(17, 165, 121)",
          "pattern": {
           "shape": ""
          }
         },
         "name": "_tools/string",
         "offsetgroup": "_tools/string",
         "orientation": "v",
         "showlegend": false,
         "text": [
          "_tools/string"
         ],
         "textposition": "inside",
         "type": "bar",
         "x": [
          "fitoprincipe"
         ],
         "xaxis": "x",
         "y": [
          5
         ],
         "yaxis": "y"
        },
        {
         "alignmentgroup": "True",
         "hovertemplate": "module_name=%{text}<br>Contributor=%{x}<br>Total Imports=%{y}<extra></extra>",
         "legendgroup": "Legend.js",
         "marker": {
          "color": "rgb(57, 105, 172)",
          "pattern": {
           "shape": ""
          }
         },
         "name": "Legend.js",
         "offsetgroup": "Legend.js",
         "orientation": "v",
         "showlegend": false,
         "text": [
          "Legend.js"
         ],
         "textposition": "inside",
         "type": "bar",
         "x": [
          "mapbiomas"
         ],
         "xaxis": "x",
         "y": [
          5
         ],
         "yaxis": "y"
        },
        {
         "alignmentgroup": "True",
         "hovertemplate": "module_name=%{text}<br>Contributor=%{x}<br>Total Imports=%{y}<extra></extra>",
         "legendgroup": "PostClassification.js",
         "marker": {
          "color": "rgb(242, 183, 1)",
          "pattern": {
           "shape": ""
          }
         },
         "name": "PostClassification.js",
         "offsetgroup": "PostClassification.js",
         "orientation": "v",
         "showlegend": false,
         "text": [
          "PostClassification.js"
         ],
         "textposition": "inside",
         "type": "bar",
         "x": [
          "mapbiomas"
         ],
         "xaxis": "x",
         "y": [
          5
         ],
         "yaxis": "y"
        },
        {
         "alignmentgroup": "True",
         "hovertemplate": "module_name=%{text}<br>Contributor=%{x}<br>Total Imports=%{y}<extra></extra>",
         "legendgroup": "pkg_date.js",
         "marker": {
          "color": "rgb(231, 63, 116)",
          "pattern": {
           "shape": ""
          }
         },
         "name": "pkg_date.js",
         "offsetgroup": "pkg_date.js",
         "orientation": "v",
         "showlegend": false,
         "text": [
          "pkg_date.js"
         ],
         "textposition": "inside",
         "type": "bar",
         "x": [
          "kongdd"
         ],
         "xaxis": "x",
         "y": [
          4
         ],
         "yaxis": "y"
        },
        {
         "alignmentgroup": "True",
         "hovertemplate": "module_name=%{text}<br>Contributor=%{x}<br>Total Imports=%{y}<extra></extra>",
         "legendgroup": "EMODnet-02-water-occurrence",
         "marker": {
          "color": "rgb(128, 186, 90)",
          "pattern": {
           "shape": ""
          }
         },
         "name": "EMODnet-02-water-occurrence",
         "offsetgroup": "EMODnet-02-water-occurrence",
         "orientation": "v",
         "showlegend": false,
         "text": [
          "EMODnet-02-water-occurrence"
         ],
         "textposition": "inside",
         "type": "bar",
         "x": [
          "gena"
         ],
         "xaxis": "x",
         "y": [
          4
         ],
         "yaxis": "y"
        },
        {
         "alignmentgroup": "True",
         "hovertemplate": "module_name=%{text}<br>Contributor=%{x}<br>Total Imports=%{y}<extra></extra>",
         "legendgroup": "pkg_phenology.js",
         "marker": {
          "color": "rgb(230, 131, 16)",
          "pattern": {
           "shape": ""
          }
         },
         "name": "pkg_phenology.js",
         "offsetgroup": "pkg_phenology.js",
         "orientation": "v",
         "showlegend": false,
         "text": [
          "pkg_phenology.js"
         ],
         "textposition": "inside",
         "type": "bar",
         "x": [
          "kongdd"
         ],
         "xaxis": "x",
         "y": [
          4
         ],
         "yaxis": "y"
        },
        {
         "alignmentgroup": "True",
         "hovertemplate": "module_name=%{text}<br>Contributor=%{x}<br>Total Imports=%{y}<extra></extra>",
         "legendgroup": "helpers",
         "marker": {
          "color": "rgb(0, 134, 149)",
          "pattern": {
           "shape": ""
          }
         },
         "name": "helpers",
         "offsetgroup": "helpers",
         "orientation": "v",
         "showlegend": false,
         "text": [
          "helpers"
         ],
         "textposition": "inside",
         "type": "bar",
         "x": [
          "fitoprincipe"
         ],
         "xaxis": "x",
         "y": [
          3
         ],
         "yaxis": "y"
        },
        {
         "alignmentgroup": "True",
         "hovertemplate": "module_name=%{text}<br>Contributor=%{x}<br>Total Imports=%{y}<extra></extra>",
         "legendgroup": "pkg_modis.js",
         "marker": {
          "color": "rgb(207, 28, 144)",
          "pattern": {
           "shape": ""
          }
         },
         "name": "pkg_modis.js",
         "offsetgroup": "pkg_modis.js",
         "orientation": "v",
         "showlegend": false,
         "text": [
          "pkg_modis.js"
         ],
         "textposition": "inside",
         "type": "bar",
         "x": [
          "kongdd"
         ],
         "xaxis": "x",
         "y": [
          3
         ],
         "yaxis": "y"
        },
        {
         "alignmentgroup": "True",
         "hovertemplate": "module_name=%{text}<br>Contributor=%{x}<br>Total Imports=%{y}<extra></extra>",
         "legendgroup": "pkg_index.js",
         "marker": {
          "color": "rgb(249, 123, 114)",
          "pattern": {
           "shape": ""
          }
         },
         "name": "pkg_index.js",
         "offsetgroup": "pkg_index.js",
         "orientation": "v",
         "showlegend": false,
         "text": [
          "pkg_index.js"
         ],
         "textposition": "inside",
         "type": "bar",
         "x": [
          "kongdd"
         ],
         "xaxis": "x",
         "y": [
          3
         ],
         "yaxis": "y"
        },
        {
         "alignmentgroup": "True",
         "hovertemplate": "module_name=%{text}<br>Contributor=%{x}<br>Total Imports=%{y}<extra></extra>",
         "legendgroup": "_tools/list",
         "marker": {
          "color": "rgb(165, 170, 153)",
          "pattern": {
           "shape": ""
          }
         },
         "name": "_tools/list",
         "offsetgroup": "_tools/list",
         "orientation": "v",
         "showlegend": false,
         "text": [
          "_tools/list"
         ],
         "textposition": "inside",
         "type": "bar",
         "x": [
          "fitoprincipe"
         ],
         "xaxis": "x",
         "y": [
          3
         ],
         "yaxis": "y"
        },
        {
         "alignmentgroup": "True",
         "hovertemplate": "module_name=%{text}<br>Contributor=%{x}<br>Total Imports=%{y}<extra></extra>",
         "legendgroup": "indexes",
         "marker": {
          "color": "rgb(127, 60, 141)",
          "pattern": {
           "shape": ""
          }
         },
         "name": "indexes",
         "offsetgroup": "indexes",
         "orientation": "v",
         "showlegend": false,
         "text": [
          "indexes"
         ],
         "textposition": "inside",
         "type": "bar",
         "x": [
          "fitoprincipe"
         ],
         "xaxis": "x",
         "y": [
          2
         ],
         "yaxis": "y"
        },
        {
         "alignmentgroup": "True",
         "hovertemplate": "module_name=%{text}<br>Contributor=%{x}<br>Total Imports=%{y}<extra></extra>",
         "legendgroup": "pkg_pheno.js",
         "marker": {
          "color": "rgb(17, 165, 121)",
          "pattern": {
           "shape": ""
          }
         },
         "name": "pkg_pheno.js",
         "offsetgroup": "pkg_pheno.js",
         "orientation": "v",
         "showlegend": false,
         "text": [
          "pkg_pheno.js"
         ],
         "textposition": "inside",
         "type": "bar",
         "x": [
          "kongdd"
         ],
         "xaxis": "x",
         "y": [
          2
         ],
         "yaxis": "y"
        },
        {
         "alignmentgroup": "True",
         "hovertemplate": "module_name=%{text}<br>Contributor=%{x}<br>Total Imports=%{y}<extra></extra>",
         "legendgroup": "_tools/dictionary",
         "marker": {
          "color": "rgb(57, 105, 172)",
          "pattern": {
           "shape": ""
          }
         },
         "name": "_tools/dictionary",
         "offsetgroup": "_tools/dictionary",
         "orientation": "v",
         "showlegend": false,
         "text": [
          "_tools/dictionary"
         ],
         "textposition": "inside",
         "type": "bar",
         "x": [
          "fitoprincipe"
         ],
         "xaxis": "x",
         "y": [
          2
         ],
         "yaxis": "y"
        },
        {
         "alignmentgroup": "True",
         "hovertemplate": "module_name=%{text}<br>Contributor=%{x}<br>Total Imports=%{y}<extra></extra>",
         "legendgroup": "_tools/number",
         "marker": {
          "color": "rgb(242, 183, 1)",
          "pattern": {
           "shape": ""
          }
         },
         "name": "_tools/number",
         "offsetgroup": "_tools/number",
         "orientation": "v",
         "showlegend": false,
         "text": [
          "_tools/number"
         ],
         "textposition": "inside",
         "type": "bar",
         "x": [
          "fitoprincipe"
         ],
         "xaxis": "x",
         "y": [
          2
         ],
         "yaxis": "y"
        },
        {
         "alignmentgroup": "True",
         "hovertemplate": "module_name=%{text}<br>Contributor=%{x}<br>Total Imports=%{y}<extra></extra>",
         "legendgroup": "_tools/date",
         "marker": {
          "color": "rgb(231, 63, 116)",
          "pattern": {
           "shape": ""
          }
         },
         "name": "_tools/date",
         "offsetgroup": "_tools/date",
         "orientation": "v",
         "showlegend": false,
         "text": [
          "_tools/date"
         ],
         "textposition": "inside",
         "type": "bar",
         "x": [
          "fitoprincipe"
         ],
         "xaxis": "x",
         "y": [
          2
         ],
         "yaxis": "y"
        },
        {
         "alignmentgroup": "True",
         "hovertemplate": "module_name=%{text}<br>Contributor=%{x}<br>Total Imports=%{y}<extra></extra>",
         "legendgroup": "src/Joins.js",
         "marker": {
          "color": "rgb(128, 186, 90)",
          "pattern": {
           "shape": ""
          }
         },
         "name": "src/Joins.js",
         "offsetgroup": "src/Joins.js",
         "orientation": "v",
         "showlegend": false,
         "text": [
          "src/Joins.js"
         ],
         "textposition": "inside",
         "type": "bar",
         "x": [
          "kongdd"
         ],
         "xaxis": "x",
         "y": [
          2
         ],
         "yaxis": "y"
        },
        {
         "alignmentgroup": "True",
         "hovertemplate": "module_name=%{text}<br>Contributor=%{x}<br>Total Imports=%{y}<extra></extra>",
         "legendgroup": "_tools/map",
         "marker": {
          "color": "rgb(230, 131, 16)",
          "pattern": {
           "shape": ""
          }
         },
         "name": "_tools/map",
         "offsetgroup": "_tools/map",
         "orientation": "v",
         "showlegend": false,
         "text": [
          "_tools/map"
         ],
         "textposition": "inside",
         "type": "bar",
         "x": [
          "fitoprincipe"
         ],
         "xaxis": "x",
         "y": [
          2
         ],
         "yaxis": "y"
        },
        {
         "alignmentgroup": "True",
         "hovertemplate": "module_name=%{text}<br>Contributor=%{x}<br>Total Imports=%{y}<extra></extra>",
         "legendgroup": "_tools/featurecollection",
         "marker": {
          "color": "rgb(0, 134, 149)",
          "pattern": {
           "shape": ""
          }
         },
         "name": "_tools/featurecollection",
         "offsetgroup": "_tools/featurecollection",
         "orientation": "v",
         "showlegend": false,
         "text": [
          "_tools/featurecollection"
         ],
         "textposition": "inside",
         "type": "bar",
         "x": [
          "fitoprincipe"
         ],
         "xaxis": "x",
         "y": [
          2
         ],
         "yaxis": "y"
        },
        {
         "alignmentgroup": "True",
         "hovertemplate": "module_name=%{text}<br>Contributor=%{x}<br>Total Imports=%{y}<extra></extra>",
         "legendgroup": "_tools/feature",
         "marker": {
          "color": "rgb(207, 28, 144)",
          "pattern": {
           "shape": ""
          }
         },
         "name": "_tools/feature",
         "offsetgroup": "_tools/feature",
         "orientation": "v",
         "showlegend": false,
         "text": [
          "_tools/feature"
         ],
         "textposition": "inside",
         "type": "bar",
         "x": [
          "fitoprincipe"
         ],
         "xaxis": "x",
         "y": [
          2
         ],
         "yaxis": "y"
        },
        {
         "alignmentgroup": "True",
         "hovertemplate": "module_name=%{text}<br>Contributor=%{x}<br>Total Imports=%{y}<extra></extra>",
         "legendgroup": "_tools/geometry",
         "marker": {
          "color": "rgb(249, 123, 114)",
          "pattern": {
           "shape": ""
          }
         },
         "name": "_tools/geometry",
         "offsetgroup": "_tools/geometry",
         "orientation": "v",
         "showlegend": false,
         "text": [
          "_tools/geometry"
         ],
         "textposition": "inside",
         "type": "bar",
         "x": [
          "fitoprincipe"
         ],
         "xaxis": "x",
         "y": [
          2
         ],
         "yaxis": "y"
        },
        {
         "alignmentgroup": "True",
         "hovertemplate": "module_name=%{text}<br>Contributor=%{x}<br>Total Imports=%{y}<extra></extra>",
         "legendgroup": "pkg_agg.js",
         "marker": {
          "color": "rgb(165, 170, 153)",
          "pattern": {
           "shape": ""
          }
         },
         "name": "pkg_agg.js",
         "offsetgroup": "pkg_agg.js",
         "orientation": "v",
         "showlegend": false,
         "text": [
          "pkg_agg.js"
         ],
         "textposition": "inside",
         "type": "bar",
         "x": [
          "kongdd"
         ],
         "xaxis": "x",
         "y": [
          2
         ],
         "yaxis": "y"
        },
        {
         "alignmentgroup": "True",
         "hovertemplate": "module_name=%{text}<br>Contributor=%{x}<br>Total Imports=%{y}<extra></extra>",
         "legendgroup": "promise",
         "marker": {
          "color": "rgb(127, 60, 141)",
          "pattern": {
           "shape": ""
          }
         },
         "name": "promise",
         "offsetgroup": "promise",
         "orientation": "v",
         "showlegend": false,
         "text": [
          "promise"
         ],
         "textposition": "inside",
         "type": "bar",
         "x": [
          "gena"
         ],
         "xaxis": "x",
         "y": [
          2
         ],
         "yaxis": "y"
        },
        {
         "alignmentgroup": "True",
         "hovertemplate": "module_name=%{text}<br>Contributor=%{x}<br>Total Imports=%{y}<extra></extra>",
         "legendgroup": "../gena/colorbrewer",
         "marker": {
          "color": "rgb(17, 165, 121)",
          "pattern": {
           "shape": ""
          }
         },
         "name": "../gena/colorbrewer",
         "offsetgroup": "../gena/colorbrewer",
         "orientation": "v",
         "showlegend": false,
         "text": [
          "../gena/colorbrewer"
         ],
         "textposition": "inside",
         "type": "bar",
         "x": [
          "gena"
         ],
         "xaxis": "x",
         "y": [
          1
         ],
         "yaxis": "y"
        },
        {
         "alignmentgroup": "True",
         "hovertemplate": "module_name=%{text}<br>Contributor=%{x}<br>Total Imports=%{y}<extra></extra>",
         "legendgroup": "src/pkg_vis.js",
         "marker": {
          "color": "rgb(57, 105, 172)",
          "pattern": {
           "shape": ""
          }
         },
         "name": "src/pkg_vis.js",
         "offsetgroup": "src/pkg_vis.js",
         "orientation": "v",
         "showlegend": false,
         "text": [
          "src/pkg_vis.js"
         ],
         "textposition": "inside",
         "type": "bar",
         "x": [
          "kongdd"
         ],
         "xaxis": "x",
         "y": [
          1
         ],
         "yaxis": "y"
        },
        {
         "alignmentgroup": "True",
         "hovertemplate": "module_name=%{text}<br>Contributor=%{x}<br>Total Imports=%{y}<extra></extra>",
         "legendgroup": "Math/pkg_movmean.js",
         "marker": {
          "color": "rgb(242, 183, 1)",
          "pattern": {
           "shape": ""
          }
         },
         "name": "Math/pkg_movmean.js",
         "offsetgroup": "Math/pkg_movmean.js",
         "orientation": "v",
         "showlegend": false,
         "text": [
          "Math/pkg_movmean.js"
         ],
         "textposition": "inside",
         "type": "bar",
         "x": [
          "kongdd"
         ],
         "xaxis": "x",
         "y": [
          1
         ],
         "yaxis": "y"
        },
        {
         "alignmentgroup": "True",
         "hovertemplate": "module_name=%{text}<br>Contributor=%{x}<br>Total Imports=%{y}<extra></extra>",
         "legendgroup": "applications/bathymetry.js",
         "marker": {
          "color": "rgb(231, 63, 116)",
          "pattern": {
           "shape": ""
          }
         },
         "name": "applications/bathymetry.js",
         "offsetgroup": "applications/bathymetry.js",
         "orientation": "v",
         "showlegend": false,
         "text": [
          "applications/bathymetry.js"
         ],
         "textposition": "inside",
         "type": "bar",
         "x": [
          "gena"
         ],
         "xaxis": "x",
         "y": [
          1
         ],
         "yaxis": "y"
        },
        {
         "alignmentgroup": "True",
         "hovertemplate": "module_name=%{text}<br>Contributor=%{x}<br>Total Imports=%{y}<extra></extra>",
         "legendgroup": "src/pkg_pheno.js",
         "marker": {
          "color": "rgb(128, 186, 90)",
          "pattern": {
           "shape": ""
          }
         },
         "name": "src/pkg_pheno.js",
         "offsetgroup": "src/pkg_pheno.js",
         "orientation": "v",
         "showlegend": false,
         "text": [
          "src/pkg_pheno.js"
         ],
         "textposition": "inside",
         "type": "bar",
         "x": [
          "kongdd"
         ],
         "xaxis": "x",
         "y": [
          1
         ],
         "yaxis": "y"
        },
        {
         "alignmentgroup": "True",
         "hovertemplate": "module_name=%{text}<br>Contributor=%{x}<br>Total Imports=%{y}<extra></extra>",
         "legendgroup": "water-occurrence",
         "marker": {
          "color": "rgb(230, 131, 16)",
          "pattern": {
           "shape": ""
          }
         },
         "name": "water-occurrence",
         "offsetgroup": "water-occurrence",
         "orientation": "v",
         "showlegend": false,
         "text": [
          "water-occurrence"
         ],
         "textposition": "inside",
         "type": "bar",
         "x": [
          "gena"
         ],
         "xaxis": "x",
         "y": [
          1
         ],
         "yaxis": "y"
        },
        {
         "alignmentgroup": "True",
         "hovertemplate": "module_name=%{text}<br>Contributor=%{x}<br>Total Imports=%{y}<extra></extra>",
         "legendgroup": "labels",
         "marker": {
          "color": "rgb(0, 134, 149)",
          "pattern": {
           "shape": ""
          }
         },
         "name": "labels",
         "offsetgroup": "labels",
         "orientation": "v",
         "showlegend": false,
         "text": [
          "labels"
         ],
         "textposition": "inside",
         "type": "bar",
         "x": [
          "fitoprincipe"
         ],
         "xaxis": "x",
         "y": [
          1
         ],
         "yaxis": "y"
        },
        {
         "alignmentgroup": "True",
         "hovertemplate": "module_name=%{text}<br>Contributor=%{x}<br>Total Imports=%{y}<extra></extra>",
         "legendgroup": "pkg_VI.js",
         "marker": {
          "color": "rgb(207, 28, 144)",
          "pattern": {
           "shape": ""
          }
         },
         "name": "pkg_VI.js",
         "offsetgroup": "pkg_VI.js",
         "orientation": "v",
         "showlegend": false,
         "text": [
          "pkg_VI.js",
          "pkg_VI.js"
         ],
         "textposition": "inside",
         "type": "bar",
         "x": [
          "kongdd",
          "kongdd"
         ],
         "xaxis": "x",
         "y": [
          1,
          1
         ],
         "yaxis": "y"
        },
        {
         "alignmentgroup": "True",
         "hovertemplate": "module_name=%{text}<br>Contributor=%{x}<br>Total Imports=%{y}<extra></extra>",
         "legendgroup": "main_dev",
         "marker": {
          "color": "rgb(249, 123, 114)",
          "pattern": {
           "shape": ""
          }
         },
         "name": "main_dev",
         "offsetgroup": "main_dev",
         "orientation": "v",
         "showlegend": false,
         "text": [
          "main_dev"
         ],
         "textposition": "inside",
         "type": "bar",
         "x": [
          "fitoprincipe"
         ],
         "xaxis": "x",
         "y": [
          1
         ],
         "yaxis": "y"
        },
        {
         "alignmentgroup": "True",
         "hovertemplate": "module_name=%{text}<br>Contributor=%{x}<br>Total Imports=%{y}<extra></extra>",
         "legendgroup": "src/Export_Table.js",
         "marker": {
          "color": "rgb(165, 170, 153)",
          "pattern": {
           "shape": ""
          }
         },
         "name": "src/Export_Table.js",
         "offsetgroup": "src/Export_Table.js",
         "orientation": "v",
         "showlegend": false,
         "text": [
          "src/Export_Table.js"
         ],
         "textposition": "inside",
         "type": "bar",
         "x": [
          "kongdd"
         ],
         "xaxis": "x",
         "y": [
          1
         ],
         "yaxis": "y"
        },
        {
         "alignmentgroup": "True",
         "hovertemplate": "module_name=%{text}<br>Contributor=%{x}<br>Total Imports=%{y}<extra></extra>",
         "legendgroup": "Math/savitzky_golay.js",
         "marker": {
          "color": "rgb(127, 60, 141)",
          "pattern": {
           "shape": ""
          }
         },
         "name": "Math/savitzky_golay.js",
         "offsetgroup": "Math/savitzky_golay.js",
         "orientation": "v",
         "showlegend": false,
         "text": [
          "Math/savitzky_golay.js"
         ],
         "textposition": "inside",
         "type": "bar",
         "x": [
          "kongdd"
         ],
         "xaxis": "x",
         "y": [
          1
         ],
         "yaxis": "y"
        },
        {
         "alignmentgroup": "True",
         "hovertemplate": "module_name=%{text}<br>Contributor=%{x}<br>Total Imports=%{y}<extra></extra>",
         "legendgroup": "geometry-test-geojson",
         "marker": {
          "color": "rgb(17, 165, 121)",
          "pattern": {
           "shape": ""
          }
         },
         "name": "geometry-test-geojson",
         "offsetgroup": "geometry-test-geojson",
         "orientation": "v",
         "showlegend": false,
         "text": [
          "geometry-test-geojson"
         ],
         "textposition": "inside",
         "type": "bar",
         "x": [
          "gena"
         ],
         "xaxis": "x",
         "y": [
          1
         ],
         "yaxis": "y"
        },
        {
         "alignmentgroup": "True",
         "hovertemplate": "module_name=%{text}<br>Contributor=%{x}<br>Total Imports=%{y}<extra></extra>",
         "legendgroup": "slic",
         "marker": {
          "color": "rgb(57, 105, 172)",
          "pattern": {
           "shape": ""
          }
         },
         "name": "slic",
         "offsetgroup": "slic",
         "orientation": "v",
         "showlegend": false,
         "text": [
          "slic"
         ],
         "textposition": "inside",
         "type": "bar",
         "x": [
          "gena"
         ],
         "xaxis": "x",
         "y": [
          1
         ],
         "yaxis": "y"
        },
        {
         "alignmentgroup": "True",
         "hovertemplate": "module_name=%{text}<br>Contributor=%{x}<br>Total Imports=%{y}<extra></extra>",
         "legendgroup": "Math/Whittaker.js",
         "marker": {
          "color": "rgb(242, 183, 1)",
          "pattern": {
           "shape": ""
          }
         },
         "name": "Math/Whittaker.js",
         "offsetgroup": "Math/Whittaker.js",
         "orientation": "v",
         "showlegend": false,
         "text": [
          "Math/Whittaker.js"
         ],
         "textposition": "inside",
         "type": "bar",
         "x": [
          "kongdd"
         ],
         "xaxis": "x",
         "y": [
          1
         ],
         "yaxis": "y"
        },
        {
         "alignmentgroup": "True",
         "hovertemplate": "module_name=%{text}<br>Contributor=%{x}<br>Total Imports=%{y}<extra></extra>",
         "legendgroup": "funciones",
         "marker": {
          "color": "rgb(231, 63, 116)",
          "pattern": {
           "shape": ""
          }
         },
         "name": "funciones",
         "offsetgroup": "funciones",
         "orientation": "v",
         "showlegend": false,
         "text": [
          "funciones"
         ],
         "textposition": "inside",
         "type": "bar",
         "x": [
          "fitoprincipe"
         ],
         "xaxis": "x",
         "y": [
          1
         ],
         "yaxis": "y"
        },
        {
         "alignmentgroup": "True",
         "hovertemplate": "module_name=%{text}<br>Contributor=%{x}<br>Total Imports=%{y}<extra></extra>",
         "legendgroup": "satellites",
         "marker": {
          "color": "rgb(128, 186, 90)",
          "pattern": {
           "shape": ""
          }
         },
         "name": "satellites",
         "offsetgroup": "satellites",
         "orientation": "v",
         "showlegend": false,
         "text": [
          "satellites"
         ],
         "textposition": "inside",
         "type": "bar",
         "x": [
          "fitoprincipe"
         ],
         "xaxis": "x",
         "y": [
          1
         ],
         "yaxis": "y"
        },
        {
         "alignmentgroup": "True",
         "hovertemplate": "module_name=%{text}<br>Contributor=%{x}<br>Total Imports=%{y}<extra></extra>",
         "legendgroup": "main",
         "marker": {
          "color": "rgb(230, 131, 16)",
          "pattern": {
           "shape": ""
          }
         },
         "name": "main",
         "offsetgroup": "main",
         "orientation": "v",
         "showlegend": false,
         "text": [
          "main"
         ],
         "textposition": "inside",
         "type": "bar",
         "x": [
          "fitoprincipe"
         ],
         "xaxis": "x",
         "y": [
          1
         ],
         "yaxis": "y"
        },
        {
         "alignmentgroup": "True",
         "hovertemplate": "module_name=%{text}<br>Contributor=%{x}<br>Total Imports=%{y}<extra></extra>",
         "legendgroup": "batc3h",
         "marker": {
          "color": "rgb(0, 134, 149)",
          "pattern": {
           "shape": ""
          }
         },
         "name": "batc3h",
         "offsetgroup": "batc3h",
         "orientation": "v",
         "showlegend": false,
         "text": [
          "batc3h"
         ],
         "textposition": "inside",
         "type": "bar",
         "x": [
          "fitoprincipe"
         ],
         "xaxis": "x",
         "y": [
          1
         ],
         "yaxis": "y"
        },
        {
         "alignmentgroup": "True",
         "hovertemplate": "module_name=%{text}<br>Contributor=%{x}<br>Total Imports=%{y}<extra></extra>",
         "legendgroup": "tulisan",
         "marker": {
          "color": "rgb(207, 28, 144)",
          "pattern": {
           "shape": ""
          }
         },
         "name": "tulisan",
         "offsetgroup": "tulisan",
         "orientation": "v",
         "showlegend": false,
         "text": [
          "tulisan"
         ],
         "textposition": "inside",
         "type": "bar",
         "x": [
          "gena"
         ],
         "xaxis": "x",
         "y": [
          1
         ],
         "yaxis": "y"
        },
        {
         "alignmentgroup": "True",
         "hovertemplate": "module_name=%{text}<br>Contributor=%{x}<br>Total Imports=%{y}<extra></extra>",
         "legendgroup": "./gena/colorbrewer",
         "marker": {
          "color": "rgb(249, 123, 114)",
          "pattern": {
           "shape": ""
          }
         },
         "name": "./gena/colorbrewer",
         "offsetgroup": "./gena/colorbrewer",
         "orientation": "v",
         "showlegend": false,
         "text": [
          "./gena/colorbrewer"
         ],
         "textposition": "inside",
         "type": "bar",
         "x": [
          "gena"
         ],
         "xaxis": "x",
         "y": [
          1
         ],
         "yaxis": "y"
        }
       ],
       "layout": {
        "barmode": "relative",
        "font": {
         "size": 24
        },
        "height": 500,
        "legend": {
         "title": {
          "text": "module_name"
         },
         "tracegroupgap": 0
        },
        "margin": {
         "t": 60
        },
        "template": {
         "data": {
          "bar": [
           {
            "error_x": {
             "color": "rgb(51,51,51)"
            },
            "error_y": {
             "color": "rgb(51,51,51)"
            },
            "marker": {
             "line": {
              "color": "rgb(237,237,237)",
              "width": 0.5
             },
             "pattern": {
              "fillmode": "overlay",
              "size": 10,
              "solidity": 0.2
             }
            },
            "type": "bar"
           }
          ],
          "barpolar": [
           {
            "marker": {
             "line": {
              "color": "rgb(237,237,237)",
              "width": 0.5
             },
             "pattern": {
              "fillmode": "overlay",
              "size": 10,
              "solidity": 0.2
             }
            },
            "type": "barpolar"
           }
          ],
          "carpet": [
           {
            "aaxis": {
             "endlinecolor": "rgb(51,51,51)",
             "gridcolor": "white",
             "linecolor": "white",
             "minorgridcolor": "white",
             "startlinecolor": "rgb(51,51,51)"
            },
            "baxis": {
             "endlinecolor": "rgb(51,51,51)",
             "gridcolor": "white",
             "linecolor": "white",
             "minorgridcolor": "white",
             "startlinecolor": "rgb(51,51,51)"
            },
            "type": "carpet"
           }
          ],
          "choropleth": [
           {
            "colorbar": {
             "outlinewidth": 0,
             "tickcolor": "rgb(237,237,237)",
             "ticklen": 6,
             "ticks": "inside"
            },
            "type": "choropleth"
           }
          ],
          "contour": [
           {
            "colorbar": {
             "outlinewidth": 0,
             "tickcolor": "rgb(237,237,237)",
             "ticklen": 6,
             "ticks": "inside"
            },
            "colorscale": [
             [
              0,
              "rgb(20,44,66)"
             ],
             [
              1,
              "rgb(90,179,244)"
             ]
            ],
            "type": "contour"
           }
          ],
          "contourcarpet": [
           {
            "colorbar": {
             "outlinewidth": 0,
             "tickcolor": "rgb(237,237,237)",
             "ticklen": 6,
             "ticks": "inside"
            },
            "type": "contourcarpet"
           }
          ],
          "heatmap": [
           {
            "colorbar": {
             "outlinewidth": 0,
             "tickcolor": "rgb(237,237,237)",
             "ticklen": 6,
             "ticks": "inside"
            },
            "colorscale": [
             [
              0,
              "rgb(20,44,66)"
             ],
             [
              1,
              "rgb(90,179,244)"
             ]
            ],
            "type": "heatmap"
           }
          ],
          "heatmapgl": [
           {
            "colorbar": {
             "outlinewidth": 0,
             "tickcolor": "rgb(237,237,237)",
             "ticklen": 6,
             "ticks": "inside"
            },
            "colorscale": [
             [
              0,
              "rgb(20,44,66)"
             ],
             [
              1,
              "rgb(90,179,244)"
             ]
            ],
            "type": "heatmapgl"
           }
          ],
          "histogram": [
           {
            "marker": {
             "pattern": {
              "fillmode": "overlay",
              "size": 10,
              "solidity": 0.2
             }
            },
            "type": "histogram"
           }
          ],
          "histogram2d": [
           {
            "colorbar": {
             "outlinewidth": 0,
             "tickcolor": "rgb(237,237,237)",
             "ticklen": 6,
             "ticks": "inside"
            },
            "colorscale": [
             [
              0,
              "rgb(20,44,66)"
             ],
             [
              1,
              "rgb(90,179,244)"
             ]
            ],
            "type": "histogram2d"
           }
          ],
          "histogram2dcontour": [
           {
            "colorbar": {
             "outlinewidth": 0,
             "tickcolor": "rgb(237,237,237)",
             "ticklen": 6,
             "ticks": "inside"
            },
            "colorscale": [
             [
              0,
              "rgb(20,44,66)"
             ],
             [
              1,
              "rgb(90,179,244)"
             ]
            ],
            "type": "histogram2dcontour"
           }
          ],
          "mesh3d": [
           {
            "colorbar": {
             "outlinewidth": 0,
             "tickcolor": "rgb(237,237,237)",
             "ticklen": 6,
             "ticks": "inside"
            },
            "type": "mesh3d"
           }
          ],
          "parcoords": [
           {
            "line": {
             "colorbar": {
              "outlinewidth": 0,
              "tickcolor": "rgb(237,237,237)",
              "ticklen": 6,
              "ticks": "inside"
             }
            },
            "type": "parcoords"
           }
          ],
          "pie": [
           {
            "automargin": true,
            "type": "pie"
           }
          ],
          "scatter": [
           {
            "marker": {
             "colorbar": {
              "outlinewidth": 0,
              "tickcolor": "rgb(237,237,237)",
              "ticklen": 6,
              "ticks": "inside"
             }
            },
            "type": "scatter"
           }
          ],
          "scatter3d": [
           {
            "line": {
             "colorbar": {
              "outlinewidth": 0,
              "tickcolor": "rgb(237,237,237)",
              "ticklen": 6,
              "ticks": "inside"
             }
            },
            "marker": {
             "colorbar": {
              "outlinewidth": 0,
              "tickcolor": "rgb(237,237,237)",
              "ticklen": 6,
              "ticks": "inside"
             }
            },
            "type": "scatter3d"
           }
          ],
          "scattercarpet": [
           {
            "marker": {
             "colorbar": {
              "outlinewidth": 0,
              "tickcolor": "rgb(237,237,237)",
              "ticklen": 6,
              "ticks": "inside"
             }
            },
            "type": "scattercarpet"
           }
          ],
          "scattergeo": [
           {
            "marker": {
             "colorbar": {
              "outlinewidth": 0,
              "tickcolor": "rgb(237,237,237)",
              "ticklen": 6,
              "ticks": "inside"
             }
            },
            "type": "scattergeo"
           }
          ],
          "scattergl": [
           {
            "marker": {
             "colorbar": {
              "outlinewidth": 0,
              "tickcolor": "rgb(237,237,237)",
              "ticklen": 6,
              "ticks": "inside"
             }
            },
            "type": "scattergl"
           }
          ],
          "scattermapbox": [
           {
            "marker": {
             "colorbar": {
              "outlinewidth": 0,
              "tickcolor": "rgb(237,237,237)",
              "ticklen": 6,
              "ticks": "inside"
             }
            },
            "type": "scattermapbox"
           }
          ],
          "scatterpolar": [
           {
            "marker": {
             "colorbar": {
              "outlinewidth": 0,
              "tickcolor": "rgb(237,237,237)",
              "ticklen": 6,
              "ticks": "inside"
             }
            },
            "type": "scatterpolar"
           }
          ],
          "scatterpolargl": [
           {
            "marker": {
             "colorbar": {
              "outlinewidth": 0,
              "tickcolor": "rgb(237,237,237)",
              "ticklen": 6,
              "ticks": "inside"
             }
            },
            "type": "scatterpolargl"
           }
          ],
          "scatterternary": [
           {
            "marker": {
             "colorbar": {
              "outlinewidth": 0,
              "tickcolor": "rgb(237,237,237)",
              "ticklen": 6,
              "ticks": "inside"
             }
            },
            "type": "scatterternary"
           }
          ],
          "surface": [
           {
            "colorbar": {
             "outlinewidth": 0,
             "tickcolor": "rgb(237,237,237)",
             "ticklen": 6,
             "ticks": "inside"
            },
            "colorscale": [
             [
              0,
              "rgb(20,44,66)"
             ],
             [
              1,
              "rgb(90,179,244)"
             ]
            ],
            "type": "surface"
           }
          ],
          "table": [
           {
            "cells": {
             "fill": {
              "color": "rgb(237,237,237)"
             },
             "line": {
              "color": "white"
             }
            },
            "header": {
             "fill": {
              "color": "rgb(217,217,217)"
             },
             "line": {
              "color": "white"
             }
            },
            "type": "table"
           }
          ]
         },
         "layout": {
          "annotationdefaults": {
           "arrowhead": 0,
           "arrowwidth": 1
          },
          "autotypenumbers": "strict",
          "coloraxis": {
           "colorbar": {
            "outlinewidth": 0,
            "tickcolor": "rgb(237,237,237)",
            "ticklen": 6,
            "ticks": "inside"
           }
          },
          "colorscale": {
           "sequential": [
            [
             0,
             "rgb(20,44,66)"
            ],
            [
             1,
             "rgb(90,179,244)"
            ]
           ],
           "sequentialminus": [
            [
             0,
             "rgb(20,44,66)"
            ],
            [
             1,
             "rgb(90,179,244)"
            ]
           ]
          },
          "colorway": [
           "#F8766D",
           "#A3A500",
           "#00BF7D",
           "#00B0F6",
           "#E76BF3"
          ],
          "font": {
           "color": "rgb(51,51,51)"
          },
          "geo": {
           "bgcolor": "white",
           "lakecolor": "white",
           "landcolor": "rgb(237,237,237)",
           "showlakes": true,
           "showland": true,
           "subunitcolor": "white"
          },
          "hoverlabel": {
           "align": "left"
          },
          "hovermode": "closest",
          "paper_bgcolor": "white",
          "plot_bgcolor": "rgb(237,237,237)",
          "polar": {
           "angularaxis": {
            "gridcolor": "white",
            "linecolor": "white",
            "showgrid": true,
            "tickcolor": "rgb(51,51,51)",
            "ticks": "outside"
           },
           "bgcolor": "rgb(237,237,237)",
           "radialaxis": {
            "gridcolor": "white",
            "linecolor": "white",
            "showgrid": true,
            "tickcolor": "rgb(51,51,51)",
            "ticks": "outside"
           }
          },
          "scene": {
           "xaxis": {
            "backgroundcolor": "rgb(237,237,237)",
            "gridcolor": "white",
            "gridwidth": 2,
            "linecolor": "white",
            "showbackground": true,
            "showgrid": true,
            "tickcolor": "rgb(51,51,51)",
            "ticks": "outside",
            "zerolinecolor": "white"
           },
           "yaxis": {
            "backgroundcolor": "rgb(237,237,237)",
            "gridcolor": "white",
            "gridwidth": 2,
            "linecolor": "white",
            "showbackground": true,
            "showgrid": true,
            "tickcolor": "rgb(51,51,51)",
            "ticks": "outside",
            "zerolinecolor": "white"
           },
           "zaxis": {
            "backgroundcolor": "rgb(237,237,237)",
            "gridcolor": "white",
            "gridwidth": 2,
            "linecolor": "white",
            "showbackground": true,
            "showgrid": true,
            "tickcolor": "rgb(51,51,51)",
            "ticks": "outside",
            "zerolinecolor": "white"
           }
          },
          "shapedefaults": {
           "fillcolor": "black",
           "line": {
            "width": 0
           },
           "opacity": 0.3
          },
          "ternary": {
           "aaxis": {
            "gridcolor": "white",
            "linecolor": "white",
            "showgrid": true,
            "tickcolor": "rgb(51,51,51)",
            "ticks": "outside"
           },
           "baxis": {
            "gridcolor": "white",
            "linecolor": "white",
            "showgrid": true,
            "tickcolor": "rgb(51,51,51)",
            "ticks": "outside"
           },
           "bgcolor": "rgb(237,237,237)",
           "caxis": {
            "gridcolor": "white",
            "linecolor": "white",
            "showgrid": true,
            "tickcolor": "rgb(51,51,51)",
            "ticks": "outside"
           }
          },
          "xaxis": {
           "automargin": true,
           "gridcolor": "white",
           "linecolor": "white",
           "showgrid": true,
           "tickcolor": "rgb(51,51,51)",
           "ticks": "outside",
           "title": {
            "standoff": 15
           },
           "zerolinecolor": "white"
          },
          "yaxis": {
           "automargin": true,
           "gridcolor": "white",
           "linecolor": "white",
           "showgrid": true,
           "tickcolor": "rgb(51,51,51)",
           "ticks": "outside",
           "title": {
            "standoff": 15
           },
           "zerolinecolor": "white"
          }
         }
        },
        "uniformtext": {
         "minsize": 14,
         "mode": "hide"
        },
        "width": 800,
        "xaxis": {
         "anchor": "y",
         "categoryorder": "total descending",
         "domain": [
          0,
          1
         ],
         "title": {
          "text": "Contributor"
         }
        },
        "yaxis": {
         "anchor": "x",
         "domain": [
          0,
          1
         ],
         "tickformat": "s",
         "title": {
          "text": "Total Imports"
         }
        }
       }
      },
      "text/html": [
       "<div>                            <div id=\"9f3bbdc1-264a-4726-8f37-eaa0ea6b9306\" class=\"plotly-graph-div\" style=\"height:500px; width:800px;\"></div>            <script type=\"text/javascript\">                require([\"plotly\"], function(Plotly) {                    window.PLOTLYENV=window.PLOTLYENV || {};                                    if (document.getElementById(\"9f3bbdc1-264a-4726-8f37-eaa0ea6b9306\")) {                    Plotly.newPlot(                        \"9f3bbdc1-264a-4726-8f37-eaa0ea6b9306\",                        [{\"alignmentgroup\":\"True\",\"hovertemplate\":\"module_name=%{text}<br>Contributor=%{x}<br>Total Imports=%{y}<extra></extra>\",\"legendgroup\":\"palettes\",\"marker\":{\"color\":\"rgb(127, 60, 141)\",\"pattern\":{\"shape\":\"\"}},\"name\":\"palettes\",\"offsetgroup\":\"palettes\",\"orientation\":\"v\",\"showlegend\":false,\"text\":[\"palettes\"],\"textposition\":\"inside\",\"x\":[\"gena\"],\"xaxis\":\"x\",\"y\":[3587],\"yaxis\":\"y\",\"type\":\"bar\"},{\"alignmentgroup\":\"True\",\"hovertemplate\":\"module_name=%{text}<br>Contributor=%{x}<br>Total Imports=%{y}<extra></extra>\",\"legendgroup\":\"geet\",\"marker\":{\"color\":\"rgb(17, 165, 121)\",\"pattern\":{\"shape\":\"\"}},\"name\":\"geet\",\"offsetgroup\":\"geet\",\"orientation\":\"v\",\"showlegend\":false,\"text\":[\"geet\"],\"textposition\":\"inside\",\"x\":[\"elacerda\"],\"xaxis\":\"x\",\"y\":[2635],\"yaxis\":\"y\",\"type\":\"bar\"},{\"alignmentgroup\":\"True\",\"hovertemplate\":\"module_name=%{text}<br>Contributor=%{x}<br>Total Imports=%{y}<extra></extra>\",\"legendgroup\":\"batch\",\"marker\":{\"color\":\"rgb(57, 105, 172)\",\"pattern\":{\"shape\":\"\"}},\"name\":\"batch\",\"offsetgroup\":\"batch\",\"orientation\":\"v\",\"showlegend\":false,\"text\":[\"batch\",\"batch\",\"batch\"],\"textposition\":\"inside\",\"x\":[\"fitoprincipe\",\"fitoprincipe\",\"fitoprincipe\"],\"xaxis\":\"x\",\"y\":[2036,1,1],\"yaxis\":\"y\",\"type\":\"bar\"},{\"alignmentgroup\":\"True\",\"hovertemplate\":\"module_name=%{text}<br>Contributor=%{x}<br>Total Imports=%{y}<extra></extra>\",\"legendgroup\":\"Palettes.js\",\"marker\":{\"color\":\"rgb(242, 183, 1)\",\"pattern\":{\"shape\":\"\"}},\"name\":\"Palettes.js\",\"offsetgroup\":\"Palettes.js\",\"orientation\":\"v\",\"showlegend\":false,\"text\":[\"Palettes.js\"],\"textposition\":\"inside\",\"x\":[\"mapbiomas\"],\"xaxis\":\"x\",\"y\":[1937],\"yaxis\":\"y\",\"type\":\"bar\"},{\"alignmentgroup\":\"True\",\"hovertemplate\":\"module_name=%{text}<br>Contributor=%{x}<br>Total Imports=%{y}<extra></extra>\",\"legendgroup\":\"text\",\"marker\":{\"color\":\"rgb(231, 63, 116)\",\"pattern\":{\"shape\":\"\"}},\"name\":\"text\",\"offsetgroup\":\"text\",\"orientation\":\"v\",\"showlegend\":false,\"text\":[\"text\"],\"textposition\":\"inside\",\"x\":[\"gena\"],\"xaxis\":\"x\",\"y\":[1165],\"yaxis\":\"y\",\"type\":\"bar\"},{\"alignmentgroup\":\"True\",\"hovertemplate\":\"module_name=%{text}<br>Contributor=%{x}<br>Total Imports=%{y}<extra></extra>\",\"legendgroup\":\"animation\",\"marker\":{\"color\":\"rgb(128, 186, 90)\",\"pattern\":{\"shape\":\"\"}},\"name\":\"animation\",\"offsetgroup\":\"animation\",\"orientation\":\"v\",\"showlegend\":false,\"text\":[\"animation\",\"animation\"],\"textposition\":\"inside\",\"x\":[\"gena\",\"gena\"],\"xaxis\":\"x\",\"y\":[806,4],\"yaxis\":\"y\",\"type\":\"bar\"},{\"alignmentgroup\":\"True\",\"hovertemplate\":\"module_name=%{text}<br>Contributor=%{x}<br>Total Imports=%{y}<extra></extra>\",\"legendgroup\":\"style\",\"marker\":{\"color\":\"rgb(230, 131, 16)\",\"pattern\":{\"shape\":\"\"}},\"name\":\"style\",\"offsetgroup\":\"style\",\"orientation\":\"v\",\"showlegend\":false,\"text\":[\"style\"],\"textposition\":\"inside\",\"x\":[\"gena\"],\"xaxis\":\"x\",\"y\":[777],\"yaxis\":\"y\",\"type\":\"bar\"},{\"alignmentgroup\":\"True\",\"hovertemplate\":\"module_name=%{text}<br>Contributor=%{x}<br>Total Imports=%{y}<extra></extra>\",\"legendgroup\":\"cloud_masks\",\"marker\":{\"color\":\"rgb(0, 134, 149)\",\"pattern\":{\"shape\":\"\"}},\"name\":\"cloud_masks\",\"offsetgroup\":\"cloud_masks\",\"orientation\":\"v\",\"showlegend\":false,\"text\":[\"cloud_masks\"],\"textposition\":\"inside\",\"x\":[\"fitoprincipe\"],\"xaxis\":\"x\",\"y\":[665],\"yaxis\":\"y\",\"type\":\"bar\"},{\"alignmentgroup\":\"True\",\"hovertemplate\":\"module_name=%{text}<br>Contributor=%{x}<br>Total Imports=%{y}<extra></extra>\",\"legendgroup\":\"utils\",\"marker\":{\"color\":\"rgb(207, 28, 144)\",\"pattern\":{\"shape\":\"\"}},\"name\":\"utils\",\"offsetgroup\":\"utils\",\"orientation\":\"v\",\"showlegend\":false,\"text\":[\"utils\"],\"textposition\":\"inside\",\"x\":[\"gena\"],\"xaxis\":\"x\",\"y\":[574],\"yaxis\":\"y\",\"type\":\"bar\"},{\"alignmentgroup\":\"True\",\"hovertemplate\":\"module_name=%{text}<br>Contributor=%{x}<br>Total Imports=%{y}<extra></extra>\",\"legendgroup\":\"Math/pkg_smooth.js\",\"marker\":{\"color\":\"rgb(249, 123, 114)\",\"pattern\":{\"shape\":\"\"}},\"name\":\"Math/pkg_smooth.js\",\"offsetgroup\":\"Math/pkg_smooth.js\",\"orientation\":\"v\",\"showlegend\":false,\"text\":[\"Math/pkg_smooth.js\"],\"textposition\":\"inside\",\"x\":[\"kongdd\"],\"xaxis\":\"x\",\"y\":[517],\"yaxis\":\"y\",\"type\":\"bar\"},{\"alignmentgroup\":\"True\",\"hovertemplate\":\"module_name=%{text}<br>Contributor=%{x}<br>Total Imports=%{y}<extra></extra>\",\"legendgroup\":\"colorbrewer\",\"marker\":{\"color\":\"rgb(165, 170, 153)\",\"pattern\":{\"shape\":\"\"}},\"name\":\"colorbrewer\",\"offsetgroup\":\"colorbrewer\",\"orientation\":\"v\",\"showlegend\":false,\"text\":[\"colorbrewer\"],\"textposition\":\"inside\",\"x\":[\"gena\"],\"xaxis\":\"x\",\"y\":[496],\"yaxis\":\"y\",\"type\":\"bar\"},{\"alignmentgroup\":\"True\",\"hovertemplate\":\"module_name=%{text}<br>Contributor=%{x}<br>Total Imports=%{y}<extra></extra>\",\"legendgroup\":\"pkg_vis.js\",\"marker\":{\"color\":\"rgb(127, 60, 141)\",\"pattern\":{\"shape\":\"\"}},\"name\":\"pkg_vis.js\",\"offsetgroup\":\"pkg_vis.js\",\"orientation\":\"v\",\"showlegend\":false,\"text\":[\"pkg_vis.js\",\"pkg_vis.js\"],\"textposition\":\"inside\",\"x\":[\"kongdd\",\"kongdd\"],\"xaxis\":\"x\",\"y\":[458,23],\"yaxis\":\"y\",\"type\":\"bar\"},{\"alignmentgroup\":\"True\",\"hovertemplate\":\"module_name=%{text}<br>Contributor=%{x}<br>Total Imports=%{y}<extra></extra>\",\"legendgroup\":\"assets\",\"marker\":{\"color\":\"rgb(17, 165, 121)\",\"pattern\":{\"shape\":\"\"}},\"name\":\"assets\",\"offsetgroup\":\"assets\",\"orientation\":\"v\",\"showlegend\":false,\"text\":[\"assets\"],\"textposition\":\"inside\",\"x\":[\"gena\"],\"xaxis\":\"x\",\"y\":[326],\"yaxis\":\"y\",\"type\":\"bar\"},{\"alignmentgroup\":\"True\",\"hovertemplate\":\"module_name=%{text}<br>Contributor=%{x}<br>Total Imports=%{y}<extra></extra>\",\"legendgroup\":\"tools\",\"marker\":{\"color\":\"rgb(57, 105, 172)\",\"pattern\":{\"shape\":\"\"}},\"name\":\"tools\",\"offsetgroup\":\"tools\",\"orientation\":\"v\",\"showlegend\":false,\"text\":[\"tools\"],\"textposition\":\"inside\",\"x\":[\"fitoprincipe\"],\"xaxis\":\"x\",\"y\":[283],\"yaxis\":\"y\",\"type\":\"bar\"},{\"alignmentgroup\":\"True\",\"hovertemplate\":\"module_name=%{text}<br>Contributor=%{x}<br>Total Imports=%{y}<extra></extra>\",\"legendgroup\":\"pkg_main.js\",\"marker\":{\"color\":\"rgb(242, 183, 1)\",\"pattern\":{\"shape\":\"\"}},\"name\":\"pkg_main.js\",\"offsetgroup\":\"pkg_main.js\",\"orientation\":\"v\",\"showlegend\":false,\"text\":[\"pkg_main.js\",\"pkg_main.js\"],\"textposition\":\"inside\",\"x\":[\"kongdd\",\"kongdd\"],\"xaxis\":\"x\",\"y\":[238,14],\"yaxis\":\"y\",\"type\":\"bar\"},{\"alignmentgroup\":\"True\",\"hovertemplate\":\"module_name=%{text}<br>Contributor=%{x}<br>Total Imports=%{y}<extra></extra>\",\"legendgroup\":\"Math/pkg_whit.js\",\"marker\":{\"color\":\"rgb(231, 63, 116)\",\"pattern\":{\"shape\":\"\"}},\"name\":\"Math/pkg_whit.js\",\"offsetgroup\":\"Math/pkg_whit.js\",\"orientation\":\"v\",\"showlegend\":false,\"text\":[\"Math/pkg_whit.js\"],\"textposition\":\"inside\",\"x\":[\"kongdd\"],\"xaxis\":\"x\",\"y\":[200],\"yaxis\":\"y\",\"type\":\"bar\"},{\"alignmentgroup\":\"True\",\"hovertemplate\":\"module_name=%{text}<br>Contributor=%{x}<br>Total Imports=%{y}<extra></extra>\",\"legendgroup\":\"Math/pkg_trend.js\",\"marker\":{\"color\":\"rgb(128, 186, 90)\",\"pattern\":{\"shape\":\"\"}},\"name\":\"Math/pkg_trend.js\",\"offsetgroup\":\"Math/pkg_trend.js\",\"orientation\":\"v\",\"showlegend\":false,\"text\":[\"Math/pkg_trend.js\"],\"textposition\":\"inside\",\"x\":[\"kongdd\"],\"xaxis\":\"x\",\"y\":[180],\"yaxis\":\"y\",\"type\":\"bar\"},{\"alignmentgroup\":\"True\",\"hovertemplate\":\"module_name=%{text}<br>Contributor=%{x}<br>Total Imports=%{y}<extra></extra>\",\"legendgroup\":\"pkg_export.js\",\"marker\":{\"color\":\"rgb(230, 131, 16)\",\"pattern\":{\"shape\":\"\"}},\"name\":\"pkg_export.js\",\"offsetgroup\":\"pkg_export.js\",\"orientation\":\"v\",\"showlegend\":false,\"text\":[\"pkg_export.js\",\"pkg_export.js\"],\"textposition\":\"inside\",\"x\":[\"kongdd\",\"kongdd\"],\"xaxis\":\"x\",\"y\":[114,12],\"yaxis\":\"y\",\"type\":\"bar\"},{\"alignmentgroup\":\"True\",\"hovertemplate\":\"module_name=%{text}<br>Contributor=%{x}<br>Total Imports=%{y}<extra></extra>\",\"legendgroup\":\"pkg_join.js\",\"marker\":{\"color\":\"rgb(0, 134, 149)\",\"pattern\":{\"shape\":\"\"}},\"name\":\"pkg_join.js\",\"offsetgroup\":\"pkg_join.js\",\"orientation\":\"v\",\"showlegend\":false,\"text\":[\"pkg_join.js\",\"pkg_join.js\"],\"textposition\":\"inside\",\"x\":[\"kongdd\",\"kongdd\"],\"xaxis\":\"x\",\"y\":[92,3],\"yaxis\":\"y\",\"type\":\"bar\"},{\"alignmentgroup\":\"True\",\"hovertemplate\":\"module_name=%{text}<br>Contributor=%{x}<br>Total Imports=%{y}<extra></extra>\",\"legendgroup\":\"geometry\",\"marker\":{\"color\":\"rgb(207, 28, 144)\",\"pattern\":{\"shape\":\"\"}},\"name\":\"geometry\",\"offsetgroup\":\"geometry\",\"orientation\":\"v\",\"showlegend\":false,\"text\":[\"geometry\"],\"textposition\":\"inside\",\"x\":[\"gena\"],\"xaxis\":\"x\",\"y\":[78],\"yaxis\":\"y\",\"type\":\"bar\"},{\"alignmentgroup\":\"True\",\"hovertemplate\":\"module_name=%{text}<br>Contributor=%{x}<br>Total Imports=%{y}<extra></extra>\",\"legendgroup\":\"helpers_js\",\"marker\":{\"color\":\"rgb(249, 123, 114)\",\"pattern\":{\"shape\":\"\"}},\"name\":\"helpers_js\",\"offsetgroup\":\"helpers_js\",\"orientation\":\"v\",\"showlegend\":false,\"text\":[\"helpers_js\"],\"textposition\":\"inside\",\"x\":[\"fitoprincipe\"],\"xaxis\":\"x\",\"y\":[69],\"yaxis\":\"y\",\"type\":\"bar\"},{\"alignmentgroup\":\"True\",\"hovertemplate\":\"module_name=%{text}<br>Contributor=%{x}<br>Total Imports=%{y}<extra></extra>\",\"legendgroup\":\"Logos.js\",\"marker\":{\"color\":\"rgb(165, 170, 153)\",\"pattern\":{\"shape\":\"\"}},\"name\":\"Logos.js\",\"offsetgroup\":\"Logos.js\",\"orientation\":\"v\",\"showlegend\":false,\"text\":[\"Logos.js\"],\"textposition\":\"inside\",\"x\":[\"mapbiomas\"],\"xaxis\":\"x\",\"y\":[61],\"yaxis\":\"y\",\"type\":\"bar\"},{\"alignmentgroup\":\"True\",\"hovertemplate\":\"module_name=%{text}<br>Contributor=%{x}<br>Total Imports=%{y}<extra></extra>\",\"legendgroup\":\"thresholding\",\"marker\":{\"color\":\"rgb(127, 60, 141)\",\"pattern\":{\"shape\":\"\"}},\"name\":\"thresholding\",\"offsetgroup\":\"thresholding\",\"orientation\":\"v\",\"showlegend\":false,\"text\":[\"thresholding\"],\"textposition\":\"inside\",\"x\":[\"gena\"],\"xaxis\":\"x\",\"y\":[60],\"yaxis\":\"y\",\"type\":\"bar\"},{\"alignmentgroup\":\"True\",\"hovertemplate\":\"module_name=%{text}<br>Contributor=%{x}<br>Total Imports=%{y}<extra></extra>\",\"legendgroup\":\"hydro\",\"marker\":{\"color\":\"rgb(17, 165, 121)\",\"pattern\":{\"shape\":\"\"}},\"name\":\"hydro\",\"offsetgroup\":\"hydro\",\"orientation\":\"v\",\"showlegend\":false,\"text\":[\"hydro\"],\"textposition\":\"inside\",\"x\":[\"gena\"],\"xaxis\":\"x\",\"y\":[59],\"yaxis\":\"y\",\"type\":\"bar\"},{\"alignmentgroup\":\"True\",\"hovertemplate\":\"module_name=%{text}<br>Contributor=%{x}<br>Total Imports=%{y}<extra></extra>\",\"legendgroup\":\"grid\",\"marker\":{\"color\":\"rgb(57, 105, 172)\",\"pattern\":{\"shape\":\"\"}},\"name\":\"grid\",\"offsetgroup\":\"grid\",\"orientation\":\"v\",\"showlegend\":false,\"text\":[\"grid\"],\"textposition\":\"inside\",\"x\":[\"gena\"],\"xaxis\":\"x\",\"y\":[50],\"yaxis\":\"y\",\"type\":\"bar\"},{\"alignmentgroup\":\"True\",\"hovertemplate\":\"module_name=%{text}<br>Contributor=%{x}<br>Total Imports=%{y}<extra></extra>\",\"legendgroup\":\"data/flux_points.js\",\"marker\":{\"color\":\"rgb(242, 183, 1)\",\"pattern\":{\"shape\":\"\"}},\"name\":\"data/flux_points.js\",\"offsetgroup\":\"data/flux_points.js\",\"orientation\":\"v\",\"showlegend\":false,\"text\":[\"data/flux_points.js\"],\"textposition\":\"inside\",\"x\":[\"kongdd\"],\"xaxis\":\"x\",\"y\":[43],\"yaxis\":\"y\",\"type\":\"bar\"},{\"alignmentgroup\":\"True\",\"hovertemplate\":\"module_name=%{text}<br>Contributor=%{x}<br>Total Imports=%{y}<extra></extra>\",\"legendgroup\":\"cloud-utils\",\"marker\":{\"color\":\"rgb(231, 63, 116)\",\"pattern\":{\"shape\":\"\"}},\"name\":\"cloud-utils\",\"offsetgroup\":\"cloud-utils\",\"orientation\":\"v\",\"showlegend\":false,\"text\":[\"cloud-utils\"],\"textposition\":\"inside\",\"x\":[\"gena\"],\"xaxis\":\"x\",\"y\":[37],\"yaxis\":\"y\",\"type\":\"bar\"},{\"alignmentgroup\":\"True\",\"hovertemplate\":\"module_name=%{text}<br>Contributor=%{x}<br>Total Imports=%{y}<extra></extra>\",\"legendgroup\":\"satellite\",\"marker\":{\"color\":\"rgb(128, 186, 90)\",\"pattern\":{\"shape\":\"\"}},\"name\":\"satellite\",\"offsetgroup\":\"satellite\",\"orientation\":\"v\",\"showlegend\":false,\"text\":[\"satellite\"],\"textposition\":\"inside\",\"x\":[\"fitoprincipe\"],\"xaxis\":\"x\",\"y\":[36],\"yaxis\":\"y\",\"type\":\"bar\"},{\"alignmentgroup\":\"True\",\"hovertemplate\":\"module_name=%{text}<br>Contributor=%{x}<br>Total Imports=%{y}<extra></extra>\",\"legendgroup\":\"charting\",\"marker\":{\"color\":\"rgb(230, 131, 16)\",\"pattern\":{\"shape\":\"\"}},\"name\":\"charting\",\"offsetgroup\":\"charting\",\"orientation\":\"v\",\"showlegend\":false,\"text\":[\"charting\"],\"textposition\":\"inside\",\"x\":[\"gena\"],\"xaxis\":\"x\",\"y\":[33],\"yaxis\":\"y\",\"type\":\"bar\"},{\"alignmentgroup\":\"True\",\"hovertemplate\":\"module_name=%{text}<br>Contributor=%{x}<br>Total Imports=%{y}<extra></extra>\",\"legendgroup\":\"debug.js\",\"marker\":{\"color\":\"rgb(0, 134, 149)\",\"pattern\":{\"shape\":\"\"}},\"name\":\"debug.js\",\"offsetgroup\":\"debug.js\",\"orientation\":\"v\",\"showlegend\":false,\"text\":[\"debug.js\"],\"textposition\":\"inside\",\"x\":[\"kongdd\"],\"xaxis\":\"x\",\"y\":[31],\"yaxis\":\"y\",\"type\":\"bar\"},{\"alignmentgroup\":\"True\",\"hovertemplate\":\"module_name=%{text}<br>Contributor=%{x}<br>Total Imports=%{y}<extra></extra>\",\"legendgroup\":\"decision_tree\",\"marker\":{\"color\":\"rgb(207, 28, 144)\",\"pattern\":{\"shape\":\"\"}},\"name\":\"decision_tree\",\"offsetgroup\":\"decision_tree\",\"orientation\":\"v\",\"showlegend\":false,\"text\":[\"decision_tree\"],\"textposition\":\"inside\",\"x\":[\"fitoprincipe\"],\"xaxis\":\"x\",\"y\":[30],\"yaxis\":\"y\",\"type\":\"bar\"},{\"alignmentgroup\":\"True\",\"hovertemplate\":\"module_name=%{text}<br>Contributor=%{x}<br>Total Imports=%{y}<extra></extra>\",\"legendgroup\":\"geet.js\",\"marker\":{\"color\":\"rgb(249, 123, 114)\",\"pattern\":{\"shape\":\"\"}},\"name\":\"geet.js\",\"offsetgroup\":\"geet.js\",\"orientation\":\"v\",\"showlegend\":false,\"text\":[\"geet.js\"],\"textposition\":\"inside\",\"x\":[\"elacerda\"],\"xaxis\":\"x\",\"y\":[24],\"yaxis\":\"y\",\"type\":\"bar\"},{\"alignmentgroup\":\"True\",\"hovertemplate\":\"module_name=%{text}<br>Contributor=%{x}<br>Total Imports=%{y}<extra></extra>\",\"legendgroup\":\"gl\",\"marker\":{\"color\":\"rgb(165, 170, 153)\",\"pattern\":{\"shape\":\"\"}},\"name\":\"gl\",\"offsetgroup\":\"gl\",\"orientation\":\"v\",\"showlegend\":false,\"text\":[\"gl\"],\"textposition\":\"inside\",\"x\":[\"gena\"],\"xaxis\":\"x\",\"y\":[21],\"yaxis\":\"y\",\"type\":\"bar\"},{\"alignmentgroup\":\"True\",\"hovertemplate\":\"module_name=%{text}<br>Contributor=%{x}<br>Total Imports=%{y}<extra></extra>\",\"legendgroup\":\"ui\",\"marker\":{\"color\":\"rgb(127, 60, 141)\",\"pattern\":{\"shape\":\"\"}},\"name\":\"ui\",\"offsetgroup\":\"ui\",\"orientation\":\"v\",\"showlegend\":false,\"text\":[\"ui\"],\"textposition\":\"inside\",\"x\":[\"gena\"],\"xaxis\":\"x\",\"y\":[19],\"yaxis\":\"y\",\"type\":\"bar\"},{\"alignmentgroup\":\"True\",\"hovertemplate\":\"module_name=%{text}<br>Contributor=%{x}<br>Total Imports=%{y}<extra></extra>\",\"legendgroup\":\"earth\",\"marker\":{\"color\":\"rgb(17, 165, 121)\",\"pattern\":{\"shape\":\"\"}},\"name\":\"earth\",\"offsetgroup\":\"earth\",\"orientation\":\"v\",\"showlegend\":false,\"text\":[\"earth\"],\"textposition\":\"inside\",\"x\":[\"gena\"],\"xaxis\":\"x\",\"y\":[18],\"yaxis\":\"y\",\"type\":\"bar\"},{\"alignmentgroup\":\"True\",\"hovertemplate\":\"module_name=%{text}<br>Contributor=%{x}<br>Total Imports=%{y}<extra></extra>\",\"legendgroup\":\"list_algorithms\",\"marker\":{\"color\":\"rgb(57, 105, 172)\",\"pattern\":{\"shape\":\"\"}},\"name\":\"list_algorithms\",\"offsetgroup\":\"list_algorithms\",\"orientation\":\"v\",\"showlegend\":false,\"text\":[\"list_algorithms\"],\"textposition\":\"inside\",\"x\":[\"fitoprincipe\"],\"xaxis\":\"x\",\"y\":[18],\"yaxis\":\"y\",\"type\":\"bar\"},{\"alignmentgroup\":\"True\",\"hovertemplate\":\"module_name=%{text}<br>Contributor=%{x}<br>Total Imports=%{y}<extra></extra>\",\"legendgroup\":\"modules/BandNames.js\",\"marker\":{\"color\":\"rgb(242, 183, 1)\",\"pattern\":{\"shape\":\"\"}},\"name\":\"modules/BandNames.js\",\"offsetgroup\":\"modules/BandNames.js\",\"orientation\":\"v\",\"showlegend\":false,\"text\":[\"modules/BandNames.js\"],\"textposition\":\"inside\",\"x\":[\"mapbiomas\"],\"xaxis\":\"x\",\"y\":[14],\"yaxis\":\"y\",\"type\":\"bar\"},{\"alignmentgroup\":\"True\",\"hovertemplate\":\"module_name=%{text}<br>Contributor=%{x}<br>Total Imports=%{y}<extra></extra>\",\"legendgroup\":\"image-view\",\"marker\":{\"color\":\"rgb(231, 63, 116)\",\"pattern\":{\"shape\":\"\"}},\"name\":\"image-view\",\"offsetgroup\":\"image-view\",\"orientation\":\"v\",\"showlegend\":false,\"text\":[\"image-view\"],\"textposition\":\"inside\",\"x\":[\"gena\"],\"xaxis\":\"x\",\"y\":[13],\"yaxis\":\"y\",\"type\":\"bar\"},{\"alignmentgroup\":\"True\",\"hovertemplate\":\"module_name=%{text}<br>Contributor=%{x}<br>Total Imports=%{y}<extra></extra>\",\"legendgroup\":\"smooth_whit.js\",\"marker\":{\"color\":\"rgb(128, 186, 90)\",\"pattern\":{\"shape\":\"\"}},\"name\":\"smooth_whit.js\",\"offsetgroup\":\"smooth_whit.js\",\"orientation\":\"v\",\"showlegend\":false,\"text\":[\"smooth_whit.js\"],\"textposition\":\"inside\",\"x\":[\"kongdd\"],\"xaxis\":\"x\",\"y\":[13],\"yaxis\":\"y\",\"type\":\"bar\"},{\"alignmentgroup\":\"True\",\"hovertemplate\":\"module_name=%{text}<br>Contributor=%{x}<br>Total Imports=%{y}<extra></extra>\",\"legendgroup\":\"gallery\",\"marker\":{\"color\":\"rgb(230, 131, 16)\",\"pattern\":{\"shape\":\"\"}},\"name\":\"gallery\",\"offsetgroup\":\"gallery\",\"orientation\":\"v\",\"showlegend\":false,\"text\":[\"gallery\"],\"textposition\":\"inside\",\"x\":[\"gena\"],\"xaxis\":\"x\",\"y\":[13],\"yaxis\":\"y\",\"type\":\"bar\"},{\"alignmentgroup\":\"True\",\"hovertemplate\":\"module_name=%{text}<br>Contributor=%{x}<br>Total Imports=%{y}<extra></extra>\",\"legendgroup\":\"Figure/dat02_MOD13A1_smoothed.js\",\"marker\":{\"color\":\"rgb(0, 134, 149)\",\"pattern\":{\"shape\":\"\"}},\"name\":\"Figure/dat02_MOD13A1_smoothed.js\",\"offsetgroup\":\"Figure/dat02_MOD13A1_smoothed.js\",\"orientation\":\"v\",\"showlegend\":false,\"text\":[\"Figure/dat02_MOD13A1_smoothed.js\"],\"textposition\":\"inside\",\"x\":[\"kongdd\"],\"xaxis\":\"x\",\"y\":[12],\"yaxis\":\"y\",\"type\":\"bar\"},{\"alignmentgroup\":\"True\",\"hovertemplate\":\"module_name=%{text}<br>Contributor=%{x}<br>Total Imports=%{y}<extra></extra>\",\"legendgroup\":\"data/ImgCol_MODIS_LAI.js\",\"marker\":{\"color\":\"rgb(207, 28, 144)\",\"pattern\":{\"shape\":\"\"}},\"name\":\"data/ImgCol_MODIS_LAI.js\",\"offsetgroup\":\"data/ImgCol_MODIS_LAI.js\",\"orientation\":\"v\",\"showlegend\":false,\"text\":[\"data/ImgCol_MODIS_LAI.js\"],\"textposition\":\"inside\",\"x\":[\"kongdd\"],\"xaxis\":\"x\",\"y\":[12],\"yaxis\":\"y\",\"type\":\"bar\"},{\"alignmentgroup\":\"True\",\"hovertemplate\":\"module_name=%{text}<br>Contributor=%{x}<br>Total Imports=%{y}<extra></extra>\",\"legendgroup\":\"main/smooth_whit.js\",\"marker\":{\"color\":\"rgb(249, 123, 114)\",\"pattern\":{\"shape\":\"\"}},\"name\":\"main/smooth_whit.js\",\"offsetgroup\":\"main/smooth_whit.js\",\"orientation\":\"v\",\"showlegend\":false,\"text\":[\"main/smooth_whit.js\"],\"textposition\":\"inside\",\"x\":[\"kongdd\"],\"xaxis\":\"x\",\"y\":[12],\"yaxis\":\"y\",\"type\":\"bar\"},{\"alignmentgroup\":\"True\",\"hovertemplate\":\"module_name=%{text}<br>Contributor=%{x}<br>Total Imports=%{y}<extra></extra>\",\"legendgroup\":\"pkg_buffer.js\",\"marker\":{\"color\":\"rgb(165, 170, 153)\",\"pattern\":{\"shape\":\"\"}},\"name\":\"pkg_buffer.js\",\"offsetgroup\":\"pkg_buffer.js\",\"orientation\":\"v\",\"showlegend\":false,\"text\":[\"pkg_buffer.js\"],\"textposition\":\"inside\",\"x\":[\"kongdd\"],\"xaxis\":\"x\",\"y\":[11],\"yaxis\":\"y\",\"type\":\"bar\"},{\"alignmentgroup\":\"True\",\"hovertemplate\":\"module_name=%{text}<br>Contributor=%{x}<br>Total Imports=%{y}<extra></extra>\",\"legendgroup\":\"modules/Miscellaneous.js\",\"marker\":{\"color\":\"rgb(127, 60, 141)\",\"pattern\":{\"shape\":\"\"}},\"name\":\"modules/Miscellaneous.js\",\"offsetgroup\":\"modules/Miscellaneous.js\",\"orientation\":\"v\",\"showlegend\":false,\"text\":[\"modules/Miscellaneous.js\"],\"textposition\":\"inside\",\"x\":[\"mapbiomas\"],\"xaxis\":\"x\",\"y\":[11],\"yaxis\":\"y\",\"type\":\"bar\"},{\"alignmentgroup\":\"True\",\"hovertemplate\":\"module_name=%{text}<br>Contributor=%{x}<br>Total Imports=%{y}<extra></extra>\",\"legendgroup\":\"modules/SmaAndNdfi.js\",\"marker\":{\"color\":\"rgb(17, 165, 121)\",\"pattern\":{\"shape\":\"\"}},\"name\":\"modules/SmaAndNdfi.js\",\"offsetgroup\":\"modules/SmaAndNdfi.js\",\"orientation\":\"v\",\"showlegend\":false,\"text\":[\"modules/SmaAndNdfi.js\"],\"textposition\":\"inside\",\"x\":[\"mapbiomas\"],\"xaxis\":\"x\",\"y\":[11],\"yaxis\":\"y\",\"type\":\"bar\"},{\"alignmentgroup\":\"True\",\"hovertemplate\":\"module_name=%{text}<br>Contributor=%{x}<br>Total Imports=%{y}<extra></extra>\",\"legendgroup\":\"modules/SpectralIndexes.js\",\"marker\":{\"color\":\"rgb(57, 105, 172)\",\"pattern\":{\"shape\":\"\"}},\"name\":\"modules/SpectralIndexes.js\",\"offsetgroup\":\"modules/SpectralIndexes.js\",\"orientation\":\"v\",\"showlegend\":false,\"text\":[\"modules/SpectralIndexes.js\"],\"textposition\":\"inside\",\"x\":[\"mapbiomas\"],\"xaxis\":\"x\",\"y\":[11],\"yaxis\":\"y\",\"type\":\"bar\"},{\"alignmentgroup\":\"True\",\"hovertemplate\":\"module_name=%{text}<br>Contributor=%{x}<br>Total Imports=%{y}<extra></extra>\",\"legendgroup\":\"pkgs.js\",\"marker\":{\"color\":\"rgb(242, 183, 1)\",\"pattern\":{\"shape\":\"\"}},\"name\":\"pkgs.js\",\"offsetgroup\":\"pkgs.js\",\"orientation\":\"v\",\"showlegend\":false,\"text\":[\"pkgs.js\",\"pkgs.js\"],\"textposition\":\"inside\",\"x\":[\"kongdd\",\"kongdd\"],\"xaxis\":\"x\",\"y\":[10,1],\"yaxis\":\"y\",\"type\":\"bar\"},{\"alignmentgroup\":\"True\",\"hovertemplate\":\"module_name=%{text}<br>Contributor=%{x}<br>Total Imports=%{y}<extra></extra>\",\"legendgroup\":\"composite\",\"marker\":{\"color\":\"rgb(231, 63, 116)\",\"pattern\":{\"shape\":\"\"}},\"name\":\"composite\",\"offsetgroup\":\"composite\",\"orientation\":\"v\",\"showlegend\":false,\"text\":[\"composite\"],\"textposition\":\"inside\",\"x\":[\"fitoprincipe\"],\"xaxis\":\"x\",\"y\":[10],\"yaxis\":\"y\",\"type\":\"bar\"},{\"alignmentgroup\":\"True\",\"hovertemplate\":\"module_name=%{text}<br>Contributor=%{x}<br>Total Imports=%{y}<extra></extra>\",\"legendgroup\":\"scores\",\"marker\":{\"color\":\"rgb(128, 186, 90)\",\"pattern\":{\"shape\":\"\"}},\"name\":\"scores\",\"offsetgroup\":\"scores\",\"orientation\":\"v\",\"showlegend\":false,\"text\":[\"scores\"],\"textposition\":\"inside\",\"x\":[\"fitoprincipe\"],\"xaxis\":\"x\",\"y\":[10],\"yaxis\":\"y\",\"type\":\"bar\"},{\"alignmentgroup\":\"True\",\"hovertemplate\":\"module_name=%{text}<br>Contributor=%{x}<br>Total Imports=%{y}<extra></extra>\",\"legendgroup\":\"modules/Collection.js\",\"marker\":{\"color\":\"rgb(230, 131, 16)\",\"pattern\":{\"shape\":\"\"}},\"name\":\"modules/Collection.js\",\"offsetgroup\":\"modules/Collection.js\",\"orientation\":\"v\",\"showlegend\":false,\"text\":[\"modules/Collection.js\"],\"textposition\":\"inside\",\"x\":[\"mapbiomas\"],\"xaxis\":\"x\",\"y\":[9],\"yaxis\":\"y\",\"type\":\"bar\"},{\"alignmentgroup\":\"True\",\"hovertemplate\":\"module_name=%{text}<br>Contributor=%{x}<br>Total Imports=%{y}<extra></extra>\",\"legendgroup\":\"_tools/image\",\"marker\":{\"color\":\"rgb(0, 134, 149)\",\"pattern\":{\"shape\":\"\"}},\"name\":\"_tools/image\",\"offsetgroup\":\"_tools/image\",\"orientation\":\"v\",\"showlegend\":false,\"text\":[\"_tools/image\"],\"textposition\":\"inside\",\"x\":[\"fitoprincipe\"],\"xaxis\":\"x\",\"y\":[8],\"yaxis\":\"y\",\"type\":\"bar\"},{\"alignmentgroup\":\"True\",\"hovertemplate\":\"module_name=%{text}<br>Contributor=%{x}<br>Total Imports=%{y}<extra></extra>\",\"legendgroup\":\"pkg_export2.js\",\"marker\":{\"color\":\"rgb(207, 28, 144)\",\"pattern\":{\"shape\":\"\"}},\"name\":\"pkg_export2.js\",\"offsetgroup\":\"pkg_export2.js\",\"orientation\":\"v\",\"showlegend\":false,\"text\":[\"pkg_export2.js\"],\"textposition\":\"inside\",\"x\":[\"kongdd\"],\"xaxis\":\"x\",\"y\":[8],\"yaxis\":\"y\",\"type\":\"bar\"},{\"alignmentgroup\":\"True\",\"hovertemplate\":\"module_name=%{text}<br>Contributor=%{x}<br>Total Imports=%{y}<extra></extra>\",\"legendgroup\":\"bathymetry.js\",\"marker\":{\"color\":\"rgb(249, 123, 114)\",\"pattern\":{\"shape\":\"\"}},\"name\":\"bathymetry.js\",\"offsetgroup\":\"bathymetry.js\",\"orientation\":\"v\",\"showlegend\":false,\"text\":[\"bathymetry.js\"],\"textposition\":\"inside\",\"x\":[\"gena\"],\"xaxis\":\"x\",\"y\":[8],\"yaxis\":\"y\",\"type\":\"bar\"},{\"alignmentgroup\":\"True\",\"hovertemplate\":\"module_name=%{text}<br>Contributor=%{x}<br>Total Imports=%{y}<extra></extra>\",\"legendgroup\":\"modules/CloudAndShadowMasking.js\",\"marker\":{\"color\":\"rgb(165, 170, 153)\",\"pattern\":{\"shape\":\"\"}},\"name\":\"modules/CloudAndShadowMasking.js\",\"offsetgroup\":\"modules/CloudAndShadowMasking.js\",\"orientation\":\"v\",\"showlegend\":false,\"text\":[\"modules/CloudAndShadowMasking.js\"],\"textposition\":\"inside\",\"x\":[\"mapbiomas\"],\"xaxis\":\"x\",\"y\":[8],\"yaxis\":\"y\",\"type\":\"bar\"},{\"alignmentgroup\":\"True\",\"hovertemplate\":\"module_name=%{text}<br>Contributor=%{x}<br>Total Imports=%{y}<extra></extra>\",\"legendgroup\":\"src/mosaic_LAI.js\",\"marker\":{\"color\":\"rgb(127, 60, 141)\",\"pattern\":{\"shape\":\"\"}},\"name\":\"src/mosaic_LAI.js\",\"offsetgroup\":\"src/mosaic_LAI.js\",\"orientation\":\"v\",\"showlegend\":false,\"text\":[\"src/mosaic_LAI.js\"],\"textposition\":\"inside\",\"x\":[\"kongdd\"],\"xaxis\":\"x\",\"y\":[8],\"yaxis\":\"y\",\"type\":\"bar\"},{\"alignmentgroup\":\"True\",\"hovertemplate\":\"module_name=%{text}<br>Contributor=%{x}<br>Total Imports=%{y}<extra></extra>\",\"legendgroup\":\"main/released/smooth_tools.js\",\"marker\":{\"color\":\"rgb(17, 165, 121)\",\"pattern\":{\"shape\":\"\"}},\"name\":\"main/released/smooth_tools.js\",\"offsetgroup\":\"main/released/smooth_tools.js\",\"orientation\":\"v\",\"showlegend\":false,\"text\":[\"main/released/smooth_tools.js\"],\"textposition\":\"inside\",\"x\":[\"kongdd\"],\"xaxis\":\"x\",\"y\":[8],\"yaxis\":\"y\",\"type\":\"bar\"},{\"alignmentgroup\":\"True\",\"hovertemplate\":\"module_name=%{text}<br>Contributor=%{x}<br>Total Imports=%{y}<extra></extra>\",\"legendgroup\":\"tiler\",\"marker\":{\"color\":\"rgb(57, 105, 172)\",\"pattern\":{\"shape\":\"\"}},\"name\":\"tiler\",\"offsetgroup\":\"tiler\",\"orientation\":\"v\",\"showlegend\":false,\"text\":[\"tiler\"],\"textposition\":\"inside\",\"x\":[\"gena\"],\"xaxis\":\"x\",\"y\":[7],\"yaxis\":\"y\",\"type\":\"bar\"},{\"alignmentgroup\":\"True\",\"hovertemplate\":\"module_name=%{text}<br>Contributor=%{x}<br>Total Imports=%{y}<extra></extra>\",\"legendgroup\":\"_tools/collection\",\"marker\":{\"color\":\"rgb(242, 183, 1)\",\"pattern\":{\"shape\":\"\"}},\"name\":\"_tools/collection\",\"offsetgroup\":\"_tools/collection\",\"orientation\":\"v\",\"showlegend\":false,\"text\":[\"_tools/collection\"],\"textposition\":\"inside\",\"x\":[\"fitoprincipe\"],\"xaxis\":\"x\",\"y\":[7],\"yaxis\":\"y\",\"type\":\"bar\"},{\"alignmentgroup\":\"True\",\"hovertemplate\":\"module_name=%{text}<br>Contributor=%{x}<br>Total Imports=%{y}<extra></extra>\",\"legendgroup\":\"Math/LinearRegression.js\",\"marker\":{\"color\":\"rgb(231, 63, 116)\",\"pattern\":{\"shape\":\"\"}},\"name\":\"Math/LinearRegression.js\",\"offsetgroup\":\"Math/LinearRegression.js\",\"orientation\":\"v\",\"showlegend\":false,\"text\":[\"Math/LinearRegression.js\"],\"textposition\":\"inside\",\"x\":[\"kongdd\"],\"xaxis\":\"x\",\"y\":[6],\"yaxis\":\"y\",\"type\":\"bar\"},{\"alignmentgroup\":\"True\",\"hovertemplate\":\"module_name=%{text}<br>Contributor=%{x}<br>Total Imports=%{y}<extra></extra>\",\"legendgroup\":\"pkg_movmean.js\",\"marker\":{\"color\":\"rgb(128, 186, 90)\",\"pattern\":{\"shape\":\"\"}},\"name\":\"pkg_movmean.js\",\"offsetgroup\":\"pkg_movmean.js\",\"orientation\":\"v\",\"showlegend\":false,\"text\":[\"pkg_movmean.js\"],\"textposition\":\"inside\",\"x\":[\"kongdd\"],\"xaxis\":\"x\",\"y\":[6],\"yaxis\":\"y\",\"type\":\"bar\"},{\"alignmentgroup\":\"True\",\"hovertemplate\":\"module_name=%{text}<br>Contributor=%{x}<br>Total Imports=%{y}<extra></extra>\",\"legendgroup\":\"modules/Mosaic.js\",\"marker\":{\"color\":\"rgb(230, 131, 16)\",\"pattern\":{\"shape\":\"\"}},\"name\":\"modules/Mosaic.js\",\"offsetgroup\":\"modules/Mosaic.js\",\"orientation\":\"v\",\"showlegend\":false,\"text\":[\"modules/Mosaic.js\"],\"textposition\":\"inside\",\"x\":[\"mapbiomas\"],\"xaxis\":\"x\",\"y\":[6],\"yaxis\":\"y\",\"type\":\"bar\"},{\"alignmentgroup\":\"True\",\"hovertemplate\":\"module_name=%{text}<br>Contributor=%{x}<br>Total Imports=%{y}<extra></extra>\",\"legendgroup\":\"_tools/imagecollection\",\"marker\":{\"color\":\"rgb(0, 134, 149)\",\"pattern\":{\"shape\":\"\"}},\"name\":\"_tools/imagecollection\",\"offsetgroup\":\"_tools/imagecollection\",\"orientation\":\"v\",\"showlegend\":false,\"text\":[\"_tools/imagecollection\"],\"textposition\":\"inside\",\"x\":[\"fitoprincipe\"],\"xaxis\":\"x\",\"y\":[6],\"yaxis\":\"y\",\"type\":\"bar\"},{\"alignmentgroup\":\"True\",\"hovertemplate\":\"module_name=%{text}<br>Contributor=%{x}<br>Total Imports=%{y}<extra></extra>\",\"legendgroup\":\"water\",\"marker\":{\"color\":\"rgb(207, 28, 144)\",\"pattern\":{\"shape\":\"\"}},\"name\":\"water\",\"offsetgroup\":\"water\",\"orientation\":\"v\",\"showlegend\":false,\"text\":[\"water\"],\"textposition\":\"inside\",\"x\":[\"gena\"],\"xaxis\":\"x\",\"y\":[6],\"yaxis\":\"y\",\"type\":\"bar\"},{\"alignmentgroup\":\"True\",\"hovertemplate\":\"module_name=%{text}<br>Contributor=%{x}<br>Total Imports=%{y}<extra></extra>\",\"legendgroup\":\"pkg_trend.js\",\"marker\":{\"color\":\"rgb(249, 123, 114)\",\"pattern\":{\"shape\":\"\"}},\"name\":\"pkg_trend.js\",\"offsetgroup\":\"pkg_trend.js\",\"orientation\":\"v\",\"showlegend\":false,\"text\":[\"pkg_trend.js\"],\"textposition\":\"inside\",\"x\":[\"kongdd\"],\"xaxis\":\"x\",\"y\":[6],\"yaxis\":\"y\",\"type\":\"bar\"},{\"alignmentgroup\":\"True\",\"hovertemplate\":\"module_name=%{text}<br>Contributor=%{x}<br>Total Imports=%{y}<extra></extra>\",\"legendgroup\":\"widgets\",\"marker\":{\"color\":\"rgb(165, 170, 153)\",\"pattern\":{\"shape\":\"\"}},\"name\":\"widgets\",\"offsetgroup\":\"widgets\",\"orientation\":\"v\",\"showlegend\":false,\"text\":[\"widgets\"],\"textposition\":\"inside\",\"x\":[\"fitoprincipe\"],\"xaxis\":\"x\",\"y\":[6],\"yaxis\":\"y\",\"type\":\"bar\"},{\"alignmentgroup\":\"True\",\"hovertemplate\":\"module_name=%{text}<br>Contributor=%{x}<br>Total Imports=%{y}<extra></extra>\",\"legendgroup\":\"modules/DataType.js\",\"marker\":{\"color\":\"rgb(127, 60, 141)\",\"pattern\":{\"shape\":\"\"}},\"name\":\"modules/DataType.js\",\"offsetgroup\":\"modules/DataType.js\",\"orientation\":\"v\",\"showlegend\":false,\"text\":[\"modules/DataType.js\"],\"textposition\":\"inside\",\"x\":[\"mapbiomas\"],\"xaxis\":\"x\",\"y\":[6],\"yaxis\":\"y\",\"type\":\"bar\"},{\"alignmentgroup\":\"True\",\"hovertemplate\":\"module_name=%{text}<br>Contributor=%{x}<br>Total Imports=%{y}<extra></extra>\",\"legendgroup\":\"_tools/string\",\"marker\":{\"color\":\"rgb(17, 165, 121)\",\"pattern\":{\"shape\":\"\"}},\"name\":\"_tools/string\",\"offsetgroup\":\"_tools/string\",\"orientation\":\"v\",\"showlegend\":false,\"text\":[\"_tools/string\"],\"textposition\":\"inside\",\"x\":[\"fitoprincipe\"],\"xaxis\":\"x\",\"y\":[5],\"yaxis\":\"y\",\"type\":\"bar\"},{\"alignmentgroup\":\"True\",\"hovertemplate\":\"module_name=%{text}<br>Contributor=%{x}<br>Total Imports=%{y}<extra></extra>\",\"legendgroup\":\"Legend.js\",\"marker\":{\"color\":\"rgb(57, 105, 172)\",\"pattern\":{\"shape\":\"\"}},\"name\":\"Legend.js\",\"offsetgroup\":\"Legend.js\",\"orientation\":\"v\",\"showlegend\":false,\"text\":[\"Legend.js\"],\"textposition\":\"inside\",\"x\":[\"mapbiomas\"],\"xaxis\":\"x\",\"y\":[5],\"yaxis\":\"y\",\"type\":\"bar\"},{\"alignmentgroup\":\"True\",\"hovertemplate\":\"module_name=%{text}<br>Contributor=%{x}<br>Total Imports=%{y}<extra></extra>\",\"legendgroup\":\"PostClassification.js\",\"marker\":{\"color\":\"rgb(242, 183, 1)\",\"pattern\":{\"shape\":\"\"}},\"name\":\"PostClassification.js\",\"offsetgroup\":\"PostClassification.js\",\"orientation\":\"v\",\"showlegend\":false,\"text\":[\"PostClassification.js\"],\"textposition\":\"inside\",\"x\":[\"mapbiomas\"],\"xaxis\":\"x\",\"y\":[5],\"yaxis\":\"y\",\"type\":\"bar\"},{\"alignmentgroup\":\"True\",\"hovertemplate\":\"module_name=%{text}<br>Contributor=%{x}<br>Total Imports=%{y}<extra></extra>\",\"legendgroup\":\"pkg_date.js\",\"marker\":{\"color\":\"rgb(231, 63, 116)\",\"pattern\":{\"shape\":\"\"}},\"name\":\"pkg_date.js\",\"offsetgroup\":\"pkg_date.js\",\"orientation\":\"v\",\"showlegend\":false,\"text\":[\"pkg_date.js\"],\"textposition\":\"inside\",\"x\":[\"kongdd\"],\"xaxis\":\"x\",\"y\":[4],\"yaxis\":\"y\",\"type\":\"bar\"},{\"alignmentgroup\":\"True\",\"hovertemplate\":\"module_name=%{text}<br>Contributor=%{x}<br>Total Imports=%{y}<extra></extra>\",\"legendgroup\":\"EMODnet-02-water-occurrence\",\"marker\":{\"color\":\"rgb(128, 186, 90)\",\"pattern\":{\"shape\":\"\"}},\"name\":\"EMODnet-02-water-occurrence\",\"offsetgroup\":\"EMODnet-02-water-occurrence\",\"orientation\":\"v\",\"showlegend\":false,\"text\":[\"EMODnet-02-water-occurrence\"],\"textposition\":\"inside\",\"x\":[\"gena\"],\"xaxis\":\"x\",\"y\":[4],\"yaxis\":\"y\",\"type\":\"bar\"},{\"alignmentgroup\":\"True\",\"hovertemplate\":\"module_name=%{text}<br>Contributor=%{x}<br>Total Imports=%{y}<extra></extra>\",\"legendgroup\":\"pkg_phenology.js\",\"marker\":{\"color\":\"rgb(230, 131, 16)\",\"pattern\":{\"shape\":\"\"}},\"name\":\"pkg_phenology.js\",\"offsetgroup\":\"pkg_phenology.js\",\"orientation\":\"v\",\"showlegend\":false,\"text\":[\"pkg_phenology.js\"],\"textposition\":\"inside\",\"x\":[\"kongdd\"],\"xaxis\":\"x\",\"y\":[4],\"yaxis\":\"y\",\"type\":\"bar\"},{\"alignmentgroup\":\"True\",\"hovertemplate\":\"module_name=%{text}<br>Contributor=%{x}<br>Total Imports=%{y}<extra></extra>\",\"legendgroup\":\"helpers\",\"marker\":{\"color\":\"rgb(0, 134, 149)\",\"pattern\":{\"shape\":\"\"}},\"name\":\"helpers\",\"offsetgroup\":\"helpers\",\"orientation\":\"v\",\"showlegend\":false,\"text\":[\"helpers\"],\"textposition\":\"inside\",\"x\":[\"fitoprincipe\"],\"xaxis\":\"x\",\"y\":[3],\"yaxis\":\"y\",\"type\":\"bar\"},{\"alignmentgroup\":\"True\",\"hovertemplate\":\"module_name=%{text}<br>Contributor=%{x}<br>Total Imports=%{y}<extra></extra>\",\"legendgroup\":\"pkg_modis.js\",\"marker\":{\"color\":\"rgb(207, 28, 144)\",\"pattern\":{\"shape\":\"\"}},\"name\":\"pkg_modis.js\",\"offsetgroup\":\"pkg_modis.js\",\"orientation\":\"v\",\"showlegend\":false,\"text\":[\"pkg_modis.js\"],\"textposition\":\"inside\",\"x\":[\"kongdd\"],\"xaxis\":\"x\",\"y\":[3],\"yaxis\":\"y\",\"type\":\"bar\"},{\"alignmentgroup\":\"True\",\"hovertemplate\":\"module_name=%{text}<br>Contributor=%{x}<br>Total Imports=%{y}<extra></extra>\",\"legendgroup\":\"pkg_index.js\",\"marker\":{\"color\":\"rgb(249, 123, 114)\",\"pattern\":{\"shape\":\"\"}},\"name\":\"pkg_index.js\",\"offsetgroup\":\"pkg_index.js\",\"orientation\":\"v\",\"showlegend\":false,\"text\":[\"pkg_index.js\"],\"textposition\":\"inside\",\"x\":[\"kongdd\"],\"xaxis\":\"x\",\"y\":[3],\"yaxis\":\"y\",\"type\":\"bar\"},{\"alignmentgroup\":\"True\",\"hovertemplate\":\"module_name=%{text}<br>Contributor=%{x}<br>Total Imports=%{y}<extra></extra>\",\"legendgroup\":\"_tools/list\",\"marker\":{\"color\":\"rgb(165, 170, 153)\",\"pattern\":{\"shape\":\"\"}},\"name\":\"_tools/list\",\"offsetgroup\":\"_tools/list\",\"orientation\":\"v\",\"showlegend\":false,\"text\":[\"_tools/list\"],\"textposition\":\"inside\",\"x\":[\"fitoprincipe\"],\"xaxis\":\"x\",\"y\":[3],\"yaxis\":\"y\",\"type\":\"bar\"},{\"alignmentgroup\":\"True\",\"hovertemplate\":\"module_name=%{text}<br>Contributor=%{x}<br>Total Imports=%{y}<extra></extra>\",\"legendgroup\":\"indexes\",\"marker\":{\"color\":\"rgb(127, 60, 141)\",\"pattern\":{\"shape\":\"\"}},\"name\":\"indexes\",\"offsetgroup\":\"indexes\",\"orientation\":\"v\",\"showlegend\":false,\"text\":[\"indexes\"],\"textposition\":\"inside\",\"x\":[\"fitoprincipe\"],\"xaxis\":\"x\",\"y\":[2],\"yaxis\":\"y\",\"type\":\"bar\"},{\"alignmentgroup\":\"True\",\"hovertemplate\":\"module_name=%{text}<br>Contributor=%{x}<br>Total Imports=%{y}<extra></extra>\",\"legendgroup\":\"pkg_pheno.js\",\"marker\":{\"color\":\"rgb(17, 165, 121)\",\"pattern\":{\"shape\":\"\"}},\"name\":\"pkg_pheno.js\",\"offsetgroup\":\"pkg_pheno.js\",\"orientation\":\"v\",\"showlegend\":false,\"text\":[\"pkg_pheno.js\"],\"textposition\":\"inside\",\"x\":[\"kongdd\"],\"xaxis\":\"x\",\"y\":[2],\"yaxis\":\"y\",\"type\":\"bar\"},{\"alignmentgroup\":\"True\",\"hovertemplate\":\"module_name=%{text}<br>Contributor=%{x}<br>Total Imports=%{y}<extra></extra>\",\"legendgroup\":\"_tools/dictionary\",\"marker\":{\"color\":\"rgb(57, 105, 172)\",\"pattern\":{\"shape\":\"\"}},\"name\":\"_tools/dictionary\",\"offsetgroup\":\"_tools/dictionary\",\"orientation\":\"v\",\"showlegend\":false,\"text\":[\"_tools/dictionary\"],\"textposition\":\"inside\",\"x\":[\"fitoprincipe\"],\"xaxis\":\"x\",\"y\":[2],\"yaxis\":\"y\",\"type\":\"bar\"},{\"alignmentgroup\":\"True\",\"hovertemplate\":\"module_name=%{text}<br>Contributor=%{x}<br>Total Imports=%{y}<extra></extra>\",\"legendgroup\":\"_tools/number\",\"marker\":{\"color\":\"rgb(242, 183, 1)\",\"pattern\":{\"shape\":\"\"}},\"name\":\"_tools/number\",\"offsetgroup\":\"_tools/number\",\"orientation\":\"v\",\"showlegend\":false,\"text\":[\"_tools/number\"],\"textposition\":\"inside\",\"x\":[\"fitoprincipe\"],\"xaxis\":\"x\",\"y\":[2],\"yaxis\":\"y\",\"type\":\"bar\"},{\"alignmentgroup\":\"True\",\"hovertemplate\":\"module_name=%{text}<br>Contributor=%{x}<br>Total Imports=%{y}<extra></extra>\",\"legendgroup\":\"_tools/date\",\"marker\":{\"color\":\"rgb(231, 63, 116)\",\"pattern\":{\"shape\":\"\"}},\"name\":\"_tools/date\",\"offsetgroup\":\"_tools/date\",\"orientation\":\"v\",\"showlegend\":false,\"text\":[\"_tools/date\"],\"textposition\":\"inside\",\"x\":[\"fitoprincipe\"],\"xaxis\":\"x\",\"y\":[2],\"yaxis\":\"y\",\"type\":\"bar\"},{\"alignmentgroup\":\"True\",\"hovertemplate\":\"module_name=%{text}<br>Contributor=%{x}<br>Total Imports=%{y}<extra></extra>\",\"legendgroup\":\"src/Joins.js\",\"marker\":{\"color\":\"rgb(128, 186, 90)\",\"pattern\":{\"shape\":\"\"}},\"name\":\"src/Joins.js\",\"offsetgroup\":\"src/Joins.js\",\"orientation\":\"v\",\"showlegend\":false,\"text\":[\"src/Joins.js\"],\"textposition\":\"inside\",\"x\":[\"kongdd\"],\"xaxis\":\"x\",\"y\":[2],\"yaxis\":\"y\",\"type\":\"bar\"},{\"alignmentgroup\":\"True\",\"hovertemplate\":\"module_name=%{text}<br>Contributor=%{x}<br>Total Imports=%{y}<extra></extra>\",\"legendgroup\":\"_tools/map\",\"marker\":{\"color\":\"rgb(230, 131, 16)\",\"pattern\":{\"shape\":\"\"}},\"name\":\"_tools/map\",\"offsetgroup\":\"_tools/map\",\"orientation\":\"v\",\"showlegend\":false,\"text\":[\"_tools/map\"],\"textposition\":\"inside\",\"x\":[\"fitoprincipe\"],\"xaxis\":\"x\",\"y\":[2],\"yaxis\":\"y\",\"type\":\"bar\"},{\"alignmentgroup\":\"True\",\"hovertemplate\":\"module_name=%{text}<br>Contributor=%{x}<br>Total Imports=%{y}<extra></extra>\",\"legendgroup\":\"_tools/featurecollection\",\"marker\":{\"color\":\"rgb(0, 134, 149)\",\"pattern\":{\"shape\":\"\"}},\"name\":\"_tools/featurecollection\",\"offsetgroup\":\"_tools/featurecollection\",\"orientation\":\"v\",\"showlegend\":false,\"text\":[\"_tools/featurecollection\"],\"textposition\":\"inside\",\"x\":[\"fitoprincipe\"],\"xaxis\":\"x\",\"y\":[2],\"yaxis\":\"y\",\"type\":\"bar\"},{\"alignmentgroup\":\"True\",\"hovertemplate\":\"module_name=%{text}<br>Contributor=%{x}<br>Total Imports=%{y}<extra></extra>\",\"legendgroup\":\"_tools/feature\",\"marker\":{\"color\":\"rgb(207, 28, 144)\",\"pattern\":{\"shape\":\"\"}},\"name\":\"_tools/feature\",\"offsetgroup\":\"_tools/feature\",\"orientation\":\"v\",\"showlegend\":false,\"text\":[\"_tools/feature\"],\"textposition\":\"inside\",\"x\":[\"fitoprincipe\"],\"xaxis\":\"x\",\"y\":[2],\"yaxis\":\"y\",\"type\":\"bar\"},{\"alignmentgroup\":\"True\",\"hovertemplate\":\"module_name=%{text}<br>Contributor=%{x}<br>Total Imports=%{y}<extra></extra>\",\"legendgroup\":\"_tools/geometry\",\"marker\":{\"color\":\"rgb(249, 123, 114)\",\"pattern\":{\"shape\":\"\"}},\"name\":\"_tools/geometry\",\"offsetgroup\":\"_tools/geometry\",\"orientation\":\"v\",\"showlegend\":false,\"text\":[\"_tools/geometry\"],\"textposition\":\"inside\",\"x\":[\"fitoprincipe\"],\"xaxis\":\"x\",\"y\":[2],\"yaxis\":\"y\",\"type\":\"bar\"},{\"alignmentgroup\":\"True\",\"hovertemplate\":\"module_name=%{text}<br>Contributor=%{x}<br>Total Imports=%{y}<extra></extra>\",\"legendgroup\":\"pkg_agg.js\",\"marker\":{\"color\":\"rgb(165, 170, 153)\",\"pattern\":{\"shape\":\"\"}},\"name\":\"pkg_agg.js\",\"offsetgroup\":\"pkg_agg.js\",\"orientation\":\"v\",\"showlegend\":false,\"text\":[\"pkg_agg.js\"],\"textposition\":\"inside\",\"x\":[\"kongdd\"],\"xaxis\":\"x\",\"y\":[2],\"yaxis\":\"y\",\"type\":\"bar\"},{\"alignmentgroup\":\"True\",\"hovertemplate\":\"module_name=%{text}<br>Contributor=%{x}<br>Total Imports=%{y}<extra></extra>\",\"legendgroup\":\"promise\",\"marker\":{\"color\":\"rgb(127, 60, 141)\",\"pattern\":{\"shape\":\"\"}},\"name\":\"promise\",\"offsetgroup\":\"promise\",\"orientation\":\"v\",\"showlegend\":false,\"text\":[\"promise\"],\"textposition\":\"inside\",\"x\":[\"gena\"],\"xaxis\":\"x\",\"y\":[2],\"yaxis\":\"y\",\"type\":\"bar\"},{\"alignmentgroup\":\"True\",\"hovertemplate\":\"module_name=%{text}<br>Contributor=%{x}<br>Total Imports=%{y}<extra></extra>\",\"legendgroup\":\"../gena/colorbrewer\",\"marker\":{\"color\":\"rgb(17, 165, 121)\",\"pattern\":{\"shape\":\"\"}},\"name\":\"../gena/colorbrewer\",\"offsetgroup\":\"../gena/colorbrewer\",\"orientation\":\"v\",\"showlegend\":false,\"text\":[\"../gena/colorbrewer\"],\"textposition\":\"inside\",\"x\":[\"gena\"],\"xaxis\":\"x\",\"y\":[1],\"yaxis\":\"y\",\"type\":\"bar\"},{\"alignmentgroup\":\"True\",\"hovertemplate\":\"module_name=%{text}<br>Contributor=%{x}<br>Total Imports=%{y}<extra></extra>\",\"legendgroup\":\"src/pkg_vis.js\",\"marker\":{\"color\":\"rgb(57, 105, 172)\",\"pattern\":{\"shape\":\"\"}},\"name\":\"src/pkg_vis.js\",\"offsetgroup\":\"src/pkg_vis.js\",\"orientation\":\"v\",\"showlegend\":false,\"text\":[\"src/pkg_vis.js\"],\"textposition\":\"inside\",\"x\":[\"kongdd\"],\"xaxis\":\"x\",\"y\":[1],\"yaxis\":\"y\",\"type\":\"bar\"},{\"alignmentgroup\":\"True\",\"hovertemplate\":\"module_name=%{text}<br>Contributor=%{x}<br>Total Imports=%{y}<extra></extra>\",\"legendgroup\":\"Math/pkg_movmean.js\",\"marker\":{\"color\":\"rgb(242, 183, 1)\",\"pattern\":{\"shape\":\"\"}},\"name\":\"Math/pkg_movmean.js\",\"offsetgroup\":\"Math/pkg_movmean.js\",\"orientation\":\"v\",\"showlegend\":false,\"text\":[\"Math/pkg_movmean.js\"],\"textposition\":\"inside\",\"x\":[\"kongdd\"],\"xaxis\":\"x\",\"y\":[1],\"yaxis\":\"y\",\"type\":\"bar\"},{\"alignmentgroup\":\"True\",\"hovertemplate\":\"module_name=%{text}<br>Contributor=%{x}<br>Total Imports=%{y}<extra></extra>\",\"legendgroup\":\"applications/bathymetry.js\",\"marker\":{\"color\":\"rgb(231, 63, 116)\",\"pattern\":{\"shape\":\"\"}},\"name\":\"applications/bathymetry.js\",\"offsetgroup\":\"applications/bathymetry.js\",\"orientation\":\"v\",\"showlegend\":false,\"text\":[\"applications/bathymetry.js\"],\"textposition\":\"inside\",\"x\":[\"gena\"],\"xaxis\":\"x\",\"y\":[1],\"yaxis\":\"y\",\"type\":\"bar\"},{\"alignmentgroup\":\"True\",\"hovertemplate\":\"module_name=%{text}<br>Contributor=%{x}<br>Total Imports=%{y}<extra></extra>\",\"legendgroup\":\"src/pkg_pheno.js\",\"marker\":{\"color\":\"rgb(128, 186, 90)\",\"pattern\":{\"shape\":\"\"}},\"name\":\"src/pkg_pheno.js\",\"offsetgroup\":\"src/pkg_pheno.js\",\"orientation\":\"v\",\"showlegend\":false,\"text\":[\"src/pkg_pheno.js\"],\"textposition\":\"inside\",\"x\":[\"kongdd\"],\"xaxis\":\"x\",\"y\":[1],\"yaxis\":\"y\",\"type\":\"bar\"},{\"alignmentgroup\":\"True\",\"hovertemplate\":\"module_name=%{text}<br>Contributor=%{x}<br>Total Imports=%{y}<extra></extra>\",\"legendgroup\":\"water-occurrence\",\"marker\":{\"color\":\"rgb(230, 131, 16)\",\"pattern\":{\"shape\":\"\"}},\"name\":\"water-occurrence\",\"offsetgroup\":\"water-occurrence\",\"orientation\":\"v\",\"showlegend\":false,\"text\":[\"water-occurrence\"],\"textposition\":\"inside\",\"x\":[\"gena\"],\"xaxis\":\"x\",\"y\":[1],\"yaxis\":\"y\",\"type\":\"bar\"},{\"alignmentgroup\":\"True\",\"hovertemplate\":\"module_name=%{text}<br>Contributor=%{x}<br>Total Imports=%{y}<extra></extra>\",\"legendgroup\":\"labels\",\"marker\":{\"color\":\"rgb(0, 134, 149)\",\"pattern\":{\"shape\":\"\"}},\"name\":\"labels\",\"offsetgroup\":\"labels\",\"orientation\":\"v\",\"showlegend\":false,\"text\":[\"labels\"],\"textposition\":\"inside\",\"x\":[\"fitoprincipe\"],\"xaxis\":\"x\",\"y\":[1],\"yaxis\":\"y\",\"type\":\"bar\"},{\"alignmentgroup\":\"True\",\"hovertemplate\":\"module_name=%{text}<br>Contributor=%{x}<br>Total Imports=%{y}<extra></extra>\",\"legendgroup\":\"pkg_VI.js\",\"marker\":{\"color\":\"rgb(207, 28, 144)\",\"pattern\":{\"shape\":\"\"}},\"name\":\"pkg_VI.js\",\"offsetgroup\":\"pkg_VI.js\",\"orientation\":\"v\",\"showlegend\":false,\"text\":[\"pkg_VI.js\",\"pkg_VI.js\"],\"textposition\":\"inside\",\"x\":[\"kongdd\",\"kongdd\"],\"xaxis\":\"x\",\"y\":[1,1],\"yaxis\":\"y\",\"type\":\"bar\"},{\"alignmentgroup\":\"True\",\"hovertemplate\":\"module_name=%{text}<br>Contributor=%{x}<br>Total Imports=%{y}<extra></extra>\",\"legendgroup\":\"main_dev\",\"marker\":{\"color\":\"rgb(249, 123, 114)\",\"pattern\":{\"shape\":\"\"}},\"name\":\"main_dev\",\"offsetgroup\":\"main_dev\",\"orientation\":\"v\",\"showlegend\":false,\"text\":[\"main_dev\"],\"textposition\":\"inside\",\"x\":[\"fitoprincipe\"],\"xaxis\":\"x\",\"y\":[1],\"yaxis\":\"y\",\"type\":\"bar\"},{\"alignmentgroup\":\"True\",\"hovertemplate\":\"module_name=%{text}<br>Contributor=%{x}<br>Total Imports=%{y}<extra></extra>\",\"legendgroup\":\"src/Export_Table.js\",\"marker\":{\"color\":\"rgb(165, 170, 153)\",\"pattern\":{\"shape\":\"\"}},\"name\":\"src/Export_Table.js\",\"offsetgroup\":\"src/Export_Table.js\",\"orientation\":\"v\",\"showlegend\":false,\"text\":[\"src/Export_Table.js\"],\"textposition\":\"inside\",\"x\":[\"kongdd\"],\"xaxis\":\"x\",\"y\":[1],\"yaxis\":\"y\",\"type\":\"bar\"},{\"alignmentgroup\":\"True\",\"hovertemplate\":\"module_name=%{text}<br>Contributor=%{x}<br>Total Imports=%{y}<extra></extra>\",\"legendgroup\":\"Math/savitzky_golay.js\",\"marker\":{\"color\":\"rgb(127, 60, 141)\",\"pattern\":{\"shape\":\"\"}},\"name\":\"Math/savitzky_golay.js\",\"offsetgroup\":\"Math/savitzky_golay.js\",\"orientation\":\"v\",\"showlegend\":false,\"text\":[\"Math/savitzky_golay.js\"],\"textposition\":\"inside\",\"x\":[\"kongdd\"],\"xaxis\":\"x\",\"y\":[1],\"yaxis\":\"y\",\"type\":\"bar\"},{\"alignmentgroup\":\"True\",\"hovertemplate\":\"module_name=%{text}<br>Contributor=%{x}<br>Total Imports=%{y}<extra></extra>\",\"legendgroup\":\"geometry-test-geojson\",\"marker\":{\"color\":\"rgb(17, 165, 121)\",\"pattern\":{\"shape\":\"\"}},\"name\":\"geometry-test-geojson\",\"offsetgroup\":\"geometry-test-geojson\",\"orientation\":\"v\",\"showlegend\":false,\"text\":[\"geometry-test-geojson\"],\"textposition\":\"inside\",\"x\":[\"gena\"],\"xaxis\":\"x\",\"y\":[1],\"yaxis\":\"y\",\"type\":\"bar\"},{\"alignmentgroup\":\"True\",\"hovertemplate\":\"module_name=%{text}<br>Contributor=%{x}<br>Total Imports=%{y}<extra></extra>\",\"legendgroup\":\"slic\",\"marker\":{\"color\":\"rgb(57, 105, 172)\",\"pattern\":{\"shape\":\"\"}},\"name\":\"slic\",\"offsetgroup\":\"slic\",\"orientation\":\"v\",\"showlegend\":false,\"text\":[\"slic\"],\"textposition\":\"inside\",\"x\":[\"gena\"],\"xaxis\":\"x\",\"y\":[1],\"yaxis\":\"y\",\"type\":\"bar\"},{\"alignmentgroup\":\"True\",\"hovertemplate\":\"module_name=%{text}<br>Contributor=%{x}<br>Total Imports=%{y}<extra></extra>\",\"legendgroup\":\"Math/Whittaker.js\",\"marker\":{\"color\":\"rgb(242, 183, 1)\",\"pattern\":{\"shape\":\"\"}},\"name\":\"Math/Whittaker.js\",\"offsetgroup\":\"Math/Whittaker.js\",\"orientation\":\"v\",\"showlegend\":false,\"text\":[\"Math/Whittaker.js\"],\"textposition\":\"inside\",\"x\":[\"kongdd\"],\"xaxis\":\"x\",\"y\":[1],\"yaxis\":\"y\",\"type\":\"bar\"},{\"alignmentgroup\":\"True\",\"hovertemplate\":\"module_name=%{text}<br>Contributor=%{x}<br>Total Imports=%{y}<extra></extra>\",\"legendgroup\":\"funciones\",\"marker\":{\"color\":\"rgb(231, 63, 116)\",\"pattern\":{\"shape\":\"\"}},\"name\":\"funciones\",\"offsetgroup\":\"funciones\",\"orientation\":\"v\",\"showlegend\":false,\"text\":[\"funciones\"],\"textposition\":\"inside\",\"x\":[\"fitoprincipe\"],\"xaxis\":\"x\",\"y\":[1],\"yaxis\":\"y\",\"type\":\"bar\"},{\"alignmentgroup\":\"True\",\"hovertemplate\":\"module_name=%{text}<br>Contributor=%{x}<br>Total Imports=%{y}<extra></extra>\",\"legendgroup\":\"satellites\",\"marker\":{\"color\":\"rgb(128, 186, 90)\",\"pattern\":{\"shape\":\"\"}},\"name\":\"satellites\",\"offsetgroup\":\"satellites\",\"orientation\":\"v\",\"showlegend\":false,\"text\":[\"satellites\"],\"textposition\":\"inside\",\"x\":[\"fitoprincipe\"],\"xaxis\":\"x\",\"y\":[1],\"yaxis\":\"y\",\"type\":\"bar\"},{\"alignmentgroup\":\"True\",\"hovertemplate\":\"module_name=%{text}<br>Contributor=%{x}<br>Total Imports=%{y}<extra></extra>\",\"legendgroup\":\"main\",\"marker\":{\"color\":\"rgb(230, 131, 16)\",\"pattern\":{\"shape\":\"\"}},\"name\":\"main\",\"offsetgroup\":\"main\",\"orientation\":\"v\",\"showlegend\":false,\"text\":[\"main\"],\"textposition\":\"inside\",\"x\":[\"fitoprincipe\"],\"xaxis\":\"x\",\"y\":[1],\"yaxis\":\"y\",\"type\":\"bar\"},{\"alignmentgroup\":\"True\",\"hovertemplate\":\"module_name=%{text}<br>Contributor=%{x}<br>Total Imports=%{y}<extra></extra>\",\"legendgroup\":\"batc3h\",\"marker\":{\"color\":\"rgb(0, 134, 149)\",\"pattern\":{\"shape\":\"\"}},\"name\":\"batc3h\",\"offsetgroup\":\"batc3h\",\"orientation\":\"v\",\"showlegend\":false,\"text\":[\"batc3h\"],\"textposition\":\"inside\",\"x\":[\"fitoprincipe\"],\"xaxis\":\"x\",\"y\":[1],\"yaxis\":\"y\",\"type\":\"bar\"},{\"alignmentgroup\":\"True\",\"hovertemplate\":\"module_name=%{text}<br>Contributor=%{x}<br>Total Imports=%{y}<extra></extra>\",\"legendgroup\":\"tulisan\",\"marker\":{\"color\":\"rgb(207, 28, 144)\",\"pattern\":{\"shape\":\"\"}},\"name\":\"tulisan\",\"offsetgroup\":\"tulisan\",\"orientation\":\"v\",\"showlegend\":false,\"text\":[\"tulisan\"],\"textposition\":\"inside\",\"x\":[\"gena\"],\"xaxis\":\"x\",\"y\":[1],\"yaxis\":\"y\",\"type\":\"bar\"},{\"alignmentgroup\":\"True\",\"hovertemplate\":\"module_name=%{text}<br>Contributor=%{x}<br>Total Imports=%{y}<extra></extra>\",\"legendgroup\":\"./gena/colorbrewer\",\"marker\":{\"color\":\"rgb(249, 123, 114)\",\"pattern\":{\"shape\":\"\"}},\"name\":\"./gena/colorbrewer\",\"offsetgroup\":\"./gena/colorbrewer\",\"orientation\":\"v\",\"showlegend\":false,\"text\":[\"./gena/colorbrewer\"],\"textposition\":\"inside\",\"x\":[\"gena\"],\"xaxis\":\"x\",\"y\":[1],\"yaxis\":\"y\",\"type\":\"bar\"}],                        {\"template\":{\"data\":{\"barpolar\":[{\"marker\":{\"line\":{\"color\":\"rgb(237,237,237)\",\"width\":0.5},\"pattern\":{\"fillmode\":\"overlay\",\"size\":10,\"solidity\":0.2}},\"type\":\"barpolar\"}],\"bar\":[{\"error_x\":{\"color\":\"rgb(51,51,51)\"},\"error_y\":{\"color\":\"rgb(51,51,51)\"},\"marker\":{\"line\":{\"color\":\"rgb(237,237,237)\",\"width\":0.5},\"pattern\":{\"fillmode\":\"overlay\",\"size\":10,\"solidity\":0.2}},\"type\":\"bar\"}],\"carpet\":[{\"aaxis\":{\"endlinecolor\":\"rgb(51,51,51)\",\"gridcolor\":\"white\",\"linecolor\":\"white\",\"minorgridcolor\":\"white\",\"startlinecolor\":\"rgb(51,51,51)\"},\"baxis\":{\"endlinecolor\":\"rgb(51,51,51)\",\"gridcolor\":\"white\",\"linecolor\":\"white\",\"minorgridcolor\":\"white\",\"startlinecolor\":\"rgb(51,51,51)\"},\"type\":\"carpet\"}],\"choropleth\":[{\"colorbar\":{\"outlinewidth\":0,\"tickcolor\":\"rgb(237,237,237)\",\"ticklen\":6,\"ticks\":\"inside\"},\"type\":\"choropleth\"}],\"contourcarpet\":[{\"colorbar\":{\"outlinewidth\":0,\"tickcolor\":\"rgb(237,237,237)\",\"ticklen\":6,\"ticks\":\"inside\"},\"type\":\"contourcarpet\"}],\"contour\":[{\"colorbar\":{\"outlinewidth\":0,\"tickcolor\":\"rgb(237,237,237)\",\"ticklen\":6,\"ticks\":\"inside\"},\"colorscale\":[[0,\"rgb(20,44,66)\"],[1,\"rgb(90,179,244)\"]],\"type\":\"contour\"}],\"heatmapgl\":[{\"colorbar\":{\"outlinewidth\":0,\"tickcolor\":\"rgb(237,237,237)\",\"ticklen\":6,\"ticks\":\"inside\"},\"colorscale\":[[0,\"rgb(20,44,66)\"],[1,\"rgb(90,179,244)\"]],\"type\":\"heatmapgl\"}],\"heatmap\":[{\"colorbar\":{\"outlinewidth\":0,\"tickcolor\":\"rgb(237,237,237)\",\"ticklen\":6,\"ticks\":\"inside\"},\"colorscale\":[[0,\"rgb(20,44,66)\"],[1,\"rgb(90,179,244)\"]],\"type\":\"heatmap\"}],\"histogram2dcontour\":[{\"colorbar\":{\"outlinewidth\":0,\"tickcolor\":\"rgb(237,237,237)\",\"ticklen\":6,\"ticks\":\"inside\"},\"colorscale\":[[0,\"rgb(20,44,66)\"],[1,\"rgb(90,179,244)\"]],\"type\":\"histogram2dcontour\"}],\"histogram2d\":[{\"colorbar\":{\"outlinewidth\":0,\"tickcolor\":\"rgb(237,237,237)\",\"ticklen\":6,\"ticks\":\"inside\"},\"colorscale\":[[0,\"rgb(20,44,66)\"],[1,\"rgb(90,179,244)\"]],\"type\":\"histogram2d\"}],\"histogram\":[{\"marker\":{\"pattern\":{\"fillmode\":\"overlay\",\"size\":10,\"solidity\":0.2}},\"type\":\"histogram\"}],\"mesh3d\":[{\"colorbar\":{\"outlinewidth\":0,\"tickcolor\":\"rgb(237,237,237)\",\"ticklen\":6,\"ticks\":\"inside\"},\"type\":\"mesh3d\"}],\"parcoords\":[{\"line\":{\"colorbar\":{\"outlinewidth\":0,\"tickcolor\":\"rgb(237,237,237)\",\"ticklen\":6,\"ticks\":\"inside\"}},\"type\":\"parcoords\"}],\"pie\":[{\"automargin\":true,\"type\":\"pie\"}],\"scatter3d\":[{\"line\":{\"colorbar\":{\"outlinewidth\":0,\"tickcolor\":\"rgb(237,237,237)\",\"ticklen\":6,\"ticks\":\"inside\"}},\"marker\":{\"colorbar\":{\"outlinewidth\":0,\"tickcolor\":\"rgb(237,237,237)\",\"ticklen\":6,\"ticks\":\"inside\"}},\"type\":\"scatter3d\"}],\"scattercarpet\":[{\"marker\":{\"colorbar\":{\"outlinewidth\":0,\"tickcolor\":\"rgb(237,237,237)\",\"ticklen\":6,\"ticks\":\"inside\"}},\"type\":\"scattercarpet\"}],\"scattergeo\":[{\"marker\":{\"colorbar\":{\"outlinewidth\":0,\"tickcolor\":\"rgb(237,237,237)\",\"ticklen\":6,\"ticks\":\"inside\"}},\"type\":\"scattergeo\"}],\"scattergl\":[{\"marker\":{\"colorbar\":{\"outlinewidth\":0,\"tickcolor\":\"rgb(237,237,237)\",\"ticklen\":6,\"ticks\":\"inside\"}},\"type\":\"scattergl\"}],\"scattermapbox\":[{\"marker\":{\"colorbar\":{\"outlinewidth\":0,\"tickcolor\":\"rgb(237,237,237)\",\"ticklen\":6,\"ticks\":\"inside\"}},\"type\":\"scattermapbox\"}],\"scatterpolargl\":[{\"marker\":{\"colorbar\":{\"outlinewidth\":0,\"tickcolor\":\"rgb(237,237,237)\",\"ticklen\":6,\"ticks\":\"inside\"}},\"type\":\"scatterpolargl\"}],\"scatterpolar\":[{\"marker\":{\"colorbar\":{\"outlinewidth\":0,\"tickcolor\":\"rgb(237,237,237)\",\"ticklen\":6,\"ticks\":\"inside\"}},\"type\":\"scatterpolar\"}],\"scatter\":[{\"marker\":{\"colorbar\":{\"outlinewidth\":0,\"tickcolor\":\"rgb(237,237,237)\",\"ticklen\":6,\"ticks\":\"inside\"}},\"type\":\"scatter\"}],\"scatterternary\":[{\"marker\":{\"colorbar\":{\"outlinewidth\":0,\"tickcolor\":\"rgb(237,237,237)\",\"ticklen\":6,\"ticks\":\"inside\"}},\"type\":\"scatterternary\"}],\"surface\":[{\"colorbar\":{\"outlinewidth\":0,\"tickcolor\":\"rgb(237,237,237)\",\"ticklen\":6,\"ticks\":\"inside\"},\"colorscale\":[[0,\"rgb(20,44,66)\"],[1,\"rgb(90,179,244)\"]],\"type\":\"surface\"}],\"table\":[{\"cells\":{\"fill\":{\"color\":\"rgb(237,237,237)\"},\"line\":{\"color\":\"white\"}},\"header\":{\"fill\":{\"color\":\"rgb(217,217,217)\"},\"line\":{\"color\":\"white\"}},\"type\":\"table\"}]},\"layout\":{\"annotationdefaults\":{\"arrowhead\":0,\"arrowwidth\":1},\"autotypenumbers\":\"strict\",\"coloraxis\":{\"colorbar\":{\"outlinewidth\":0,\"tickcolor\":\"rgb(237,237,237)\",\"ticklen\":6,\"ticks\":\"inside\"}},\"colorscale\":{\"sequential\":[[0,\"rgb(20,44,66)\"],[1,\"rgb(90,179,244)\"]],\"sequentialminus\":[[0,\"rgb(20,44,66)\"],[1,\"rgb(90,179,244)\"]]},\"colorway\":[\"#F8766D\",\"#A3A500\",\"#00BF7D\",\"#00B0F6\",\"#E76BF3\"],\"font\":{\"color\":\"rgb(51,51,51)\"},\"geo\":{\"bgcolor\":\"white\",\"lakecolor\":\"white\",\"landcolor\":\"rgb(237,237,237)\",\"showlakes\":true,\"showland\":true,\"subunitcolor\":\"white\"},\"hoverlabel\":{\"align\":\"left\"},\"hovermode\":\"closest\",\"paper_bgcolor\":\"white\",\"plot_bgcolor\":\"rgb(237,237,237)\",\"polar\":{\"angularaxis\":{\"gridcolor\":\"white\",\"linecolor\":\"white\",\"showgrid\":true,\"tickcolor\":\"rgb(51,51,51)\",\"ticks\":\"outside\"},\"bgcolor\":\"rgb(237,237,237)\",\"radialaxis\":{\"gridcolor\":\"white\",\"linecolor\":\"white\",\"showgrid\":true,\"tickcolor\":\"rgb(51,51,51)\",\"ticks\":\"outside\"}},\"scene\":{\"xaxis\":{\"backgroundcolor\":\"rgb(237,237,237)\",\"gridcolor\":\"white\",\"gridwidth\":2,\"linecolor\":\"white\",\"showbackground\":true,\"showgrid\":true,\"tickcolor\":\"rgb(51,51,51)\",\"ticks\":\"outside\",\"zerolinecolor\":\"white\"},\"yaxis\":{\"backgroundcolor\":\"rgb(237,237,237)\",\"gridcolor\":\"white\",\"gridwidth\":2,\"linecolor\":\"white\",\"showbackground\":true,\"showgrid\":true,\"tickcolor\":\"rgb(51,51,51)\",\"ticks\":\"outside\",\"zerolinecolor\":\"white\"},\"zaxis\":{\"backgroundcolor\":\"rgb(237,237,237)\",\"gridcolor\":\"white\",\"gridwidth\":2,\"linecolor\":\"white\",\"showbackground\":true,\"showgrid\":true,\"tickcolor\":\"rgb(51,51,51)\",\"ticks\":\"outside\",\"zerolinecolor\":\"white\"}},\"shapedefaults\":{\"fillcolor\":\"black\",\"line\":{\"width\":0},\"opacity\":0.3},\"ternary\":{\"aaxis\":{\"gridcolor\":\"white\",\"linecolor\":\"white\",\"showgrid\":true,\"tickcolor\":\"rgb(51,51,51)\",\"ticks\":\"outside\"},\"baxis\":{\"gridcolor\":\"white\",\"linecolor\":\"white\",\"showgrid\":true,\"tickcolor\":\"rgb(51,51,51)\",\"ticks\":\"outside\"},\"bgcolor\":\"rgb(237,237,237)\",\"caxis\":{\"gridcolor\":\"white\",\"linecolor\":\"white\",\"showgrid\":true,\"tickcolor\":\"rgb(51,51,51)\",\"ticks\":\"outside\"}},\"xaxis\":{\"automargin\":true,\"gridcolor\":\"white\",\"linecolor\":\"white\",\"showgrid\":true,\"tickcolor\":\"rgb(51,51,51)\",\"ticks\":\"outside\",\"title\":{\"standoff\":15},\"zerolinecolor\":\"white\"},\"yaxis\":{\"automargin\":true,\"gridcolor\":\"white\",\"linecolor\":\"white\",\"showgrid\":true,\"tickcolor\":\"rgb(51,51,51)\",\"ticks\":\"outside\",\"title\":{\"standoff\":15},\"zerolinecolor\":\"white\"}}},\"xaxis\":{\"anchor\":\"y\",\"domain\":[0.0,1.0],\"title\":{\"text\":\"Contributor\"},\"categoryorder\":\"total descending\"},\"yaxis\":{\"anchor\":\"x\",\"domain\":[0.0,1.0],\"title\":{\"text\":\"Total Imports\"},\"tickformat\":\"s\"},\"legend\":{\"title\":{\"text\":\"module_name\"},\"tracegroupgap\":0},\"margin\":{\"t\":60},\"barmode\":\"relative\",\"uniformtext\":{\"minsize\":14,\"mode\":\"hide\"},\"font\":{\"size\":24},\"height\":500,\"width\":800},                        {\"responsive\": true}                    ).then(function(){\n",
       "                            \n",
       "var gd = document.getElementById('9f3bbdc1-264a-4726-8f37-eaa0ea6b9306');\n",
       "var x = new MutationObserver(function (mutations, observer) {{\n",
       "        var display = window.getComputedStyle(gd).display;\n",
       "        if (!display || display === 'none') {{\n",
       "            console.log([gd, 'removed!']);\n",
       "            Plotly.purge(gd);\n",
       "            observer.disconnect();\n",
       "        }}\n",
       "}});\n",
       "\n",
       "// Listen for the removal of the full notebook cells\n",
       "var notebookContainer = gd.closest('#notebook-container');\n",
       "if (notebookContainer) {{\n",
       "    x.observe(notebookContainer, {childList: true});\n",
       "}}\n",
       "\n",
       "// Listen for the clearing of the current output cell\n",
       "var outputEl = gd.closest('.output');\n",
       "if (outputEl) {{\n",
       "    x.observe(outputEl, {childList: true});\n",
       "}}\n",
       "\n",
       "                        })                };                });            </script>        </div>"
      ]
     },
     "metadata": {},
     "output_type": "display_data"
    }
   ],
   "source": [
    "fig = px.bar(\n",
    "    module_df[module_df.user.isin(top_users)], x=\"user\", y=\"imports\", color=\"module_name\", \n",
    "    text=\"module_name\", color_discrete_sequence=px.colors.qualitative.Bold,\n",
    "    labels={\"imports\": \"Total Imports\", \"user\": \"Contributor\"}, template=\"ggplot2\"\n",
    ")\n",
    "\n",
    "fig.update_traces(\n",
    "    textposition='inside', \n",
    "    showlegend=False,\n",
    ")\n",
    "\n",
    "fig.update_layout(\n",
    "    uniformtext_minsize=14,\n",
    "    uniformtext_mode='hide',\n",
    "    yaxis_tickformat=\"s\",\n",
    "    font=dict(size=24),\n",
    "    height=500, width=800,\n",
    "    xaxis={'categoryorder': 'total descending'},    \n",
    ")\n",
    "\n",
    "\n",
    "fig"
   ]
  },
  {
   "cell_type": "code",
   "execution_count": 155,
   "id": "75d739be",
   "metadata": {
    "ExecuteTime": {
     "end_time": "2022-03-05T21:52:37.605072Z",
     "start_time": "2022-03-05T21:52:37.307784Z"
    }
   },
   "outputs": [],
   "source": [
    "fig.write_image(os.path.join(\"..\", \"figures\", \"modules_by_user.png\"), scale=2)"
   ]
  }
 ],
 "metadata": {
  "kernelspec": {
   "display_name": "Python [conda env:eestats]",
   "language": "python",
   "name": "conda-env-eestats-py"
  },
  "language_info": {
   "codemirror_mode": {
    "name": "ipython",
    "version": 3
   },
   "file_extension": ".py",
   "mimetype": "text/x-python",
   "name": "python",
   "nbconvert_exporter": "python",
   "pygments_lexer": "ipython3",
   "version": "3.10.2"
  },
  "toc": {
   "base_numbering": 1,
   "nav_menu": {},
   "number_sections": true,
   "sideBar": true,
   "skip_h1_title": false,
   "title_cell": "Table of Contents",
   "title_sidebar": "Contents",
   "toc_cell": false,
   "toc_position": {},
   "toc_section_display": true,
   "toc_window_display": false
  }
 },
 "nbformat": 4,
 "nbformat_minor": 5
}
