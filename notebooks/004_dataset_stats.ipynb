{
 "cells": [
  {
   "cell_type": "markdown",
   "id": "579ab847",
   "metadata": {},
   "source": [
    "# Dataset Stats\n",
    "\n",
    "With all of the public Earth Engine code scraped and parsed, let's start seeing what we can learn about specific datasets."
   ]
  },
  {
   "cell_type": "code",
   "execution_count": 1,
   "id": "60acd4b5",
   "metadata": {
    "ExecuteTime": {
     "end_time": "2022-03-06T05:41:18.995505Z",
     "start_time": "2022-03-06T05:41:18.749329Z"
    }
   },
   "outputs": [],
   "source": [
    "import os\n",
    "import pandas as pd\n",
    "import plotly.express as px\n",
    "from collections import Counter\n",
    "import datetime"
   ]
  },
  {
   "cell_type": "markdown",
   "id": "1dbda042",
   "metadata": {},
   "source": [
    "## Collection Stats"
   ]
  },
  {
   "cell_type": "markdown",
   "id": "992e39d5",
   "metadata": {},
   "source": [
    "First, let's load a count of how many times each image collection has been imported."
   ]
  },
  {
   "cell_type": "code",
   "execution_count": null,
   "id": "fd85f5a1",
   "metadata": {
    "ExecuteTime": {
     "end_time": "2022-03-05T23:57:51.562397Z",
     "start_time": "2022-03-05T23:57:51.553676Z"
    }
   },
   "outputs": [],
   "source": [
    "collections_df = pd.read_csv(os.path.join(\"..\", \"data\", \"collections.csv\")).sort_values(by=\"imports\", ascending=False)"
   ]
  },
  {
   "cell_type": "markdown",
   "id": "e4701d85",
   "metadata": {},
   "source": [
    "How many times have the top 10 image collections been imported?"
   ]
  },
  {
   "cell_type": "code",
   "execution_count": null,
   "id": "e3dc003c",
   "metadata": {
    "ExecuteTime": {
     "end_time": "2022-03-05T23:57:52.248336Z",
     "start_time": "2022-03-05T23:57:52.243690Z"
    }
   },
   "outputs": [],
   "source": [
    "collections_df[:10]"
   ]
  },
  {
   "cell_type": "markdown",
   "id": "8fa5e235",
   "metadata": {},
   "source": [
    "### By Platform"
   ]
  },
  {
   "cell_type": "markdown",
   "id": "224edafe",
   "metadata": {},
   "source": [
    "What if we break down imports by platform? Let's group some of the most popular collections together by platform."
   ]
  },
  {
   "cell_type": "code",
   "execution_count": null,
   "id": "15eecaa4",
   "metadata": {
    "ExecuteTime": {
     "end_time": "2022-03-05T23:59:56.995366Z",
     "start_time": "2022-03-05T23:59:56.992383Z"
    }
   },
   "outputs": [],
   "source": [
    "def get_landsat_platform(s):\n",
    "    \"\"\"Parse the Landsat platform from a collection name.\"\"\"\n",
    "    try:\n",
    "        platform = int(s.split(\"/\")[1][-2:])\n",
    "        if platform not in [5, 7, 8]:\n",
    "            return \"Landsat ...\"\n",
    "        \n",
    "        return \"Landsat \" + str(int(platform))\n",
    "        \n",
    "    except (IndexError, ValueError):\n",
    "        return \"Landsat ...\"\n",
    "\n",
    "def get_collection_program(collection):\n",
    "    if \"LANDSAT/\" in collection:\n",
    "        return get_landsat_platform(collection)\n",
    "    elif \"COPERNICUS/S2\" in collection:\n",
    "        return \"Sentinel-2\"\n",
    "    elif \"COPERNICUS/S1\" in collection:\n",
    "        return \"Sentinel-1\"\n",
    "    elif \"MODIS/\" in collection:\n",
    "        return \"MODIS\"\n",
    "    else:\n",
    "        return \"Other\""
   ]
  },
  {
   "cell_type": "code",
   "execution_count": null,
   "id": "a04ad75d",
   "metadata": {
    "ExecuteTime": {
     "end_time": "2022-03-05T23:59:57.495777Z",
     "start_time": "2022-03-05T23:59:57.488483Z"
    }
   },
   "outputs": [],
   "source": [
    "collections_df[\"platform\"] = collections_df.collection.apply(get_collection_program)\n",
    "collection_programs = collections_df.groupby(\"platform\").sum().reset_index().sort_values(by=\"imports\", ascending=False)"
   ]
  },
  {
   "cell_type": "code",
   "execution_count": null,
   "id": "2a347356",
   "metadata": {
    "ExecuteTime": {
     "end_time": "2022-03-05T23:59:57.947367Z",
     "start_time": "2022-03-05T23:59:57.899995Z"
    }
   },
   "outputs": [],
   "source": [
    "fig = px.bar(collection_programs, x=\"platform\", y=\"imports\", color=\"platform\", template=\"ggplot2\",\n",
    "             labels={\"imports\": \"Total Imports\", \"platform\": \"Platform\"}, \n",
    "             color_discrete_sequence=px.colors.diverging.Temps, text=\"imports\")\n",
    "\n",
    "fig.update_traces(texttemplate=\"<b>%{value:.2s}</b>\")\n",
    "fig.update_layout(font=dict(size=24), showlegend=False, height=500, width=800)\n",
    "\n",
    "fig"
   ]
  },
  {
   "cell_type": "code",
   "execution_count": null,
   "id": "be99420b",
   "metadata": {
    "ExecuteTime": {
     "end_time": "2022-03-06T00:00:48.156049Z",
     "start_time": "2022-03-06T00:00:48.151461Z"
    },
    "scrolled": true
   },
   "outputs": [],
   "source": [
    "collections_df[collections_df.platform.str.startswith(\"Landsat\")].imports.sum()"
   ]
  },
  {
   "cell_type": "code",
   "execution_count": null,
   "id": "070c08fb",
   "metadata": {
    "ExecuteTime": {
     "end_time": "2022-03-06T00:00:09.638162Z",
     "start_time": "2022-03-06T00:00:09.288279Z"
    }
   },
   "outputs": [],
   "source": [
    "fig.write_image(os.path.join(\"..\", \"figures\", \"platform_imports.png\"), scale=2)"
   ]
  },
  {
   "cell_type": "markdown",
   "id": "587f7bdb",
   "metadata": {},
   "source": [
    "### Landsat Analysis\n",
    "\n",
    "Let's break down the Landsat data further, comparing the number of imports between platforms."
   ]
  },
  {
   "cell_type": "code",
   "execution_count": null,
   "id": "12e6a93a",
   "metadata": {
    "ExecuteTime": {
     "end_time": "2022-03-06T01:19:35.003324Z",
     "start_time": "2022-03-06T01:19:34.992588Z"
    }
   },
   "outputs": [],
   "source": [
    "def get_landsat_platform(s):\n",
    "    \"\"\"Parse the Landsat platform from a collection name.\"\"\"\n",
    "    try:\n",
    "        platform = int(s.split(\"/\")[1][-2:])\n",
    "        if platform not in [1, 2, 3, 4, 5, 7, 8, 9]:\n",
    "            return None\n",
    "        \n",
    "        return \"Landsat \" + str(int(platform))\n",
    "        \n",
    "    except (IndexError, ValueError):\n",
    "        return None"
   ]
  },
  {
   "cell_type": "code",
   "execution_count": null,
   "id": "6cbdfe52",
   "metadata": {
    "ExecuteTime": {
     "end_time": "2022-03-06T01:40:51.423378Z",
     "start_time": "2022-03-06T01:40:51.397741Z"
    }
   },
   "outputs": [],
   "source": [
    "landsat_df = collections_df[collections_df.platform.str.startswith(\"Landsat\")]\n",
    "landsat_df[\"short_platform\"] = landsat_df.platform.apply(lambda x: \"L\" + x.split(\" \")[1])"
   ]
  },
  {
   "cell_type": "code",
   "execution_count": null,
   "id": "967299b7",
   "metadata": {
    "ExecuteTime": {
     "end_time": "2022-03-06T01:44:28.907666Z",
     "start_time": "2022-03-06T01:44:28.874176Z"
    }
   },
   "outputs": [],
   "source": [
    "fig = px.pie(landsat_df, names=\"short_platform\", values=\"imports\", hole=0.6, \n",
    "             color_discrete_sequence=px.colors.qualitative.T10)\n",
    "\n",
    "fig.update_traces(\n",
    "    textposition='inside',\n",
    "    texttemplate = \"<b>%{label}</b><br>(%{percent:.0%})\",\n",
    "    insidetextorientation=\"horizontal\"\n",
    ")\n",
    "\n",
    "fig.update_layout(\n",
    "    annotations=[dict(text='<b><span style=\"font-variant: small-caps;\">Landsat<br>Platform</span></b>', x=0.5, y=0.5, font_size=36, showarrow=False)])\n",
    "\n",
    "fig.update_layout(height=400, width=400, showlegend=False, font=dict(size=24), margin=dict(l=10, r=10, b=10, t=10))"
   ]
  },
  {
   "cell_type": "code",
   "execution_count": null,
   "id": "f6b0450b",
   "metadata": {
    "ExecuteTime": {
     "end_time": "2022-03-06T01:44:33.354511Z",
     "start_time": "2022-03-06T01:44:33.000009Z"
    }
   },
   "outputs": [],
   "source": [
    "fig.write_image(os.path.join(\"..\", \"figures\", \"landsat_platforms.png\"), scale=2)"
   ]
  },
  {
   "cell_type": "markdown",
   "id": "55ec4eb5",
   "metadata": {},
   "source": [
    "## Image Stats"
   ]
  },
  {
   "cell_type": "code",
   "execution_count": 24,
   "id": "afebc1c1",
   "metadata": {
    "ExecuteTime": {
     "end_time": "2022-03-06T05:50:36.964110Z",
     "start_time": "2022-03-06T05:50:36.918647Z"
    }
   },
   "outputs": [],
   "source": [
    "image_df = pd.read_csv(os.path.join(\"..\", \"data\", \"images.csv\")).sort_values(by=\"imports\", ascending=False)"
   ]
  },
  {
   "cell_type": "code",
   "execution_count": 25,
   "id": "bb2b6f04",
   "metadata": {
    "ExecuteTime": {
     "end_time": "2022-03-06T05:50:37.187047Z",
     "start_time": "2022-03-06T05:50:37.176660Z"
    }
   },
   "outputs": [
    {
     "data": {
      "text/html": [
       "<div>\n",
       "<style scoped>\n",
       "    .dataframe tbody tr th:only-of-type {\n",
       "        vertical-align: middle;\n",
       "    }\n",
       "\n",
       "    .dataframe tbody tr th {\n",
       "        vertical-align: top;\n",
       "    }\n",
       "\n",
       "    .dataframe thead th {\n",
       "        text-align: right;\n",
       "    }\n",
       "</style>\n",
       "<table border=\"1\" class=\"dataframe\">\n",
       "  <thead>\n",
       "    <tr style=\"text-align: right;\">\n",
       "      <th></th>\n",
       "      <th>image</th>\n",
       "      <th>imports</th>\n",
       "    </tr>\n",
       "  </thead>\n",
       "  <tbody>\n",
       "    <tr>\n",
       "      <th>0</th>\n",
       "      <td>USGS/SRTMGL1_003</td>\n",
       "      <td>13293</td>\n",
       "    </tr>\n",
       "    <tr>\n",
       "      <th>10</th>\n",
       "      <td>CGIAR/SRTM90_V4</td>\n",
       "      <td>4640</td>\n",
       "    </tr>\n",
       "    <tr>\n",
       "      <th>4</th>\n",
       "      <td>JRC/GSW1_0/GlobalSurfaceWater</td>\n",
       "      <td>3065</td>\n",
       "    </tr>\n",
       "    <tr>\n",
       "      <th>9</th>\n",
       "      <td>UMD/hansen/global_forest_change_2015</td>\n",
       "      <td>1605</td>\n",
       "    </tr>\n",
       "    <tr>\n",
       "      <th>122</th>\n",
       "      <td>UMD/hansen/global_forest_change_2018_v1_6</td>\n",
       "      <td>1517</td>\n",
       "    </tr>\n",
       "    <tr>\n",
       "      <th>15</th>\n",
       "      <td>UMD/hansen/global_forest_change_2019_v1_7</td>\n",
       "      <td>1422</td>\n",
       "    </tr>\n",
       "    <tr>\n",
       "      <th>723</th>\n",
       "      <td>JAXA/ALOS/AW3D30_V1_1</td>\n",
       "      <td>1414</td>\n",
       "    </tr>\n",
       "    <tr>\n",
       "      <th>28</th>\n",
       "      <td>UMD/hansen/global_forest_change_2020_v1_8</td>\n",
       "      <td>1314</td>\n",
       "    </tr>\n",
       "    <tr>\n",
       "      <th>2</th>\n",
       "      <td>USGS/NED</td>\n",
       "      <td>1229</td>\n",
       "    </tr>\n",
       "    <tr>\n",
       "      <th>1073</th>\n",
       "      <td>WWF/HydroSHEDS/03VFDEM</td>\n",
       "      <td>1172</td>\n",
       "    </tr>\n",
       "  </tbody>\n",
       "</table>\n",
       "</div>"
      ],
      "text/plain": [
       "                                          image  imports\n",
       "0                              USGS/SRTMGL1_003    13293\n",
       "10                              CGIAR/SRTM90_V4     4640\n",
       "4                 JRC/GSW1_0/GlobalSurfaceWater     3065\n",
       "9          UMD/hansen/global_forest_change_2015     1605\n",
       "122   UMD/hansen/global_forest_change_2018_v1_6     1517\n",
       "15    UMD/hansen/global_forest_change_2019_v1_7     1422\n",
       "723                       JAXA/ALOS/AW3D30_V1_1     1414\n",
       "28    UMD/hansen/global_forest_change_2020_v1_8     1314\n",
       "2                                      USGS/NED     1229\n",
       "1073                     WWF/HydroSHEDS/03VFDEM     1172"
      ]
     },
     "execution_count": 25,
     "metadata": {},
     "output_type": "execute_result"
    }
   ],
   "source": [
    "image_df[:10]"
   ]
  },
  {
   "cell_type": "markdown",
   "id": "82d6d294",
   "metadata": {},
   "source": [
    "What's the most frequently imported Landsat image?"
   ]
  },
  {
   "cell_type": "code",
   "execution_count": 26,
   "id": "e7fb3adf",
   "metadata": {
    "ExecuteTime": {
     "end_time": "2022-03-06T05:50:38.276517Z",
     "start_time": "2022-03-06T05:50:38.242508Z"
    }
   },
   "outputs": [
    {
     "data": {
      "text/html": [
       "<div>\n",
       "<style scoped>\n",
       "    .dataframe tbody tr th:only-of-type {\n",
       "        vertical-align: middle;\n",
       "    }\n",
       "\n",
       "    .dataframe tbody tr th {\n",
       "        vertical-align: top;\n",
       "    }\n",
       "\n",
       "    .dataframe thead th {\n",
       "        text-align: right;\n",
       "    }\n",
       "</style>\n",
       "<table border=\"1\" class=\"dataframe\">\n",
       "  <thead>\n",
       "    <tr style=\"text-align: right;\">\n",
       "      <th></th>\n",
       "      <th>image</th>\n",
       "      <th>imports</th>\n",
       "    </tr>\n",
       "  </thead>\n",
       "  <tbody>\n",
       "    <tr>\n",
       "      <th>1110</th>\n",
       "      <td>LANDSAT/LC08/C01/T1_TOA/LC08_044034_20140318</td>\n",
       "      <td>447</td>\n",
       "    </tr>\n",
       "    <tr>\n",
       "      <th>622</th>\n",
       "      <td>LANDSAT/LC08/C01/T1/LC08_044034_20140318</td>\n",
       "      <td>435</td>\n",
       "    </tr>\n",
       "    <tr>\n",
       "      <th>1239</th>\n",
       "      <td>LANDSAT/LE7_TOA_1YEAR/2001</td>\n",
       "      <td>187</td>\n",
       "    </tr>\n",
       "    <tr>\n",
       "      <th>1151</th>\n",
       "      <td>LANDSAT/LC08/C01/T1_TOA/LC08_123032_20140515</td>\n",
       "      <td>129</td>\n",
       "    </tr>\n",
       "    <tr>\n",
       "      <th>7965</th>\n",
       "      <td>LANDSAT/LC8_L1T_TOA/LC80440342013106LGN01</td>\n",
       "      <td>121</td>\n",
       "    </tr>\n",
       "    <tr>\n",
       "      <th>...</th>\n",
       "      <td>...</td>\n",
       "      <td>...</td>\n",
       "    </tr>\n",
       "    <tr>\n",
       "      <th>6079</th>\n",
       "      <td>LANDSAT/LC08/C01/T1_SR/LC08_033032_20170601</td>\n",
       "      <td>1</td>\n",
       "    </tr>\n",
       "    <tr>\n",
       "      <th>6080</th>\n",
       "      <td>LANDSAT/LC08/C01/T1_SR/LC08_033032_20171124</td>\n",
       "      <td>1</td>\n",
       "    </tr>\n",
       "    <tr>\n",
       "      <th>64062</th>\n",
       "      <td>LANDSAT/LC08/C01/T1_SR/LC08_232067_20190828</td>\n",
       "      <td>1</td>\n",
       "    </tr>\n",
       "    <tr>\n",
       "      <th>64061</th>\n",
       "      <td>LANDSAT/LC08/C01/T1_SR/LC08_232067_20130726</td>\n",
       "      <td>1</td>\n",
       "    </tr>\n",
       "    <tr>\n",
       "      <th>44415</th>\n",
       "      <td>LANDSAT/LC08/C01/T1_TOA/LC08_216072_20180910</td>\n",
       "      <td>1</td>\n",
       "    </tr>\n",
       "  </tbody>\n",
       "</table>\n",
       "<p>10897 rows × 2 columns</p>\n",
       "</div>"
      ],
      "text/plain": [
       "                                              image  imports\n",
       "1110   LANDSAT/LC08/C01/T1_TOA/LC08_044034_20140318      447\n",
       "622        LANDSAT/LC08/C01/T1/LC08_044034_20140318      435\n",
       "1239                     LANDSAT/LE7_TOA_1YEAR/2001      187\n",
       "1151   LANDSAT/LC08/C01/T1_TOA/LC08_123032_20140515      129\n",
       "7965      LANDSAT/LC8_L1T_TOA/LC80440342013106LGN01      121\n",
       "...                                             ...      ...\n",
       "6079    LANDSAT/LC08/C01/T1_SR/LC08_033032_20170601        1\n",
       "6080    LANDSAT/LC08/C01/T1_SR/LC08_033032_20171124        1\n",
       "64062   LANDSAT/LC08/C01/T1_SR/LC08_232067_20190828        1\n",
       "64061   LANDSAT/LC08/C01/T1_SR/LC08_232067_20130726        1\n",
       "44415  LANDSAT/LC08/C01/T1_TOA/LC08_216072_20180910        1\n",
       "\n",
       "[10897 rows x 2 columns]"
      ]
     },
     "execution_count": 26,
     "metadata": {},
     "output_type": "execute_result"
    }
   ],
   "source": [
    "image_df[image_df.image.str.startswith(\"LANDSAT\").fillna(False)].sort_values(\"imports\", ascending=False)"
   ]
  },
  {
   "cell_type": "markdown",
   "id": "d926d9d4",
   "metadata": {
    "ExecuteTime": {
     "end_time": "2022-03-06T05:51:43.033018Z",
     "start_time": "2022-03-06T05:51:43.030034Z"
    }
   },
   "source": [
    "How about Sentinel-2?"
   ]
  },
  {
   "cell_type": "code",
   "execution_count": 35,
   "id": "e3c1533a",
   "metadata": {
    "ExecuteTime": {
     "end_time": "2022-03-06T06:00:04.250352Z",
     "start_time": "2022-03-06T06:00:04.214888Z"
    }
   },
   "outputs": [
    {
     "data": {
      "text/html": [
       "<div>\n",
       "<style scoped>\n",
       "    .dataframe tbody tr th:only-of-type {\n",
       "        vertical-align: middle;\n",
       "    }\n",
       "\n",
       "    .dataframe tbody tr th {\n",
       "        vertical-align: top;\n",
       "    }\n",
       "\n",
       "    .dataframe thead th {\n",
       "        text-align: right;\n",
       "    }\n",
       "</style>\n",
       "<table border=\"1\" class=\"dataframe\">\n",
       "  <thead>\n",
       "    <tr style=\"text-align: right;\">\n",
       "      <th></th>\n",
       "      <th>image</th>\n",
       "      <th>imports</th>\n",
       "    </tr>\n",
       "  </thead>\n",
       "  <tbody>\n",
       "    <tr>\n",
       "      <th>1767</th>\n",
       "      <td>COPERNICUS/S2/20180422T012719_20180422T012714_...</td>\n",
       "      <td>72</td>\n",
       "    </tr>\n",
       "    <tr>\n",
       "      <th>53431</th>\n",
       "      <td>COPERNICUS/S2/20180903T181921_20180903T182327_...</td>\n",
       "      <td>44</td>\n",
       "    </tr>\n",
       "    <tr>\n",
       "      <th>42380</th>\n",
       "      <td>COPERNICUS/S2/20190510T052651_20190510T053439_...</td>\n",
       "      <td>42</td>\n",
       "    </tr>\n",
       "    <tr>\n",
       "      <th>42379</th>\n",
       "      <td>COPERNICUS/S2/20180505T052651_20180505T053419_...</td>\n",
       "      <td>42</td>\n",
       "    </tr>\n",
       "    <tr>\n",
       "      <th>42377</th>\n",
       "      <td>COPERNICUS/S2/20160604T052652_20160604T053931_...</td>\n",
       "      <td>42</td>\n",
       "    </tr>\n",
       "    <tr>\n",
       "      <th>...</th>\n",
       "      <td>...</td>\n",
       "      <td>...</td>\n",
       "    </tr>\n",
       "    <tr>\n",
       "      <th>4874</th>\n",
       "      <td>COPERNICUS/S2/20191206T000239_20191206T000234_...</td>\n",
       "      <td>1</td>\n",
       "    </tr>\n",
       "    <tr>\n",
       "      <th>4873</th>\n",
       "      <td>COPERNICUS/S2/20191206T000239_20191206T000234_...</td>\n",
       "      <td>1</td>\n",
       "    </tr>\n",
       "    <tr>\n",
       "      <th>4872</th>\n",
       "      <td>COPERNICUS/S2/20200125T000239_20200125T000233_...</td>\n",
       "      <td>1</td>\n",
       "    </tr>\n",
       "    <tr>\n",
       "      <th>4871</th>\n",
       "      <td>COPERNICUS/S2/20200125T000239_20200125T000233_...</td>\n",
       "      <td>1</td>\n",
       "    </tr>\n",
       "    <tr>\n",
       "      <th>17216</th>\n",
       "      <td>COPERNICUS/S2_SR/20210725T140101_20210725T1400...</td>\n",
       "      <td>1</td>\n",
       "    </tr>\n",
       "  </tbody>\n",
       "</table>\n",
       "<p>6598 rows × 2 columns</p>\n",
       "</div>"
      ],
      "text/plain": [
       "                                                   image  imports\n",
       "1767   COPERNICUS/S2/20180422T012719_20180422T012714_...       72\n",
       "53431  COPERNICUS/S2/20180903T181921_20180903T182327_...       44\n",
       "42380  COPERNICUS/S2/20190510T052651_20190510T053439_...       42\n",
       "42379  COPERNICUS/S2/20180505T052651_20180505T053419_...       42\n",
       "42377  COPERNICUS/S2/20160604T052652_20160604T053931_...       42\n",
       "...                                                  ...      ...\n",
       "4874   COPERNICUS/S2/20191206T000239_20191206T000234_...        1\n",
       "4873   COPERNICUS/S2/20191206T000239_20191206T000234_...        1\n",
       "4872   COPERNICUS/S2/20200125T000239_20200125T000233_...        1\n",
       "4871   COPERNICUS/S2/20200125T000239_20200125T000233_...        1\n",
       "17216  COPERNICUS/S2_SR/20210725T140101_20210725T1400...        1\n",
       "\n",
       "[6598 rows x 2 columns]"
      ]
     },
     "execution_count": 35,
     "metadata": {},
     "output_type": "execute_result"
    }
   ],
   "source": [
    "image_df[image_df.image.str.startswith(\"COPERNICUS/S2\").fillna(False)].sort_values(\"imports\", ascending=False)"
   ]
  },
  {
   "cell_type": "markdown",
   "id": "ce6b9915",
   "metadata": {},
   "source": [
    "## CRS Stats"
   ]
  },
  {
   "cell_type": "code",
   "execution_count": null,
   "id": "c8c3cfa5",
   "metadata": {
    "ExecuteTime": {
     "end_time": "2022-03-05T20:07:39.789581Z",
     "start_time": "2022-03-05T20:07:39.786101Z"
    }
   },
   "outputs": [],
   "source": [
    "crs_df = pd.read_csv(os.path.join(\"..\", \"data\", \"crs.csv\")).sort_values(by=\"exports\", ascending=False)"
   ]
  },
  {
   "cell_type": "code",
   "execution_count": null,
   "id": "d59060a3",
   "metadata": {
    "ExecuteTime": {
     "end_time": "2022-03-05T20:07:40.216655Z",
     "start_time": "2022-03-05T20:07:40.196475Z"
    }
   },
   "outputs": [],
   "source": [
    "crs_df[crs_df.crs.isin([\"EPSG:4326\", \"EPSG:3857\"])].exports.sum() / crs_df.exports.sum()"
   ]
  },
  {
   "cell_type": "markdown",
   "id": "de2d6735",
   "metadata": {},
   "source": [
    "## Date Stats"
   ]
  },
  {
   "cell_type": "code",
   "execution_count": 2,
   "id": "c7caaafa",
   "metadata": {
    "ExecuteTime": {
     "end_time": "2022-03-06T04:53:17.641126Z",
     "start_time": "2022-03-06T04:53:17.628310Z"
    }
   },
   "outputs": [],
   "source": [
    "date_df = pd.read_csv(os.path.join(\"..\", \"data\", \"dates.csv\")).sort_values(by=\"date\", ascending=False)"
   ]
  },
  {
   "cell_type": "code",
   "execution_count": 4,
   "id": "066c07ba",
   "metadata": {
    "ExecuteTime": {
     "end_time": "2022-03-06T04:53:18.973339Z",
     "start_time": "2022-03-06T04:53:18.963754Z"
    }
   },
   "outputs": [],
   "source": [
    "def parse_date(date):\n",
    "    \"\"\"Parse a date in format yyyy-mm-dd into a datetime.\"\"\"\n",
    "    y, m, d = date.split(\"-\")\n",
    "    \n",
    "    try:\n",
    "        dt = datetime.datetime(year=int(y), month=int(m), day=int(d))\n",
    "    # Skip invalid dates\n",
    "    except ValueError:\n",
    "        return None\n",
    "    \n",
    "    return dt"
   ]
  },
  {
   "cell_type": "code",
   "execution_count": 26,
   "id": "09ec3855",
   "metadata": {
    "ExecuteTime": {
     "end_time": "2022-03-06T05:00:51.080885Z",
     "start_time": "2022-03-06T05:00:51.060066Z"
    }
   },
   "outputs": [],
   "source": [
    "date_df[\"datetime\"] = date_df.date.apply(parse_date)\n",
    "date_df = date_df.dropna(subset=\"datetime\")"
   ]
  },
  {
   "cell_type": "code",
   "execution_count": 10,
   "id": "a1e76782",
   "metadata": {
    "ExecuteTime": {
     "end_time": "2022-03-06T04:55:40.689581Z",
     "start_time": "2022-03-06T04:55:40.682671Z"
    }
   },
   "outputs": [],
   "source": [
    "date_df[\"year\"] = date_df.datetime.apply(lambda d: d.year)\n",
    "year_df = date_df.groupby(\"year\").sum().reset_index()"
   ]
  },
  {
   "cell_type": "code",
   "execution_count": 16,
   "id": "c004627e",
   "metadata": {
    "ExecuteTime": {
     "end_time": "2022-03-06T04:56:48.881375Z",
     "start_time": "2022-03-06T04:56:48.822600Z"
    },
    "scrolled": false
   },
   "outputs": [
    {
     "data": {
      "application/vnd.plotly.v1+json": {
       "config": {
        "plotlyServerURL": "https://plot.ly"
       },
       "data": [
        {
         "alignmentgroup": "True",
         "hovertemplate": "year=%{x}<br>used=%{y}<extra></extra>",
         "legendgroup": "",
         "marker": {
          "color": "#636efa",
          "pattern": {
           "shape": ""
          }
         },
         "name": "",
         "offsetgroup": "",
         "orientation": "v",
         "showlegend": false,
         "textposition": "auto",
         "type": "bar",
         "x": [
          1981,
          1982,
          1983,
          1984,
          1985,
          1986,
          1987,
          1988,
          1989,
          1990,
          1991,
          1992,
          1993,
          1994,
          1995,
          1996,
          1997,
          1998,
          1999,
          2000,
          2001,
          2002,
          2003,
          2004,
          2005,
          2006,
          2007,
          2008,
          2009,
          2010,
          2011,
          2012,
          2013,
          2014,
          2015,
          2016,
          2017,
          2018,
          2019,
          2020,
          2021,
          2022
         ],
         "xaxis": "x",
         "y": [
          583,
          651,
          257,
          2588,
          1108,
          1511,
          795,
          952,
          1057,
          2428,
          848,
          708,
          884,
          800,
          1223,
          691,
          730,
          1214,
          3382,
          13438,
          5947,
          4997,
          5827,
          3789,
          4542,
          3594,
          3784,
          4806,
          4708,
          9690,
          6458,
          5653,
          11940,
          12789,
          25352,
          34777,
          40385,
          57396,
          64034,
          62380,
          25746,
          2360
         ],
         "yaxis": "y"
        }
       ],
       "layout": {
        "barmode": "relative",
        "legend": {
         "tracegroupgap": 0
        },
        "margin": {
         "t": 60
        },
        "template": {
         "data": {
          "bar": [
           {
            "error_x": {
             "color": "#2a3f5f"
            },
            "error_y": {
             "color": "#2a3f5f"
            },
            "marker": {
             "line": {
              "color": "#E5ECF6",
              "width": 0.5
             },
             "pattern": {
              "fillmode": "overlay",
              "size": 10,
              "solidity": 0.2
             }
            },
            "type": "bar"
           }
          ],
          "barpolar": [
           {
            "marker": {
             "line": {
              "color": "#E5ECF6",
              "width": 0.5
             },
             "pattern": {
              "fillmode": "overlay",
              "size": 10,
              "solidity": 0.2
             }
            },
            "type": "barpolar"
           }
          ],
          "carpet": [
           {
            "aaxis": {
             "endlinecolor": "#2a3f5f",
             "gridcolor": "white",
             "linecolor": "white",
             "minorgridcolor": "white",
             "startlinecolor": "#2a3f5f"
            },
            "baxis": {
             "endlinecolor": "#2a3f5f",
             "gridcolor": "white",
             "linecolor": "white",
             "minorgridcolor": "white",
             "startlinecolor": "#2a3f5f"
            },
            "type": "carpet"
           }
          ],
          "choropleth": [
           {
            "colorbar": {
             "outlinewidth": 0,
             "ticks": ""
            },
            "type": "choropleth"
           }
          ],
          "contour": [
           {
            "colorbar": {
             "outlinewidth": 0,
             "ticks": ""
            },
            "colorscale": [
             [
              0,
              "#0d0887"
             ],
             [
              0.1111111111111111,
              "#46039f"
             ],
             [
              0.2222222222222222,
              "#7201a8"
             ],
             [
              0.3333333333333333,
              "#9c179e"
             ],
             [
              0.4444444444444444,
              "#bd3786"
             ],
             [
              0.5555555555555556,
              "#d8576b"
             ],
             [
              0.6666666666666666,
              "#ed7953"
             ],
             [
              0.7777777777777778,
              "#fb9f3a"
             ],
             [
              0.8888888888888888,
              "#fdca26"
             ],
             [
              1,
              "#f0f921"
             ]
            ],
            "type": "contour"
           }
          ],
          "contourcarpet": [
           {
            "colorbar": {
             "outlinewidth": 0,
             "ticks": ""
            },
            "type": "contourcarpet"
           }
          ],
          "heatmap": [
           {
            "colorbar": {
             "outlinewidth": 0,
             "ticks": ""
            },
            "colorscale": [
             [
              0,
              "#0d0887"
             ],
             [
              0.1111111111111111,
              "#46039f"
             ],
             [
              0.2222222222222222,
              "#7201a8"
             ],
             [
              0.3333333333333333,
              "#9c179e"
             ],
             [
              0.4444444444444444,
              "#bd3786"
             ],
             [
              0.5555555555555556,
              "#d8576b"
             ],
             [
              0.6666666666666666,
              "#ed7953"
             ],
             [
              0.7777777777777778,
              "#fb9f3a"
             ],
             [
              0.8888888888888888,
              "#fdca26"
             ],
             [
              1,
              "#f0f921"
             ]
            ],
            "type": "heatmap"
           }
          ],
          "heatmapgl": [
           {
            "colorbar": {
             "outlinewidth": 0,
             "ticks": ""
            },
            "colorscale": [
             [
              0,
              "#0d0887"
             ],
             [
              0.1111111111111111,
              "#46039f"
             ],
             [
              0.2222222222222222,
              "#7201a8"
             ],
             [
              0.3333333333333333,
              "#9c179e"
             ],
             [
              0.4444444444444444,
              "#bd3786"
             ],
             [
              0.5555555555555556,
              "#d8576b"
             ],
             [
              0.6666666666666666,
              "#ed7953"
             ],
             [
              0.7777777777777778,
              "#fb9f3a"
             ],
             [
              0.8888888888888888,
              "#fdca26"
             ],
             [
              1,
              "#f0f921"
             ]
            ],
            "type": "heatmapgl"
           }
          ],
          "histogram": [
           {
            "marker": {
             "pattern": {
              "fillmode": "overlay",
              "size": 10,
              "solidity": 0.2
             }
            },
            "type": "histogram"
           }
          ],
          "histogram2d": [
           {
            "colorbar": {
             "outlinewidth": 0,
             "ticks": ""
            },
            "colorscale": [
             [
              0,
              "#0d0887"
             ],
             [
              0.1111111111111111,
              "#46039f"
             ],
             [
              0.2222222222222222,
              "#7201a8"
             ],
             [
              0.3333333333333333,
              "#9c179e"
             ],
             [
              0.4444444444444444,
              "#bd3786"
             ],
             [
              0.5555555555555556,
              "#d8576b"
             ],
             [
              0.6666666666666666,
              "#ed7953"
             ],
             [
              0.7777777777777778,
              "#fb9f3a"
             ],
             [
              0.8888888888888888,
              "#fdca26"
             ],
             [
              1,
              "#f0f921"
             ]
            ],
            "type": "histogram2d"
           }
          ],
          "histogram2dcontour": [
           {
            "colorbar": {
             "outlinewidth": 0,
             "ticks": ""
            },
            "colorscale": [
             [
              0,
              "#0d0887"
             ],
             [
              0.1111111111111111,
              "#46039f"
             ],
             [
              0.2222222222222222,
              "#7201a8"
             ],
             [
              0.3333333333333333,
              "#9c179e"
             ],
             [
              0.4444444444444444,
              "#bd3786"
             ],
             [
              0.5555555555555556,
              "#d8576b"
             ],
             [
              0.6666666666666666,
              "#ed7953"
             ],
             [
              0.7777777777777778,
              "#fb9f3a"
             ],
             [
              0.8888888888888888,
              "#fdca26"
             ],
             [
              1,
              "#f0f921"
             ]
            ],
            "type": "histogram2dcontour"
           }
          ],
          "mesh3d": [
           {
            "colorbar": {
             "outlinewidth": 0,
             "ticks": ""
            },
            "type": "mesh3d"
           }
          ],
          "parcoords": [
           {
            "line": {
             "colorbar": {
              "outlinewidth": 0,
              "ticks": ""
             }
            },
            "type": "parcoords"
           }
          ],
          "pie": [
           {
            "automargin": true,
            "type": "pie"
           }
          ],
          "scatter": [
           {
            "marker": {
             "colorbar": {
              "outlinewidth": 0,
              "ticks": ""
             }
            },
            "type": "scatter"
           }
          ],
          "scatter3d": [
           {
            "line": {
             "colorbar": {
              "outlinewidth": 0,
              "ticks": ""
             }
            },
            "marker": {
             "colorbar": {
              "outlinewidth": 0,
              "ticks": ""
             }
            },
            "type": "scatter3d"
           }
          ],
          "scattercarpet": [
           {
            "marker": {
             "colorbar": {
              "outlinewidth": 0,
              "ticks": ""
             }
            },
            "type": "scattercarpet"
           }
          ],
          "scattergeo": [
           {
            "marker": {
             "colorbar": {
              "outlinewidth": 0,
              "ticks": ""
             }
            },
            "type": "scattergeo"
           }
          ],
          "scattergl": [
           {
            "marker": {
             "colorbar": {
              "outlinewidth": 0,
              "ticks": ""
             }
            },
            "type": "scattergl"
           }
          ],
          "scattermapbox": [
           {
            "marker": {
             "colorbar": {
              "outlinewidth": 0,
              "ticks": ""
             }
            },
            "type": "scattermapbox"
           }
          ],
          "scatterpolar": [
           {
            "marker": {
             "colorbar": {
              "outlinewidth": 0,
              "ticks": ""
             }
            },
            "type": "scatterpolar"
           }
          ],
          "scatterpolargl": [
           {
            "marker": {
             "colorbar": {
              "outlinewidth": 0,
              "ticks": ""
             }
            },
            "type": "scatterpolargl"
           }
          ],
          "scatterternary": [
           {
            "marker": {
             "colorbar": {
              "outlinewidth": 0,
              "ticks": ""
             }
            },
            "type": "scatterternary"
           }
          ],
          "surface": [
           {
            "colorbar": {
             "outlinewidth": 0,
             "ticks": ""
            },
            "colorscale": [
             [
              0,
              "#0d0887"
             ],
             [
              0.1111111111111111,
              "#46039f"
             ],
             [
              0.2222222222222222,
              "#7201a8"
             ],
             [
              0.3333333333333333,
              "#9c179e"
             ],
             [
              0.4444444444444444,
              "#bd3786"
             ],
             [
              0.5555555555555556,
              "#d8576b"
             ],
             [
              0.6666666666666666,
              "#ed7953"
             ],
             [
              0.7777777777777778,
              "#fb9f3a"
             ],
             [
              0.8888888888888888,
              "#fdca26"
             ],
             [
              1,
              "#f0f921"
             ]
            ],
            "type": "surface"
           }
          ],
          "table": [
           {
            "cells": {
             "fill": {
              "color": "#EBF0F8"
             },
             "line": {
              "color": "white"
             }
            },
            "header": {
             "fill": {
              "color": "#C8D4E3"
             },
             "line": {
              "color": "white"
             }
            },
            "type": "table"
           }
          ]
         },
         "layout": {
          "annotationdefaults": {
           "arrowcolor": "#2a3f5f",
           "arrowhead": 0,
           "arrowwidth": 1
          },
          "autotypenumbers": "strict",
          "coloraxis": {
           "colorbar": {
            "outlinewidth": 0,
            "ticks": ""
           }
          },
          "colorscale": {
           "diverging": [
            [
             0,
             "#8e0152"
            ],
            [
             0.1,
             "#c51b7d"
            ],
            [
             0.2,
             "#de77ae"
            ],
            [
             0.3,
             "#f1b6da"
            ],
            [
             0.4,
             "#fde0ef"
            ],
            [
             0.5,
             "#f7f7f7"
            ],
            [
             0.6,
             "#e6f5d0"
            ],
            [
             0.7,
             "#b8e186"
            ],
            [
             0.8,
             "#7fbc41"
            ],
            [
             0.9,
             "#4d9221"
            ],
            [
             1,
             "#276419"
            ]
           ],
           "sequential": [
            [
             0,
             "#0d0887"
            ],
            [
             0.1111111111111111,
             "#46039f"
            ],
            [
             0.2222222222222222,
             "#7201a8"
            ],
            [
             0.3333333333333333,
             "#9c179e"
            ],
            [
             0.4444444444444444,
             "#bd3786"
            ],
            [
             0.5555555555555556,
             "#d8576b"
            ],
            [
             0.6666666666666666,
             "#ed7953"
            ],
            [
             0.7777777777777778,
             "#fb9f3a"
            ],
            [
             0.8888888888888888,
             "#fdca26"
            ],
            [
             1,
             "#f0f921"
            ]
           ],
           "sequentialminus": [
            [
             0,
             "#0d0887"
            ],
            [
             0.1111111111111111,
             "#46039f"
            ],
            [
             0.2222222222222222,
             "#7201a8"
            ],
            [
             0.3333333333333333,
             "#9c179e"
            ],
            [
             0.4444444444444444,
             "#bd3786"
            ],
            [
             0.5555555555555556,
             "#d8576b"
            ],
            [
             0.6666666666666666,
             "#ed7953"
            ],
            [
             0.7777777777777778,
             "#fb9f3a"
            ],
            [
             0.8888888888888888,
             "#fdca26"
            ],
            [
             1,
             "#f0f921"
            ]
           ]
          },
          "colorway": [
           "#636efa",
           "#EF553B",
           "#00cc96",
           "#ab63fa",
           "#FFA15A",
           "#19d3f3",
           "#FF6692",
           "#B6E880",
           "#FF97FF",
           "#FECB52"
          ],
          "font": {
           "color": "#2a3f5f"
          },
          "geo": {
           "bgcolor": "white",
           "lakecolor": "white",
           "landcolor": "#E5ECF6",
           "showlakes": true,
           "showland": true,
           "subunitcolor": "white"
          },
          "hoverlabel": {
           "align": "left"
          },
          "hovermode": "closest",
          "mapbox": {
           "style": "light"
          },
          "paper_bgcolor": "white",
          "plot_bgcolor": "#E5ECF6",
          "polar": {
           "angularaxis": {
            "gridcolor": "white",
            "linecolor": "white",
            "ticks": ""
           },
           "bgcolor": "#E5ECF6",
           "radialaxis": {
            "gridcolor": "white",
            "linecolor": "white",
            "ticks": ""
           }
          },
          "scene": {
           "xaxis": {
            "backgroundcolor": "#E5ECF6",
            "gridcolor": "white",
            "gridwidth": 2,
            "linecolor": "white",
            "showbackground": true,
            "ticks": "",
            "zerolinecolor": "white"
           },
           "yaxis": {
            "backgroundcolor": "#E5ECF6",
            "gridcolor": "white",
            "gridwidth": 2,
            "linecolor": "white",
            "showbackground": true,
            "ticks": "",
            "zerolinecolor": "white"
           },
           "zaxis": {
            "backgroundcolor": "#E5ECF6",
            "gridcolor": "white",
            "gridwidth": 2,
            "linecolor": "white",
            "showbackground": true,
            "ticks": "",
            "zerolinecolor": "white"
           }
          },
          "shapedefaults": {
           "line": {
            "color": "#2a3f5f"
           }
          },
          "ternary": {
           "aaxis": {
            "gridcolor": "white",
            "linecolor": "white",
            "ticks": ""
           },
           "baxis": {
            "gridcolor": "white",
            "linecolor": "white",
            "ticks": ""
           },
           "bgcolor": "#E5ECF6",
           "caxis": {
            "gridcolor": "white",
            "linecolor": "white",
            "ticks": ""
           }
          },
          "title": {
           "x": 0.05
          },
          "xaxis": {
           "automargin": true,
           "gridcolor": "white",
           "linecolor": "white",
           "ticks": "",
           "title": {
            "standoff": 15
           },
           "zerolinecolor": "white",
           "zerolinewidth": 2
          },
          "yaxis": {
           "automargin": true,
           "gridcolor": "white",
           "linecolor": "white",
           "ticks": "",
           "title": {
            "standoff": 15
           },
           "zerolinecolor": "white",
           "zerolinewidth": 2
          }
         }
        },
        "xaxis": {
         "anchor": "y",
         "domain": [
          0,
          1
         ],
         "title": {
          "text": "year"
         }
        },
        "yaxis": {
         "anchor": "x",
         "domain": [
          0,
          1
         ],
         "title": {
          "text": "used"
         }
        }
       }
      },
      "text/html": [
       "<div>                            <div id=\"c36299ee-b827-41e6-9bcf-515a3a047d06\" class=\"plotly-graph-div\" style=\"height:525px; width:100%;\"></div>            <script type=\"text/javascript\">                require([\"plotly\"], function(Plotly) {                    window.PLOTLYENV=window.PLOTLYENV || {};                                    if (document.getElementById(\"c36299ee-b827-41e6-9bcf-515a3a047d06\")) {                    Plotly.newPlot(                        \"c36299ee-b827-41e6-9bcf-515a3a047d06\",                        [{\"alignmentgroup\":\"True\",\"hovertemplate\":\"year=%{x}<br>used=%{y}<extra></extra>\",\"legendgroup\":\"\",\"marker\":{\"color\":\"#636efa\",\"pattern\":{\"shape\":\"\"}},\"name\":\"\",\"offsetgroup\":\"\",\"orientation\":\"v\",\"showlegend\":false,\"textposition\":\"auto\",\"x\":[1981,1982,1983,1984,1985,1986,1987,1988,1989,1990,1991,1992,1993,1994,1995,1996,1997,1998,1999,2000,2001,2002,2003,2004,2005,2006,2007,2008,2009,2010,2011,2012,2013,2014,2015,2016,2017,2018,2019,2020,2021,2022],\"xaxis\":\"x\",\"y\":[583,651,257,2588,1108,1511,795,952,1057,2428,848,708,884,800,1223,691,730,1214,3382,13438,5947,4997,5827,3789,4542,3594,3784,4806,4708,9690,6458,5653,11940,12789,25352,34777,40385,57396,64034,62380,25746,2360],\"yaxis\":\"y\",\"type\":\"bar\"}],                        {\"template\":{\"data\":{\"bar\":[{\"error_x\":{\"color\":\"#2a3f5f\"},\"error_y\":{\"color\":\"#2a3f5f\"},\"marker\":{\"line\":{\"color\":\"#E5ECF6\",\"width\":0.5},\"pattern\":{\"fillmode\":\"overlay\",\"size\":10,\"solidity\":0.2}},\"type\":\"bar\"}],\"barpolar\":[{\"marker\":{\"line\":{\"color\":\"#E5ECF6\",\"width\":0.5},\"pattern\":{\"fillmode\":\"overlay\",\"size\":10,\"solidity\":0.2}},\"type\":\"barpolar\"}],\"carpet\":[{\"aaxis\":{\"endlinecolor\":\"#2a3f5f\",\"gridcolor\":\"white\",\"linecolor\":\"white\",\"minorgridcolor\":\"white\",\"startlinecolor\":\"#2a3f5f\"},\"baxis\":{\"endlinecolor\":\"#2a3f5f\",\"gridcolor\":\"white\",\"linecolor\":\"white\",\"minorgridcolor\":\"white\",\"startlinecolor\":\"#2a3f5f\"},\"type\":\"carpet\"}],\"choropleth\":[{\"colorbar\":{\"outlinewidth\":0,\"ticks\":\"\"},\"type\":\"choropleth\"}],\"contour\":[{\"colorbar\":{\"outlinewidth\":0,\"ticks\":\"\"},\"colorscale\":[[0.0,\"#0d0887\"],[0.1111111111111111,\"#46039f\"],[0.2222222222222222,\"#7201a8\"],[0.3333333333333333,\"#9c179e\"],[0.4444444444444444,\"#bd3786\"],[0.5555555555555556,\"#d8576b\"],[0.6666666666666666,\"#ed7953\"],[0.7777777777777778,\"#fb9f3a\"],[0.8888888888888888,\"#fdca26\"],[1.0,\"#f0f921\"]],\"type\":\"contour\"}],\"contourcarpet\":[{\"colorbar\":{\"outlinewidth\":0,\"ticks\":\"\"},\"type\":\"contourcarpet\"}],\"heatmap\":[{\"colorbar\":{\"outlinewidth\":0,\"ticks\":\"\"},\"colorscale\":[[0.0,\"#0d0887\"],[0.1111111111111111,\"#46039f\"],[0.2222222222222222,\"#7201a8\"],[0.3333333333333333,\"#9c179e\"],[0.4444444444444444,\"#bd3786\"],[0.5555555555555556,\"#d8576b\"],[0.6666666666666666,\"#ed7953\"],[0.7777777777777778,\"#fb9f3a\"],[0.8888888888888888,\"#fdca26\"],[1.0,\"#f0f921\"]],\"type\":\"heatmap\"}],\"heatmapgl\":[{\"colorbar\":{\"outlinewidth\":0,\"ticks\":\"\"},\"colorscale\":[[0.0,\"#0d0887\"],[0.1111111111111111,\"#46039f\"],[0.2222222222222222,\"#7201a8\"],[0.3333333333333333,\"#9c179e\"],[0.4444444444444444,\"#bd3786\"],[0.5555555555555556,\"#d8576b\"],[0.6666666666666666,\"#ed7953\"],[0.7777777777777778,\"#fb9f3a\"],[0.8888888888888888,\"#fdca26\"],[1.0,\"#f0f921\"]],\"type\":\"heatmapgl\"}],\"histogram\":[{\"marker\":{\"pattern\":{\"fillmode\":\"overlay\",\"size\":10,\"solidity\":0.2}},\"type\":\"histogram\"}],\"histogram2d\":[{\"colorbar\":{\"outlinewidth\":0,\"ticks\":\"\"},\"colorscale\":[[0.0,\"#0d0887\"],[0.1111111111111111,\"#46039f\"],[0.2222222222222222,\"#7201a8\"],[0.3333333333333333,\"#9c179e\"],[0.4444444444444444,\"#bd3786\"],[0.5555555555555556,\"#d8576b\"],[0.6666666666666666,\"#ed7953\"],[0.7777777777777778,\"#fb9f3a\"],[0.8888888888888888,\"#fdca26\"],[1.0,\"#f0f921\"]],\"type\":\"histogram2d\"}],\"histogram2dcontour\":[{\"colorbar\":{\"outlinewidth\":0,\"ticks\":\"\"},\"colorscale\":[[0.0,\"#0d0887\"],[0.1111111111111111,\"#46039f\"],[0.2222222222222222,\"#7201a8\"],[0.3333333333333333,\"#9c179e\"],[0.4444444444444444,\"#bd3786\"],[0.5555555555555556,\"#d8576b\"],[0.6666666666666666,\"#ed7953\"],[0.7777777777777778,\"#fb9f3a\"],[0.8888888888888888,\"#fdca26\"],[1.0,\"#f0f921\"]],\"type\":\"histogram2dcontour\"}],\"mesh3d\":[{\"colorbar\":{\"outlinewidth\":0,\"ticks\":\"\"},\"type\":\"mesh3d\"}],\"parcoords\":[{\"line\":{\"colorbar\":{\"outlinewidth\":0,\"ticks\":\"\"}},\"type\":\"parcoords\"}],\"pie\":[{\"automargin\":true,\"type\":\"pie\"}],\"scatter\":[{\"marker\":{\"colorbar\":{\"outlinewidth\":0,\"ticks\":\"\"}},\"type\":\"scatter\"}],\"scatter3d\":[{\"line\":{\"colorbar\":{\"outlinewidth\":0,\"ticks\":\"\"}},\"marker\":{\"colorbar\":{\"outlinewidth\":0,\"ticks\":\"\"}},\"type\":\"scatter3d\"}],\"scattercarpet\":[{\"marker\":{\"colorbar\":{\"outlinewidth\":0,\"ticks\":\"\"}},\"type\":\"scattercarpet\"}],\"scattergeo\":[{\"marker\":{\"colorbar\":{\"outlinewidth\":0,\"ticks\":\"\"}},\"type\":\"scattergeo\"}],\"scattergl\":[{\"marker\":{\"colorbar\":{\"outlinewidth\":0,\"ticks\":\"\"}},\"type\":\"scattergl\"}],\"scattermapbox\":[{\"marker\":{\"colorbar\":{\"outlinewidth\":0,\"ticks\":\"\"}},\"type\":\"scattermapbox\"}],\"scatterpolar\":[{\"marker\":{\"colorbar\":{\"outlinewidth\":0,\"ticks\":\"\"}},\"type\":\"scatterpolar\"}],\"scatterpolargl\":[{\"marker\":{\"colorbar\":{\"outlinewidth\":0,\"ticks\":\"\"}},\"type\":\"scatterpolargl\"}],\"scatterternary\":[{\"marker\":{\"colorbar\":{\"outlinewidth\":0,\"ticks\":\"\"}},\"type\":\"scatterternary\"}],\"surface\":[{\"colorbar\":{\"outlinewidth\":0,\"ticks\":\"\"},\"colorscale\":[[0.0,\"#0d0887\"],[0.1111111111111111,\"#46039f\"],[0.2222222222222222,\"#7201a8\"],[0.3333333333333333,\"#9c179e\"],[0.4444444444444444,\"#bd3786\"],[0.5555555555555556,\"#d8576b\"],[0.6666666666666666,\"#ed7953\"],[0.7777777777777778,\"#fb9f3a\"],[0.8888888888888888,\"#fdca26\"],[1.0,\"#f0f921\"]],\"type\":\"surface\"}],\"table\":[{\"cells\":{\"fill\":{\"color\":\"#EBF0F8\"},\"line\":{\"color\":\"white\"}},\"header\":{\"fill\":{\"color\":\"#C8D4E3\"},\"line\":{\"color\":\"white\"}},\"type\":\"table\"}]},\"layout\":{\"annotationdefaults\":{\"arrowcolor\":\"#2a3f5f\",\"arrowhead\":0,\"arrowwidth\":1},\"autotypenumbers\":\"strict\",\"coloraxis\":{\"colorbar\":{\"outlinewidth\":0,\"ticks\":\"\"}},\"colorscale\":{\"diverging\":[[0,\"#8e0152\"],[0.1,\"#c51b7d\"],[0.2,\"#de77ae\"],[0.3,\"#f1b6da\"],[0.4,\"#fde0ef\"],[0.5,\"#f7f7f7\"],[0.6,\"#e6f5d0\"],[0.7,\"#b8e186\"],[0.8,\"#7fbc41\"],[0.9,\"#4d9221\"],[1,\"#276419\"]],\"sequential\":[[0.0,\"#0d0887\"],[0.1111111111111111,\"#46039f\"],[0.2222222222222222,\"#7201a8\"],[0.3333333333333333,\"#9c179e\"],[0.4444444444444444,\"#bd3786\"],[0.5555555555555556,\"#d8576b\"],[0.6666666666666666,\"#ed7953\"],[0.7777777777777778,\"#fb9f3a\"],[0.8888888888888888,\"#fdca26\"],[1.0,\"#f0f921\"]],\"sequentialminus\":[[0.0,\"#0d0887\"],[0.1111111111111111,\"#46039f\"],[0.2222222222222222,\"#7201a8\"],[0.3333333333333333,\"#9c179e\"],[0.4444444444444444,\"#bd3786\"],[0.5555555555555556,\"#d8576b\"],[0.6666666666666666,\"#ed7953\"],[0.7777777777777778,\"#fb9f3a\"],[0.8888888888888888,\"#fdca26\"],[1.0,\"#f0f921\"]]},\"colorway\":[\"#636efa\",\"#EF553B\",\"#00cc96\",\"#ab63fa\",\"#FFA15A\",\"#19d3f3\",\"#FF6692\",\"#B6E880\",\"#FF97FF\",\"#FECB52\"],\"font\":{\"color\":\"#2a3f5f\"},\"geo\":{\"bgcolor\":\"white\",\"lakecolor\":\"white\",\"landcolor\":\"#E5ECF6\",\"showlakes\":true,\"showland\":true,\"subunitcolor\":\"white\"},\"hoverlabel\":{\"align\":\"left\"},\"hovermode\":\"closest\",\"mapbox\":{\"style\":\"light\"},\"paper_bgcolor\":\"white\",\"plot_bgcolor\":\"#E5ECF6\",\"polar\":{\"angularaxis\":{\"gridcolor\":\"white\",\"linecolor\":\"white\",\"ticks\":\"\"},\"bgcolor\":\"#E5ECF6\",\"radialaxis\":{\"gridcolor\":\"white\",\"linecolor\":\"white\",\"ticks\":\"\"}},\"scene\":{\"xaxis\":{\"backgroundcolor\":\"#E5ECF6\",\"gridcolor\":\"white\",\"gridwidth\":2,\"linecolor\":\"white\",\"showbackground\":true,\"ticks\":\"\",\"zerolinecolor\":\"white\"},\"yaxis\":{\"backgroundcolor\":\"#E5ECF6\",\"gridcolor\":\"white\",\"gridwidth\":2,\"linecolor\":\"white\",\"showbackground\":true,\"ticks\":\"\",\"zerolinecolor\":\"white\"},\"zaxis\":{\"backgroundcolor\":\"#E5ECF6\",\"gridcolor\":\"white\",\"gridwidth\":2,\"linecolor\":\"white\",\"showbackground\":true,\"ticks\":\"\",\"zerolinecolor\":\"white\"}},\"shapedefaults\":{\"line\":{\"color\":\"#2a3f5f\"}},\"ternary\":{\"aaxis\":{\"gridcolor\":\"white\",\"linecolor\":\"white\",\"ticks\":\"\"},\"baxis\":{\"gridcolor\":\"white\",\"linecolor\":\"white\",\"ticks\":\"\"},\"bgcolor\":\"#E5ECF6\",\"caxis\":{\"gridcolor\":\"white\",\"linecolor\":\"white\",\"ticks\":\"\"}},\"title\":{\"x\":0.05},\"xaxis\":{\"automargin\":true,\"gridcolor\":\"white\",\"linecolor\":\"white\",\"ticks\":\"\",\"title\":{\"standoff\":15},\"zerolinecolor\":\"white\",\"zerolinewidth\":2},\"yaxis\":{\"automargin\":true,\"gridcolor\":\"white\",\"linecolor\":\"white\",\"ticks\":\"\",\"title\":{\"standoff\":15},\"zerolinecolor\":\"white\",\"zerolinewidth\":2}}},\"xaxis\":{\"anchor\":\"y\",\"domain\":[0.0,1.0],\"title\":{\"text\":\"year\"}},\"yaxis\":{\"anchor\":\"x\",\"domain\":[0.0,1.0],\"title\":{\"text\":\"used\"}},\"legend\":{\"tracegroupgap\":0},\"margin\":{\"t\":60},\"barmode\":\"relative\"},                        {\"responsive\": true}                    ).then(function(){\n",
       "                            \n",
       "var gd = document.getElementById('c36299ee-b827-41e6-9bcf-515a3a047d06');\n",
       "var x = new MutationObserver(function (mutations, observer) {{\n",
       "        var display = window.getComputedStyle(gd).display;\n",
       "        if (!display || display === 'none') {{\n",
       "            console.log([gd, 'removed!']);\n",
       "            Plotly.purge(gd);\n",
       "            observer.disconnect();\n",
       "        }}\n",
       "}});\n",
       "\n",
       "// Listen for the removal of the full notebook cells\n",
       "var notebookContainer = gd.closest('#notebook-container');\n",
       "if (notebookContainer) {{\n",
       "    x.observe(notebookContainer, {childList: true});\n",
       "}}\n",
       "\n",
       "// Listen for the clearing of the current output cell\n",
       "var outputEl = gd.closest('.output');\n",
       "if (outputEl) {{\n",
       "    x.observe(outputEl, {childList: true});\n",
       "}}\n",
       "\n",
       "                        })                };                });            </script>        </div>"
      ]
     },
     "metadata": {},
     "output_type": "display_data"
    }
   ],
   "source": [
    "px.bar(year_df[year_df.year.gt(1980) & year_df.year.lt(2023)], x=\"year\", y=\"used\")"
   ]
  }
 ],
 "metadata": {
  "kernelspec": {
   "display_name": "Python [conda env:eestats]",
   "language": "python",
   "name": "conda-env-eestats-py"
  },
  "language_info": {
   "codemirror_mode": {
    "name": "ipython",
    "version": 3
   },
   "file_extension": ".py",
   "mimetype": "text/x-python",
   "name": "python",
   "nbconvert_exporter": "python",
   "pygments_lexer": "ipython3",
   "version": "3.10.2"
  },
  "toc": {
   "base_numbering": 1,
   "nav_menu": {},
   "number_sections": true,
   "sideBar": true,
   "skip_h1_title": false,
   "title_cell": "Table of Contents",
   "title_sidebar": "Contents",
   "toc_cell": false,
   "toc_position": {},
   "toc_section_display": true,
   "toc_window_display": false
  }
 },
 "nbformat": 4,
 "nbformat_minor": 5
}
