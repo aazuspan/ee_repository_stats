{
 "cells": [
  {
   "cell_type": "markdown",
   "id": "66d021fc",
   "metadata": {},
   "source": [
    "# Scraping Repositories\n",
    "\n",
    "Before we can analyse public Earth Engine repositories, we need to download them. We'll use `git clone` to download a local copy of every GEE repository."
   ]
  },
  {
   "cell_type": "code",
   "execution_count": 1,
   "id": "c309e3bf",
   "metadata": {},
   "outputs": [],
   "source": [
    "import requests\n",
    "import json\n",
    "import os\n",
    "from tqdm.auto import tqdm\n",
    "import pandas as pd"
   ]
  },
  {
   "cell_type": "markdown",
   "id": "ca2d0978",
   "metadata": {},
   "source": [
    "## Repository Stats\n",
    "\n",
    "You can download a JSON directory of repositories from [here](https://earthengine.googlesource.com/?format=JSON). We'll use that to get the name and URL of the repositories we need to grab."
   ]
  },
  {
   "cell_type": "code",
   "execution_count": 4,
   "id": "2e3929b2",
   "metadata": {},
   "outputs": [],
   "source": [
    "directory_path = os.path.join(\"..\", \"data\", \"directory.json\")\n",
    "\n",
    "with open(directory_path) as src:\n",
    "    directory = json.load(src)\n",
    "\n",
    "repos = list(directory.keys())"
   ]
  },
  {
   "cell_type": "markdown",
   "id": "305535b7",
   "metadata": {},
   "source": [
    "How many public GEE repositories are there?"
   ]
  },
  {
   "cell_type": "code",
   "execution_count": 5,
   "id": "0132174a",
   "metadata": {},
   "outputs": [
    {
     "data": {
      "text/plain": [
       "11175"
      ]
     },
     "execution_count": 5,
     "metadata": {},
     "output_type": "execute_result"
    }
   ],
   "source": [
    "len(repos)"
   ]
  },
  {
   "cell_type": "markdown",
   "id": "7da664ad",
   "metadata": {},
   "source": [
    "How about how many unique users? First, let's just select repos that begin with `users/`, which excludes official examples."
   ]
  },
  {
   "cell_type": "code",
   "execution_count": 6,
   "id": "67ec32c1",
   "metadata": {},
   "outputs": [],
   "source": [
    "user_repos = [repo for repo in repos if repo.startswith(\"users/\")]"
   ]
  },
  {
   "cell_type": "markdown",
   "id": "e0fa84d1",
   "metadata": {},
   "source": [
    "Now let's parse the usernames from the repository names. We'll use a `set` to remove duplicates from users who have multiple public repos."
   ]
  },
  {
   "cell_type": "code",
   "execution_count": 8,
   "id": "2353d2c6",
   "metadata": {},
   "outputs": [],
   "source": [
    "usernames = {repo.split(\"/\")[1] for repo in user_repos}\n",
    "n_users = len(usernames)"
   ]
  },
  {
   "cell_type": "code",
   "execution_count": 9,
   "id": "28b0bec0",
   "metadata": {},
   "outputs": [
    {
     "name": "stdout",
     "output_type": "stream",
     "text": [
      "There are 8344 unique users with public GEE repositories!\n"
     ]
    }
   ],
   "source": [
    "print(f\"There are {n_users} unique users with public GEE repositories!\")"
   ]
  },
  {
   "cell_type": "markdown",
   "id": "b8f190c9",
   "metadata": {},
   "source": [
    "## Cloning Repositories\n",
    "\n",
    "To do a deeper analysis, we'll need to download every public repository. The `directory.json` file contains the URL of each repository, which we'll use to `git clone` a local copy."
   ]
  },
  {
   "cell_type": "code",
   "execution_count": 16,
   "id": "90fbd567",
   "metadata": {},
   "outputs": [],
   "source": [
    "clone_urls = {repo[\"name\"]:repo[\"clone_url\"] for repo in directory.values()}"
   ]
  },
  {
   "cell_type": "code",
   "execution_count": 36,
   "id": "ba379c04",
   "metadata": {},
   "outputs": [],
   "source": [
    "def clone_repository(name, url):\n",
    "    path = os.path.join(repo_dir, name)\n",
    "    \n",
    "    # If path already exists, skip cloning\n",
    "    if os.path.exists(path):\n",
    "        return\n",
    "    \n",
    "    os.makedirs(path)\n",
    "    os.system(f'git clone \"{url}\" \"{path}\"')"
   ]
  },
  {
   "cell_type": "markdown",
   "id": "a34c3426",
   "metadata": {},
   "source": [
    "This will take some time (about 8 hours on my laptop) and download 10+ gb of data."
   ]
  },
  {
   "cell_type": "code",
   "execution_count": 1,
   "id": "894fee83",
   "metadata": {
    "ExecuteTime": {
     "end_time": "2022-03-06T05:12:48.605998Z",
     "start_time": "2022-03-06T05:12:48.391691Z"
    },
    "scrolled": true
   },
   "outputs": [],
   "source": [
    "repo_dir = os.path.join(\"..\", \"data\", \"repos\")\n",
    "\n",
    "for name, url in tqdm(clone_urls.items(), desc=\"Cloning\"):\n",
    "    try:\n",
    "        clone_repository(name, url)\n",
    "    # Some repositories contain files with invalid filenames. Skip those files.\n",
    "    except Exception as e:\n",
    "        pass"
   ]
  }
 ],
 "metadata": {
  "kernelspec": {
   "display_name": "Python [conda env:eestats]",
   "language": "python",
   "name": "conda-env-eestats-py"
  },
  "language_info": {
   "codemirror_mode": {
    "name": "ipython",
    "version": 3
   },
   "file_extension": ".py",
   "mimetype": "text/x-python",
   "name": "python",
   "nbconvert_exporter": "python",
   "pygments_lexer": "ipython3",
   "version": "3.10.2"
  },
  "toc": {
   "base_numbering": 1,
   "nav_menu": {},
   "number_sections": true,
   "sideBar": true,
   "skip_h1_title": false,
   "title_cell": "Table of Contents",
   "title_sidebar": "Contents",
   "toc_cell": false,
   "toc_position": {},
   "toc_section_display": true,
   "toc_window_display": false
  }
 },
 "nbformat": 4,
 "nbformat_minor": 5
}
